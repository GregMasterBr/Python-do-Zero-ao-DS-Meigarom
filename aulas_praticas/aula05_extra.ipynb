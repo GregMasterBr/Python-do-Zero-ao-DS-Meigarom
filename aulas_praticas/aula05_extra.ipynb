{
 "cells": [
  {
   "cell_type": "code",
   "execution_count": 1,
   "metadata": {
    "ExecuteTime": {
     "end_time": "2021-02-15T01:40:39.667268Z",
     "start_time": "2021-02-15T01:40:37.881754Z"
    }
   },
   "outputs": [],
   "source": [
    "# Libraries\n",
    "import pandas as pd\n",
    "import ipywidgets as widgets\n",
    "from ipywidgets import fixed\n",
    "import plotly.express as px"
   ]
  },
  {
   "cell_type": "code",
   "execution_count": 2,
   "metadata": {
    "ExecuteTime": {
     "end_time": "2021-02-15T01:40:41.231154Z",
     "start_time": "2021-02-15T01:40:41.221152Z"
    }
   },
   "outputs": [],
   "source": [
    "# Functions\n",
    "def data_collect( path ):\n",
    "    # Function 1\n",
    "    # load dataset\n",
    "    data = pd.read_csv( path)\n",
    "\n",
    "    return data"
   ]
  },
  {
   "cell_type": "code",
   "execution_count": 3,
   "metadata": {
    "ExecuteTime": {
     "end_time": "2021-02-15T01:40:42.444833Z",
     "start_time": "2021-02-15T01:40:42.422831Z"
    }
   },
   "outputs": [],
   "source": [
    "def data_transform( data ):\n",
    "    # Function 2: Criar colunas com determinadas condições:\n",
    "    data['level'] = data['price'].apply( lambda x:0 if x< 321950 else\n",
    "                                              1 if( x > 321950) & ( x < 450000) else\n",
    "                                              2 if( x > 450000) & ( x < 645000) else 3)\n",
    "\n",
    "    data['condition_type'] = data['condition'].apply( lambda x: 'bad' if x <= 2  else\n",
    "                                                                'good' if x == 5 else\n",
    "                                                                'regular' )\n",
    "    \n",
    "    return data \n"
   ]
  },
  {
   "cell_type": "code",
   "execution_count": 4,
   "metadata": {
    "ExecuteTime": {
     "end_time": "2021-02-15T01:40:44.211315Z",
     "start_time": "2021-02-15T01:40:44.191323Z"
    }
   },
   "outputs": [],
   "source": [
    "def data_load( data, living_room_limit, minimum_bathrooms_limit, maximum_price_limit, maximum_basement_area_size_limit,\n",
    "               condition_type_defined, yr_built_select_defined):\n",
    "   \n",
    "    # Function 4: Definindo filtros e plotando o mapa:\n",
    "    houses = data[(data['sqft_living'] <= living_room_limit) & \n",
    "                  (data['bathrooms'] <= minimum_bathrooms_limit) &\n",
    "                  (data['price'] <= maximum_price_limit) &\n",
    "                  (data['sqft_basement'] <= maximum_basement_area_size_limit) &\n",
    "                  (data['condition_type'] == condition_type_defined) &\n",
    "                  (data['yr_built'] == yr_built_select_defined)]\n",
    "    # plotando o gráfico\n",
    "    fig = px.scatter_mapbox(houses,\n",
    "                            lat='lat',\n",
    "                            lon='long',\n",
    "                            color='level',\n",
    "                            size='price',\n",
    "                            color_continuous_scale=px.colors.cyclical.IceFire,\n",
    "                            size_max=15,\n",
    "                            zoom=10 )\n",
    "                        \n",
    "    fig.update_layout( mapbox_style='open-street-map')\n",
    "    fig.update_layout( height=600, margin={'r':0, 't':0, 'l':0, 'b':0})\n",
    "    fig.show()\n",
    "\n",
    "   \n",
    "    # return None    \n"
   ]
  },
  {
   "cell_type": "code",
   "execution_count": 5,
   "metadata": {
    "ExecuteTime": {
     "end_time": "2021-02-15T01:41:22.271701Z",
     "start_time": "2021-02-15T01:41:19.639949Z"
    }
   },
   "outputs": [
    {
     "name": "stdout",
     "output_type": "stream",
     "text": [
      "teste\n"
     ]
    },
    {
     "data": {
      "application/vnd.jupyter.widget-view+json": {
       "model_id": "e97cb9f986ba481bae631dacc799d201",
       "version_major": 2,
       "version_minor": 0
      },
      "text/plain": [
       "interactive(children=(IntSlider(value=13540, description='Minimum living size', max=13540, min=290, style=Slid…"
      ]
     },
     "metadata": {},
     "output_type": "display_data"
    }
   ],
   "source": [
    "def main():\n",
    "    print(\"teste\")\n",
    "    # ETL\n",
    "    \n",
    "    # Collect\n",
    "    #Function 1\n",
    "    data_raw = data_collect('ds\\kc_house_data.csv')\n",
    "    \n",
    "    \n",
    "    # Transform\n",
    "    data_processing = data_transform( data_raw)\n",
    "    \n",
    "\n",
    "    # Function 3: Criar botões iterativos para o mapa:\n",
    "    style = {'description_width': 'initial'}\n",
    "\n",
    "     # Iterative buttons 1\n",
    "    living_room_size = widgets.IntSlider(\n",
    "        value = 13540,\n",
    "        min = 290,\n",
    "        max = 13540,\n",
    "        step = 1,\n",
    "        description='Minimum living size',\n",
    "        disable=False,\n",
    "        style = style)\n",
    "\n",
    "    # Iterative buttons 2\n",
    "    minimum_bathrooms = widgets.IntSlider(\n",
    "        value = 8,\n",
    "        min = 0,\n",
    "        max = 8,\n",
    "        step = 1,\n",
    "        description='Minimum number of bathrooms',\n",
    "        disable=False,\n",
    "        style = style)\n",
    "\n",
    "    # Iterative buttons 3\n",
    "    maximum_price = widgets.IntSlider(\n",
    "        value = 7700000,\n",
    "        min = 75000,\n",
    "        max = 7700000,\n",
    "        step = 1,\n",
    "        description='Maximum price',\n",
    "        disable=False,\n",
    "        style = style)\n",
    "\n",
    "    # Iterative buttons 4\n",
    "    maximum_basement_area_size = widgets.IntSlider(\n",
    "        value = 4820,\n",
    "        min = 0,\n",
    "        max = 4820,\n",
    "        step = 1,\n",
    "        description='Maximum basement area size',\n",
    "        disable=False,\n",
    "        style = style)\n",
    "\n",
    "    # Iterative buttons 5\n",
    "    condition_type = widgets.Dropdown(\n",
    "        options= data_processing['condition_type'].unique().tolist(),\n",
    "        value='good',\n",
    "        description='Condition',\n",
    "        disable=False)\n",
    "\n",
    "    # Iterative buttons 6\n",
    "    yr_built_select = widgets.Dropdown(\n",
    "        options= data_processing['yr_built'].unique().tolist(),\n",
    "        value=1900,\n",
    "        description='Yr_built',\n",
    "        disable=False)\n",
    " \n",
    "    \n",
    "    # Load\n",
    "\n",
    "    \n",
    "    # Function 5: Mostrando os botões com os filtros definidos: \n",
    "    \n",
    "    widgets.interact(data_load, data=fixed(data_processing), living_room_limit=living_room_size, \n",
    "                     minimum_bathrooms_limit=minimum_bathrooms, maximum_price_limit=maximum_price, \n",
    "                     maximum_basement_area_size_limit=maximum_basement_area_size,   \n",
    "                     condition_type_defined=condition_type, yr_built_select_defined=yr_built_select) \n",
    "    \n",
    "    \n",
    "main()\n",
    "    "
   ]
  },
  {
   "cell_type": "code",
   "execution_count": null,
   "metadata": {},
   "outputs": [],
   "source": []
  }
 ],
 "metadata": {
  "kernelspec": {
   "display_name": "Python 3",
   "language": "python",
   "name": "python3"
  },
  "language_info": {
   "codemirror_mode": {
    "name": "ipython",
    "version": 3
   },
   "file_extension": ".py",
   "mimetype": "text/x-python",
   "name": "python",
   "nbconvert_exporter": "python",
   "pygments_lexer": "ipython3",
   "version": "3.8.5"
  },
  "toc": {
   "base_numbering": 1,
   "nav_menu": {},
   "number_sections": true,
   "sideBar": true,
   "skip_h1_title": false,
   "title_cell": "Table of Contents",
   "title_sidebar": "Contents",
   "toc_cell": false,
   "toc_position": {},
   "toc_section_display": true,
   "toc_window_display": false
  }
 },
 "nbformat": 4,
 "nbformat_minor": 2
}
