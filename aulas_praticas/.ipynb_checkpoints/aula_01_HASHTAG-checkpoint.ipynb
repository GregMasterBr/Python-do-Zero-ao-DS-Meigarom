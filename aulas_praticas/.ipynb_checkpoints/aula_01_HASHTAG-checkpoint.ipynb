{
 "cells": [
  {
   "cell_type": "code",
   "execution_count": 1,
   "metadata": {
    "ExecuteTime": {
     "end_time": "2021-02-09T00:16:33.267697Z",
     "start_time": "2021-02-09T00:16:08.147536Z"
    }
   },
   "outputs": [
    {
     "data": {
      "text/html": [
       "<div>\n",
       "<style scoped>\n",
       "    .dataframe tbody tr th:only-of-type {\n",
       "        vertical-align: middle;\n",
       "    }\n",
       "\n",
       "    .dataframe tbody tr th {\n",
       "        vertical-align: top;\n",
       "    }\n",
       "\n",
       "    .dataframe thead th {\n",
       "        text-align: right;\n",
       "    }\n",
       "</style>\n",
       "<table border=\"1\" class=\"dataframe\">\n",
       "  <thead>\n",
       "    <tr style=\"text-align: right;\">\n",
       "      <th></th>\n",
       "      <th>Código Venda</th>\n",
       "      <th>Data</th>\n",
       "      <th>ID Loja</th>\n",
       "      <th>Produto</th>\n",
       "      <th>Quantidade</th>\n",
       "      <th>Valor Unitário</th>\n",
       "      <th>Valor Final</th>\n",
       "    </tr>\n",
       "  </thead>\n",
       "  <tbody>\n",
       "    <tr>\n",
       "      <th>0</th>\n",
       "      <td>1</td>\n",
       "      <td>2019-01-01</td>\n",
       "      <td>Iguatemi Esplanada</td>\n",
       "      <td>Sapato Estampa</td>\n",
       "      <td>1</td>\n",
       "      <td>358</td>\n",
       "      <td>358</td>\n",
       "    </tr>\n",
       "    <tr>\n",
       "      <th>1</th>\n",
       "      <td>1</td>\n",
       "      <td>2019-01-01</td>\n",
       "      <td>Iguatemi Esplanada</td>\n",
       "      <td>Camiseta</td>\n",
       "      <td>2</td>\n",
       "      <td>180</td>\n",
       "      <td>360</td>\n",
       "    </tr>\n",
       "    <tr>\n",
       "      <th>2</th>\n",
       "      <td>1</td>\n",
       "      <td>2019-01-01</td>\n",
       "      <td>Iguatemi Esplanada</td>\n",
       "      <td>Sapato Xadrez</td>\n",
       "      <td>1</td>\n",
       "      <td>368</td>\n",
       "      <td>368</td>\n",
       "    </tr>\n",
       "    <tr>\n",
       "      <th>3</th>\n",
       "      <td>2</td>\n",
       "      <td>2019-01-02</td>\n",
       "      <td>Norte Shopping</td>\n",
       "      <td>Relógio</td>\n",
       "      <td>3</td>\n",
       "      <td>200</td>\n",
       "      <td>600</td>\n",
       "    </tr>\n",
       "    <tr>\n",
       "      <th>4</th>\n",
       "      <td>2</td>\n",
       "      <td>2019-01-02</td>\n",
       "      <td>Norte Shopping</td>\n",
       "      <td>Chinelo Liso</td>\n",
       "      <td>1</td>\n",
       "      <td>71</td>\n",
       "      <td>71</td>\n",
       "    </tr>\n",
       "  </tbody>\n",
       "</table>\n",
       "</div>"
      ],
      "text/plain": [
       "   Código Venda       Data             ID Loja         Produto  Quantidade  \\\n",
       "0             1 2019-01-01  Iguatemi Esplanada  Sapato Estampa           1   \n",
       "1             1 2019-01-01  Iguatemi Esplanada        Camiseta           2   \n",
       "2             1 2019-01-01  Iguatemi Esplanada   Sapato Xadrez           1   \n",
       "3             2 2019-01-02      Norte Shopping         Relógio           3   \n",
       "4             2 2019-01-02      Norte Shopping    Chinelo Liso           1   \n",
       "\n",
       "   Valor Unitário  Valor Final  \n",
       "0             358          358  \n",
       "1             180          360  \n",
       "2             368          368  \n",
       "3             200          600  \n",
       "4              71           71  "
      ]
     },
     "execution_count": 1,
     "metadata": {},
     "output_type": "execute_result"
    }
   ],
   "source": [
    "import pandas as pd\n",
    "tabela_vendas = pd.read_excel('aula_1/Vendas.xlsx')\n",
    "tabela_vendas.head()"
   ]
  },
  {
   "cell_type": "code",
   "execution_count": 13,
   "metadata": {
    "ExecuteTime": {
     "end_time": "2021-02-09T00:23:04.386033Z",
     "start_time": "2021-02-09T00:23:04.276743Z"
    }
   },
   "outputs": [],
   "source": [
    "resultado = tabela_vendas[['ID Loja','Quantidade','Valor Final']].groupby('ID Loja').sum().reset_index()"
   ]
  },
  {
   "cell_type": "code",
   "execution_count": 14,
   "metadata": {
    "ExecuteTime": {
     "end_time": "2021-02-09T00:23:06.760871Z",
     "start_time": "2021-02-09T00:23:06.751849Z"
    }
   },
   "outputs": [],
   "source": [
    "resultado['ticket'] = 0"
   ]
  },
  {
   "cell_type": "code",
   "execution_count": 21,
   "metadata": {
    "ExecuteTime": {
     "end_time": "2021-02-09T00:46:44.913736Z",
     "start_time": "2021-02-09T00:46:44.772737Z"
    }
   },
   "outputs": [],
   "source": [
    "for i in range(len (resultado)):\n",
    "    resultado.loc[i,'ticket'] = (resultado.loc[i,'Valor Final'] / resultado.loc[i,'Quantidade'])\n",
    "#resultado.head(25)\n",
    "resultado.to_excel('aula_1/estudo_vendas2019.xlsx')\n",
    "#resultado.to_html('aula_1/estudo_vendas2019.html')\n"
   ]
  },
  {
   "cell_type": "code",
   "execution_count": 25,
   "metadata": {
    "ExecuteTime": {
     "end_time": "2021-02-09T01:08:51.273625Z",
     "start_time": "2021-02-09T01:08:51.250627Z"
    }
   },
   "outputs": [
    {
     "data": {
      "text/html": [
       "<div>\n",
       "<style scoped>\n",
       "    .dataframe tbody tr th:only-of-type {\n",
       "        vertical-align: middle;\n",
       "    }\n",
       "\n",
       "    .dataframe tbody tr th {\n",
       "        vertical-align: top;\n",
       "    }\n",
       "\n",
       "    .dataframe thead th {\n",
       "        text-align: right;\n",
       "    }\n",
       "</style>\n",
       "<table border=\"1\" class=\"dataframe\">\n",
       "  <thead>\n",
       "    <tr style=\"text-align: right;\">\n",
       "      <th></th>\n",
       "      <th>ID Loja</th>\n",
       "      <th>Quantidade</th>\n",
       "      <th>Valor Final</th>\n",
       "      <th>ticket</th>\n",
       "    </tr>\n",
       "  </thead>\n",
       "  <tbody>\n",
       "    <tr>\n",
       "      <th>0</th>\n",
       "      <td>Bourbon Shopping SP</td>\n",
       "      <td>8863</td>\n",
       "      <td>1726110</td>\n",
       "      <td>194.754598</td>\n",
       "    </tr>\n",
       "    <tr>\n",
       "      <th>1</th>\n",
       "      <td>Center Shopping Uberlândia</td>\n",
       "      <td>8627</td>\n",
       "      <td>1668921</td>\n",
       "      <td>193.453228</td>\n",
       "    </tr>\n",
       "    <tr>\n",
       "      <th>2</th>\n",
       "      <td>Iguatemi Campinas</td>\n",
       "      <td>8935</td>\n",
       "      <td>1762419</td>\n",
       "      <td>197.248909</td>\n",
       "    </tr>\n",
       "    <tr>\n",
       "      <th>3</th>\n",
       "      <td>Iguatemi Esplanada</td>\n",
       "      <td>8580</td>\n",
       "      <td>1699681</td>\n",
       "      <td>198.098019</td>\n",
       "    </tr>\n",
       "    <tr>\n",
       "      <th>4</th>\n",
       "      <td>Norte Shopping</td>\n",
       "      <td>9014</td>\n",
       "      <td>1711968</td>\n",
       "      <td>189.923231</td>\n",
       "    </tr>\n",
       "  </tbody>\n",
       "</table>\n",
       "</div>"
      ],
      "text/plain": [
       "                      ID Loja  Quantidade  Valor Final      ticket\n",
       "0         Bourbon Shopping SP        8863      1726110  194.754598\n",
       "1  Center Shopping Uberlândia        8627      1668921  193.453228\n",
       "2           Iguatemi Campinas        8935      1762419  197.248909\n",
       "3          Iguatemi Esplanada        8580      1699681  198.098019\n",
       "4              Norte Shopping        9014      1711968  189.923231"
      ]
     },
     "execution_count": 25,
     "metadata": {},
     "output_type": "execute_result"
    }
   ],
   "source": [
    "resultado.head()"
   ]
  },
  {
   "cell_type": "code",
   "execution_count": 44,
   "metadata": {
    "ExecuteTime": {
     "end_time": "2021-02-09T01:50:31.811164Z",
     "start_time": "2021-02-09T01:50:31.795175Z"
    }
   },
   "outputs": [
    {
     "data": {
      "text/plain": [
       "['Bourbon Shopping SP',\n",
       " 'Center Shopping Uberlândia',\n",
       " 'Iguatemi Campinas',\n",
       " 'Iguatemi Esplanada',\n",
       " 'Norte Shopping',\n",
       " 'Novo Shopping Ribeirão Preto',\n",
       " 'Palladium Shopping Curitiba',\n",
       " 'Parque Dom Pedro Shopping',\n",
       " 'Passei das Águas Shopping',\n",
       " 'Ribeirão Shopping',\n",
       " 'Rio Mar Recife',\n",
       " 'Rio Mar Shopping Fortaleza',\n",
       " 'Salvador Shopping',\n",
       " 'Shopping Barra',\n",
       " 'Shopping Center Interlagos',\n",
       " 'Shopping Center Leste Aricanduva',\n",
       " 'Shopping Eldorado',\n",
       " 'Shopping Ibirapuera',\n",
       " 'Shopping Iguatemi Fortaleza',\n",
       " 'Shopping Midway Mall',\n",
       " 'Shopping Morumbi',\n",
       " 'Shopping Recife',\n",
       " 'Shopping SP Market',\n",
       " 'Shopping União de Osasco',\n",
       " 'Shopping Vila Velha']"
      ]
     },
     "execution_count": 44,
     "metadata": {},
     "output_type": "execute_result"
    }
   ],
   "source": [
    "lojas = resultado['ID Loja'].tolist()\n",
    "lojas"
   ]
  },
  {
   "cell_type": "code",
   "execution_count": 47,
   "metadata": {
    "ExecuteTime": {
     "end_time": "2021-02-09T02:36:08.439687Z",
     "start_time": "2021-02-09T02:36:08.429690Z"
    }
   },
   "outputs": [
    {
     "name": "stdout",
     "output_type": "stream",
     "text": [
      "ID Loja\n",
      "Quantidade\n",
      "Valor Final\n",
      "ticket\n"
     ]
    }
   ],
   "source": [
    "for loja in resultado:\n",
    "    print (loja)\n",
    "    #if loja in resultado['ID Loja']:\n",
    "        #tabela_loja = resultado.loc[loja]\n",
    "        "
   ]
  },
  {
   "cell_type": "code",
   "execution_count": 50,
   "metadata": {
    "ExecuteTime": {
     "end_time": "2021-02-09T02:36:41.467894Z",
     "start_time": "2021-02-09T02:36:41.449883Z"
    }
   },
   "outputs": [
    {
     "data": {
      "text/plain": [
       "25"
      ]
     },
     "execution_count": 50,
     "metadata": {},
     "output_type": "execute_result"
    }
   ],
   "source": [
    "len (resultado)"
   ]
  },
  {
   "cell_type": "raw",
   "metadata": {},
   "source": []
  }
 ],
 "metadata": {
  "kernelspec": {
   "display_name": "Python 3",
   "language": "python",
   "name": "python3"
  },
  "language_info": {
   "codemirror_mode": {
    "name": "ipython",
    "version": 3
   },
   "file_extension": ".py",
   "mimetype": "text/x-python",
   "name": "python",
   "nbconvert_exporter": "python",
   "pygments_lexer": "ipython3",
   "version": "3.8.5"
  },
  "toc": {
   "base_numbering": 1,
   "nav_menu": {},
   "number_sections": true,
   "sideBar": true,
   "skip_h1_title": false,
   "title_cell": "Table of Contents",
   "title_sidebar": "Contents",
   "toc_cell": false,
   "toc_position": {},
   "toc_section_display": true,
   "toc_window_display": false
  }
 },
 "nbformat": 4,
 "nbformat_minor": 4
}
