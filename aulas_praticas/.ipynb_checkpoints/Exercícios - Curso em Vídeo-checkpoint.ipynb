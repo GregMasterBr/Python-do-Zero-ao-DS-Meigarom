{
 "cells": [
  {
   "cell_type": "markdown",
   "metadata": {},
   "source": [
    "## Lista de Exercícios\n"
   ]
  },
  {
   "cell_type": "markdown",
   "metadata": {
    "ExecuteTime": {
     "end_time": "2021-02-08T18:00:03.713796Z",
     "start_time": "2021-02-08T18:00:03.696800Z"
    },
    "heading_collapsed": true
   },
   "source": [
    "### Exerc 1"
   ]
  },
  {
   "cell_type": "code",
   "execution_count": 2,
   "metadata": {
    "ExecuteTime": {
     "end_time": "2021-02-08T18:00:40.749709Z",
     "start_time": "2021-02-08T18:00:40.730714Z"
    },
    "hidden": true
   },
   "outputs": [
    {
     "name": "stdout",
     "output_type": "stream",
     "text": [
      "Hello Greg\n"
     ]
    }
   ],
   "source": [
    "n = \"Greg\"\n",
    "print (f\"Hello {n}\")"
   ]
  },
  {
   "cell_type": "markdown",
   "metadata": {
    "ExecuteTime": {
     "end_time": "2021-02-08T18:01:03.423586Z",
     "start_time": "2021-02-08T18:01:03.407589Z"
    },
    "heading_collapsed": true
   },
   "source": [
    "### Exerc 2\n"
   ]
  },
  {
   "cell_type": "code",
   "execution_count": 6,
   "metadata": {
    "ExecuteTime": {
     "end_time": "2021-02-08T18:01:43.535921Z",
     "start_time": "2021-02-08T18:01:40.622159Z"
    },
    "hidden": true
   },
   "outputs": [
    {
     "name": "stdout",
     "output_type": "stream",
     "text": [
      "Qual o seu nome:Gregorio\n",
      "Seja bem vindo Gregorio ao sistema\n",
      "Seja bem vindo Gregorio ao sistema\n"
     ]
    }
   ],
   "source": [
    "n=input(\"Qual o seu nome:\")\n",
    "\n",
    "print(\"Seja bem vindo\", n,\"ao sistema\")\n",
    "print(\"Seja bem vindo {} ao sistema\".format(n))"
   ]
  },
  {
   "cell_type": "markdown",
   "metadata": {
    "heading_collapsed": true
   },
   "source": [
    "### Exerc 3"
   ]
  },
  {
   "cell_type": "code",
   "execution_count": 9,
   "metadata": {
    "ExecuteTime": {
     "end_time": "2021-02-08T18:03:27.309904Z",
     "start_time": "2021-02-08T18:03:24.247802Z"
    },
    "hidden": true
   },
   "outputs": [
    {
     "name": "stdout",
     "output_type": "stream",
     "text": [
      "Digite um número: 10\n",
      "Digite mais um número: 5\n",
      "[PRINT RAIZ] A soma é:  15\n",
      "[PRINT NUTELLA] A soma é: 15\n",
      "O tipo de dado da variavel S é:  <class 'int'>\n",
      "A soma entre 10 e 5 é= 15\n",
      "A soma entre 10 e 5 é=15 \n",
      "############\n"
     ]
    }
   ],
   "source": [
    "n1= int(input('Digite um número: '))\n",
    "n2=int(input('Digite mais um número: '))\n",
    "s= n1+n2\n",
    "print(\"[PRINT RAIZ] A soma é: \",s)\n",
    "\n",
    "print(\"[PRINT NUTELLA] A soma é: {}\".format(s))\n",
    "\n",
    "print(\"O tipo de dado da variavel S é: \",type(s))\n",
    "\n",
    "#comentário\n",
    "print(\"A soma entre\",n1,\"e\",n2,\"é=\",s)\n",
    "#versão do python 3\n",
    "print(\"A soma entre {} e {} é={} \".format(n1,n2,s))\n",
    "\n",
    "print(\"############\")\n"
   ]
  },
  {
   "cell_type": "markdown",
   "metadata": {
    "ExecuteTime": {
     "end_time": "2021-02-08T18:03:42.915959Z",
     "start_time": "2021-02-08T18:03:42.904935Z"
    },
    "heading_collapsed": true
   },
   "source": [
    "### Exerc 4"
   ]
  },
  {
   "cell_type": "code",
   "execution_count": 11,
   "metadata": {
    "ExecuteTime": {
     "end_time": "2021-02-08T18:04:08.123787Z",
     "start_time": "2021-02-08T18:04:03.989971Z"
    },
    "hidden": true
   },
   "outputs": [
    {
     "name": "stdout",
     "output_type": "stream",
     "text": [
      "Digite aqui:Greg\n",
      "Voce digitou Greg\n",
      "###\n",
      "<class 'str'>\n",
      "True\n",
      "True\n",
      "False\n",
      "False\n",
      "False\n",
      "True\n",
      "True\n",
      "True\n"
     ]
    }
   ],
   "source": [
    "n=input('Digite aqui:')\n",
    "print(\"Voce digitou {}\".format(n))\n",
    "print('###')\n",
    "print(type(n))\n",
    "print(n.isalnum())\n",
    "print(n.isalpha())\n",
    "print(n.isdecimal())\n",
    "print(n.islower())\n",
    "print(n.isupper())\n",
    "print(n.isprintable())\n",
    "print(n.isalnum())\n",
    "print(n.istitle())"
   ]
  },
  {
   "cell_type": "markdown",
   "metadata": {
    "ExecuteTime": {
     "end_time": "2021-02-08T18:04:46.575674Z",
     "start_time": "2021-02-08T18:04:46.559671Z"
    },
    "heading_collapsed": true
   },
   "source": [
    "### Exerc 5"
   ]
  },
  {
   "cell_type": "code",
   "execution_count": 13,
   "metadata": {
    "ExecuteTime": {
     "end_time": "2021-02-08T18:35:46.851451Z",
     "start_time": "2021-02-08T18:35:15.116771Z"
    },
    "hidden": true
   },
   "outputs": [
    {
     "name": "stdout",
     "output_type": "stream",
     "text": [
      "Digite um número: 10\n",
      "Digite mais um número: 5\n",
      "A soma entre 10 e 5 é=15 \n",
      "############\n",
      "A subtração entre 10 e 5 é=5 \n",
      "############\n",
      "A multiplicação entre 10 e 5 é=50 \n",
      "############\n",
      "A divisão entre 10 e 5 é=2.000 \n",
      "############\n",
      "A potencia de 10 elevado 5 é=100000 \n",
      "############\n",
      "A potencia com POW de 5 elevado 10 é=9765625 \n",
      "############\n",
      "A divisão inteira de 10 e 5 é=2 \n",
      "############\n",
      "##########\n",
      "Digite seu nome: GregMaster\n",
      "Prazer em te conhecer GregMaster!\n",
      "##########\n",
      "[ESCREVE COM 20 ESPACO]Prazer em te conhecer GregMaster          !\n",
      "##########\n",
      "[ALINHADO A DIREITA 20 ESPACO]Prazer em te conhecer           GregMaster!\n",
      "##########\n",
      "[ALINHADO A ESQUERDA 20 ESPACO]Prazer em te conhecer GregMaster          !\n",
      "##########\n",
      "[CENTRALIZADO]Prazer em te conhecer      GregMaster     !\n",
      "##########\n",
      "[CENTRALIZADO COM UM SIMBOLO]Prazer em te conhecer =====GregMaster=====!\n",
      "Não vou deixar quebrar a linha. o barra n deixa quebrar. OLha aqui prazer GregMaster\n",
      " seu lindo do \n",
      " universo. "
     ]
    }
   ],
   "source": [
    "n1= int(input('Digite um número: '))\n",
    "n2=int(input('Digite mais um número: '))\n",
    "\n",
    "print(\"A soma entre {} e {} é={} \".format(n1,n2,n1+n2))\n",
    "print(\"############\")\n",
    "print(\"A subtração entre {} e {} é={} \".format(n1,n2,n1-n2))\n",
    "print(\"############\")\n",
    "print(\"A multiplicação entre {} e {} é={} \".format(n1,n2,n1*n2))\n",
    "print(\"############\")\n",
    "print(\"A divisão entre {} e {} é={:.3f} \".format(n1,n2,n1/n2))\n",
    "print(\"############\")\n",
    "print(\"A potencia de {} elevado {} é={} \".format(n1,n2,n1**n2))\n",
    "print(\"############\")\n",
    "print(\"A potencia com POW de {} elevado {} é={} \".format(n2,n1,pow(n2,n1)))\n",
    "print(\"############\")\n",
    "print(\"A divisão inteira de {} e {} é={} \".format(n1,n2,n1//n2))\n",
    "print(\"############\")\n",
    "print(\"#\"*10)\n",
    "nome= str(input('Digite seu nome: '))\n",
    "print(\"Prazer em te conhecer {}!\".format(nome))\n",
    "print(\"#\"*10)\n",
    "print(\"[ESCREVE COM 20 ESPACO]Prazer em te conhecer {:20}!\".format(nome))\n",
    "print(\"#\"*10)\n",
    "print(\"[ALINHADO A DIREITA 20 ESPACO]Prazer em te conhecer {:>20}!\".format(nome))\n",
    "print(\"#\"*10)\n",
    "print(\"[ALINHADO A ESQUERDA 20 ESPACO]Prazer em te conhecer {:<20}!\".format(nome))\n",
    "print(\"#\"*10)\n",
    "print(\"[CENTRALIZADO]Prazer em te conhecer {:^20}!\".format(nome))\n",
    "print(\"#\"*10)\n",
    "print(\"[CENTRALIZADO COM UM SIMBOLO]Prazer em te conhecer {:=^20}!\".format(nome))\n",
    "print(\"Não vou deixar quebrar a linha.\", end=' ')\n",
    "print(\"o barra n deixa quebrar. OLha aqui prazer {}\\n seu lindo do \\n universo.\".format(nome), end=' ')\n"
   ]
  },
  {
   "cell_type": "markdown",
   "metadata": {
    "heading_collapsed": true
   },
   "source": [
    "### Exerc 6"
   ]
  },
  {
   "cell_type": "code",
   "execution_count": 14,
   "metadata": {
    "ExecuteTime": {
     "end_time": "2021-02-08T18:37:31.002795Z",
     "start_time": "2021-02-08T18:37:20.795392Z"
    },
    "hidden": true
   },
   "outputs": [
    {
     "name": "stdout",
     "output_type": "stream",
     "text": [
      "Programa Leia um NÚMERO e exiba seu sucessor e antecessor\n",
      "Digite um número:49\n",
      "¨¨¨¨¨¨¨¨¨¨¨¨¨¨¨¨¨¨¨¨¨¨¨¨¨¨¨¨¨¨¨¨¨¨¨¨¨¨¨¨¨¨¨¨¨¨¨¨¨¨¨¨¨¨¨¨¨¨¨¨\n",
      "Você informou o número 49\n",
      "O número sucessor é 50\n",
      "O número antecessor é 48 "
     ]
    }
   ],
   "source": [
    "print('Programa Leia um NÚMERO e exiba seu sucessor e antecessor')\n",
    "n1 = int(input('Digite um número:'))\n",
    "print('¨¨¨'*20)\n",
    "print('Você informou o número {}\\nO número sucessor é {}\\nO número antecessor é {}'.format(n1,n1+1,n1-1), end=' ')"
   ]
  },
  {
   "cell_type": "markdown",
   "metadata": {},
   "source": [
    "### Exerc 7"
   ]
  },
  {
   "cell_type": "code",
   "execution_count": 15,
   "metadata": {
    "ExecuteTime": {
     "end_time": "2021-02-08T18:38:31.021612Z",
     "start_time": "2021-02-08T18:38:27.570246Z"
    }
   },
   "outputs": [
    {
     "name": "stdout",
     "output_type": "stream",
     "text": [
      "Receba um número e exiba o seu dobro, triplo e raiz quadrada\n",
      "Informe um número:49\n",
      "¨¨¨¨¨¨¨¨¨¨¨¨¨¨¨¨¨¨¨¨¨¨¨¨¨¨¨¨¨¨¨¨¨¨¨¨¨¨¨¨¨¨¨¨¨¨¨¨¨¨¨¨¨¨¨¨¨¨¨¨\n",
      "O dobro de 49 é:98\n",
      "O triplo de 49 é:147\n",
      "[POW] A raiz quadrada de 49 é:7.0\n",
      "A raiz quadrada de 49 é:7.00\n"
     ]
    }
   ],
   "source": [
    "print('Receba um número e exiba o seu dobro, triplo e raiz quadrada')\n",
    "n1=int(input('Informe um número:'))\n",
    "print('¨¨¨'*20)\n",
    "print('O dobro de {} é:{}'.format(n1,n1*2))\n",
    "print('O triplo de {} é:{}'.format(n1,n1*3))\n",
    "print('[POW] A raiz quadrada de {} é:{}'.format(n1,pow(n1,1/2)))\n",
    "print('A raiz quadrada de {} é:{:.2f}'.format(n1,n1**(1/2)))"
   ]
  },
  {
   "cell_type": "markdown",
   "metadata": {},
   "source": [
    "### Exerc 8"
   ]
  },
  {
   "cell_type": "code",
   "execution_count": 16,
   "metadata": {
    "ExecuteTime": {
     "end_time": "2021-02-08T18:39:12.009692Z",
     "start_time": "2021-02-08T18:39:08.849782Z"
    }
   },
   "outputs": [
    {
     "name": "stdout",
     "output_type": "stream",
     "text": [
      "Receba 2 notas do aluno e calcule a média\n",
      "Informe a 1ª nota:10\n",
      "Informe a 2ª nota:5\n",
      "A média do aluno é 7.5\n"
     ]
    }
   ],
   "source": [
    "print('Receba 2 notas do aluno e calcule a média')\n",
    "n1=float(input('Informe a 1ª nota:'))\n",
    "n2=float(input('Informe a 2ª nota:'))\n",
    "\n",
    "m= (n1+n2)/2\n",
    "print('A média do aluno é {:.1f}'.format(m))"
   ]
  },
  {
   "cell_type": "markdown",
   "metadata": {},
   "source": [
    "### Exerc 9"
   ]
  },
  {
   "cell_type": "code",
   "execution_count": 17,
   "metadata": {
    "ExecuteTime": {
     "end_time": "2021-02-08T18:39:41.106939Z",
     "start_time": "2021-02-08T18:39:35.337588Z"
    }
   },
   "outputs": [
    {
     "name": "stdout",
     "output_type": "stream",
     "text": [
      "Converter Metros para centímetros e milímetros\n",
      "Informe a quantiade de metros:100\n",
      "A medida em metros de 100.0 equivale a 10000.0 centímetros\n",
      "A medida em metros de 100.0 equivale a 100000.0 milímetros\n"
     ]
    }
   ],
   "source": [
    "print('Converter Metros para centímetros e milímetros')\n",
    "m=float(input('Informe a quantiade de metros:'))\n",
    "print('A medida em metros de {} equivale a {} centímetros'.format(m,m*100))\n",
    "print('A medida em metros de {} equivale a {} milímetros'.format(m,m*1000))\n"
   ]
  },
  {
   "cell_type": "markdown",
   "metadata": {
    "heading_collapsed": true
   },
   "source": [
    "### Exerc 10"
   ]
  },
  {
   "cell_type": "code",
   "execution_count": 18,
   "metadata": {
    "ExecuteTime": {
     "end_time": "2021-02-08T18:40:20.164064Z",
     "start_time": "2021-02-08T18:40:15.610574Z"
    },
    "hidden": true
   },
   "outputs": [
    {
     "name": "stdout",
     "output_type": "stream",
     "text": [
      "Tabuada\n",
      "Informe um número:7\n",
      "¨¨¨¨¨¨¨¨¨¨¨¨¨¨¨¨¨¨¨¨¨¨¨¨¨¨¨¨¨¨¨¨¨¨¨¨¨¨¨¨¨¨¨¨¨¨¨¨¨¨¨¨¨¨¨¨¨¨¨¨\n",
      "7 X  1 = 7\n",
      "7 X  2 = 14\n",
      "7 X  3 = 21\n",
      "7 X  4 = 28\n",
      "7 X  5 = 35\n",
      "7 X  6 = 42\n",
      "7 X  7 = 49\n",
      "7 X  8 = 56\n",
      "7 X  9 = 63\n",
      "7 X 10 = 70\n",
      "Pronto, Tabuada do 7 na tela\n",
      "--------------------------------------------------\n"
     ]
    }
   ],
   "source": [
    "print('Tabuada')\n",
    "n1=int(input('Informe um número:'))\n",
    "print('¨¨¨'*20)\n",
    "c=1\n",
    "print('{} X {:2} = {}'.format(n1,c,n1*c))\n",
    "c=c+1\n",
    "print('{} X {:2} = {}'.format(n1,c,n1*c))\n",
    "c=c+1\n",
    "print('{} X {:2} = {}'.format(n1,c,n1*c))\n",
    "c=c+1\n",
    "print('{} X {:2} = {}'.format(n1,c,n1*c))\n",
    "c=c+1\n",
    "print('{} X {:2} = {}'.format(n1,c,n1*c))\n",
    "c=c+1\n",
    "print('{} X {:2} = {}'.format(n1,c,n1*c))\n",
    "c=c+1\n",
    "print('{} X {:2} = {}'.format(n1,c,n1*c))\n",
    "c=c+1\n",
    "print('{} X {:2} = {}'.format(n1,c,n1*c))\n",
    "c=c+1\n",
    "print('{} X {:2} = {}'.format(n1,c,n1*c))\n",
    "c=c+1\n",
    "print('{} X {:2} = {}'.format(n1,c,n1*c))\n",
    "c=1\n",
    "print('Pronto, Tabuada do {} na tela'.format(n1))\n",
    "print('-'*50)\n"
   ]
  },
  {
   "cell_type": "markdown",
   "metadata": {},
   "source": [
    "### Exerc 11"
   ]
  },
  {
   "cell_type": "code",
   "execution_count": 19,
   "metadata": {
    "ExecuteTime": {
     "end_time": "2021-02-08T18:41:12.513749Z",
     "start_time": "2021-02-08T18:41:08.434166Z"
    }
   },
   "outputs": [
    {
     "name": "stdout",
     "output_type": "stream",
     "text": [
      "Quantos Dólares vc pode comprar\n",
      "Informe quantos reais você tem na carteira R$:100\n",
      "A cotação do dólar atual é R$5.73\n",
      "\n",
      "Você pode comprar US$17.0 doláres com esses 100.0 reais que você tem\n",
      "Você pode comprar US$17.45 doláres com esses 100.0 reais que você tem\n"
     ]
    }
   ],
   "source": [
    "print('Quantos Dólares vc pode comprar')\n",
    "r = float(input('Informe quantos reais você tem na carteira R$:'))\n",
    "d = 5.73\n",
    "print('A cotação do dólar atual é R${}\\n'.format(d))\n",
    "print('Você pode comprar US${} doláres com esses {} reais que você tem'.format(r//d,r))\n",
    "print('Você pode comprar US${:.2f} doláres com esses {} reais que você tem'.format(r/d,r))"
   ]
  },
  {
   "cell_type": "markdown",
   "metadata": {},
   "source": [
    "### Exerc 12"
   ]
  },
  {
   "cell_type": "markdown",
   "metadata": {
    "ExecuteTime": {
     "end_time": "2021-02-08T18:42:51.929706Z",
     "start_time": "2021-02-08T18:42:43.038587Z"
    }
   },
   "source": [
    "print('PINTANDO MINHA PAREDE')\n",
    "l = float(input('Informe a largura da parede:'))\n",
    "h = float(input('Informe a altura da parede:'))\n",
    "area=l*h\n",
    "\n",
    "print('Você vai  precisar de {} litros de tinta para pintar essa parede de {} metros quadrados.'.format(area/2,area))"
   ]
  },
  {
   "cell_type": "markdown",
   "metadata": {},
   "source": [
    "### Exerc 13"
   ]
  },
  {
   "cell_type": "code",
   "execution_count": 21,
   "metadata": {
    "ExecuteTime": {
     "end_time": "2021-02-08T18:43:25.066643Z",
     "start_time": "2021-02-08T18:43:17.150560Z"
    }
   },
   "outputs": [
    {
     "name": "stdout",
     "output_type": "stream",
     "text": [
      "Loja com Descontaço - Black Friday\n",
      "Informe o preço do Produto: 10\n",
      "Informe quanto vai dar de desconto em %: 10\n",
      "Caro cliente, o preço deste produto é R$10.0 mas eu conversei com o gerente e consegui 10.0% de desconto. Então o produto vai ficar R$9.0. Parabéns\n",
      "Você economizou 1.0\n"
     ]
    }
   ],
   "source": [
    "print('Loja com Descontaço - Black Friday')\n",
    "\n",
    "p = float(input('Informe o preço do Produto: '))\n",
    "d = float(input('Informe quanto vai dar de desconto em %: '))\n",
    "\n",
    "print('Caro cliente, o preço deste produto é R${} mas eu conversei com o gerente e consegui {}% de desconto. Então o produto vai ficar R${}. Parabéns'.format(p,d,p*((100-d)/100)))\n",
    "print('Você economizou {}'.format(p*(d/100)))"
   ]
  },
  {
   "cell_type": "markdown",
   "metadata": {},
   "source": [
    "### Exerc 14"
   ]
  },
  {
   "cell_type": "code",
   "execution_count": 22,
   "metadata": {
    "ExecuteTime": {
     "end_time": "2021-02-08T18:44:06.496421Z",
     "start_time": "2021-02-08T18:43:56.932802Z"
    }
   },
   "outputs": [
    {
     "name": "stdout",
     "output_type": "stream",
     "text": [
      "Aumento de Salário\n",
      "Informe o salário do Funcionário: 3000\n",
      "Informe quanto vai dar de aumento em %: 6\n",
      "Parabéns funcionário. Você conseguiu 6.0% de aumento de salário. Seu salário era R$3000.0 agora será de R$3180.0. Você ganhou R$180.0 a mais.\n"
     ]
    }
   ],
   "source": [
    "print('Aumento de Salário')\n",
    "p = float(input('Informe o salário do Funcionário: '))\n",
    "d = float(input('Informe quanto vai dar de aumento em %: '))\n",
    "\n",
    "print('Parabéns funcionário. Você conseguiu {}% de aumento de salário. Seu salário era R${} agora será de R${}. Você ganhou R${} a mais.'.format(d,p,p*((d+100)/100),p*(d/100)))"
   ]
  },
  {
   "cell_type": "markdown",
   "metadata": {},
   "source": [
    "### Exerc 15"
   ]
  },
  {
   "cell_type": "code",
   "execution_count": 23,
   "metadata": {
    "ExecuteTime": {
     "end_time": "2021-02-08T18:46:05.881385Z",
     "start_time": "2021-02-08T18:46:03.426832Z"
    }
   },
   "outputs": [
    {
     "name": "stdout",
     "output_type": "stream",
     "text": [
      "Conversor de Temperaturas\n",
      "Informe a temperatura em ºC:32\n",
      "A temperatura 32.0ºC é 89.6ºF Fahrenheit e 305.15ºK Kelvin\n"
     ]
    }
   ],
   "source": [
    "print(\"Conversor de Temperaturas\")\n",
    "c = float(input(\"Informe a temperatura em ºC:\"))\n",
    "\n",
    "f = (c*(9/5))+32 # 9/5 = 1.8\n",
    "k = (c + 273.15)\n",
    "\n",
    "#print('A temperatura {}ºC é {}ºF Fahrenheit e {}ºK Kelvin'.format(c,f,k))\n",
    "\n",
    "print('A temperatura {0}ºC é {1}ºF Fahrenheit e {2}ºK Kelvin'.format(c,f,k))"
   ]
  },
  {
   "cell_type": "markdown",
   "metadata": {},
   "source": [
    "### Exerc 16"
   ]
  },
  {
   "cell_type": "code",
   "execution_count": 24,
   "metadata": {
    "ExecuteTime": {
     "end_time": "2021-02-08T18:46:23.280285Z",
     "start_time": "2021-02-08T18:46:15.852307Z"
    }
   },
   "outputs": [
    {
     "name": "stdout",
     "output_type": "stream",
     "text": [
      "Aluguel de Carros\n",
      "Quantos dias desejar alugar o carro:2\n",
      "Rodar quantos Km o carro:250\n",
      "o Valor a pagar por 2 dias é: R$157.5\n"
     ]
    }
   ],
   "source": [
    "print(\"Aluguel de Carros\")\n",
    "d = int(input('Quantos dias desejar alugar o carro:'))\n",
    "km = int(input('Rodar quantos Km o carro:'))\n",
    "fixo = 60\n",
    "diaria= 0.15\n",
    "print('o Valor a pagar por {} dias é: R${}'.format(d, d*fixo +(diaria*km)))"
   ]
  },
  {
   "cell_type": "markdown",
   "metadata": {},
   "source": [
    "### Exerc 17"
   ]
  },
  {
   "cell_type": "code",
   "execution_count": 25,
   "metadata": {
    "ExecuteTime": {
     "end_time": "2021-02-08T18:46:35.285666Z",
     "start_time": "2021-02-08T18:46:35.263672Z"
    }
   },
   "outputs": [
    {
     "ename": "ModuleNotFoundError",
     "evalue": "No module named 'emoji'",
     "output_type": "error",
     "traceback": [
      "\u001b[1;31m---------------------------------------------------------------------------\u001b[0m",
      "\u001b[1;31mModuleNotFoundError\u001b[0m                       Traceback (most recent call last)",
      "\u001b[1;32m<ipython-input-25-f163f4f31471>\u001b[0m in \u001b[0;36m<module>\u001b[1;34m\u001b[0m\n\u001b[1;32m----> 1\u001b[1;33m \u001b[1;32mimport\u001b[0m \u001b[0memoji\u001b[0m\u001b[1;33m\u001b[0m\u001b[1;33m\u001b[0m\u001b[0m\n\u001b[0m\u001b[0;32m      2\u001b[0m \u001b[1;32mimport\u001b[0m \u001b[0mmath\u001b[0m\u001b[1;33m\u001b[0m\u001b[1;33m\u001b[0m\u001b[0m\n\u001b[0;32m      3\u001b[0m \u001b[1;32mimport\u001b[0m \u001b[0mrandom\u001b[0m\u001b[1;33m\u001b[0m\u001b[1;33m\u001b[0m\u001b[0m\n\u001b[0;32m      4\u001b[0m \u001b[0mnum\u001b[0m \u001b[1;33m=\u001b[0m \u001b[0mrandom\u001b[0m\u001b[1;33m.\u001b[0m\u001b[0mrandint\u001b[0m\u001b[1;33m(\u001b[0m\u001b[1;36m1\u001b[0m\u001b[1;33m,\u001b[0m\u001b[1;36m10\u001b[0m\u001b[1;33m)\u001b[0m\u001b[1;33m\u001b[0m\u001b[1;33m\u001b[0m\u001b[0m\n\u001b[0;32m      5\u001b[0m \u001b[1;33m\u001b[0m\u001b[0m\n",
      "\u001b[1;31mModuleNotFoundError\u001b[0m: No module named 'emoji'"
     ]
    }
   ],
   "source": [
    "import emoji\n",
    "import math\n",
    "import random\n",
    "num = random.randint(1,10)\n",
    "\n",
    "print(math.sqrt(num))\n",
    "print(num)\n",
    "\n",
    "print(emoji.emojize(\"Aqui é treta :earth_americas:\",use_aliases=True))\n",
    "\n",
    "print('*'*20)\n",
    "print('Programa para exibir o número real')\n",
    "n = float(input('Digite um número: '))\n",
    "aleatorio = n * random.random()\n",
    "\n",
    "print('[CEIL] O número {} tem a parte inteira {}'.format(n,math.ceil(n)))\n",
    "print('[TRUNC] O número {} tem a parte inteira {}'.format(n,math.trunc(n)))\n",
    "print('[COM FORMATACAO] O número {} tem a parte inteira {:.0f}'.format(n,n))\n",
    "print('[COM INT] O número {} tem a parte inteira {}'.format(n,int(n)))\n",
    "\n",
    "\n",
    "print('Olha um aleatório doidão:',aleatorio)"
   ]
  },
  {
   "cell_type": "markdown",
   "metadata": {},
   "source": [
    "### Exerc 18"
   ]
  },
  {
   "cell_type": "code",
   "execution_count": 26,
   "metadata": {
    "ExecuteTime": {
     "end_time": "2021-02-08T18:48:45.145931Z",
     "start_time": "2021-02-08T18:48:45.110927Z"
    }
   },
   "outputs": [
    {
     "ename": "ModuleNotFoundError",
     "evalue": "No module named 'emoji'",
     "output_type": "error",
     "traceback": [
      "\u001b[1;31m---------------------------------------------------------------------------\u001b[0m",
      "\u001b[1;31mModuleNotFoundError\u001b[0m                       Traceback (most recent call last)",
      "\u001b[1;32m<ipython-input-26-0312472dbba9>\u001b[0m in \u001b[0;36m<module>\u001b[1;34m\u001b[0m\n\u001b[0;32m      1\u001b[0m \u001b[1;32mimport\u001b[0m \u001b[0mrandom\u001b[0m\u001b[1;33m\u001b[0m\u001b[1;33m\u001b[0m\u001b[0m\n\u001b[0;32m      2\u001b[0m \u001b[1;32mimport\u001b[0m \u001b[0mmath\u001b[0m\u001b[1;33m\u001b[0m\u001b[1;33m\u001b[0m\u001b[0m\n\u001b[1;32m----> 3\u001b[1;33m \u001b[1;32mimport\u001b[0m \u001b[0memoji\u001b[0m\u001b[1;33m\u001b[0m\u001b[1;33m\u001b[0m\u001b[0m\n\u001b[0m\u001b[0;32m      4\u001b[0m \u001b[1;33m\u001b[0m\u001b[0m\n\u001b[0;32m      5\u001b[0m \u001b[0mprint\u001b[0m\u001b[1;33m(\u001b[0m\u001b[1;34m'Calcular a Hipotenusa'\u001b[0m\u001b[1;33m)\u001b[0m\u001b[1;33m\u001b[0m\u001b[1;33m\u001b[0m\u001b[0m\n",
      "\u001b[1;31mModuleNotFoundError\u001b[0m: No module named 'emoji'"
     ]
    }
   ],
   "source": [
    "import random\n",
    "import math\n",
    "import emoji\n",
    "\n",
    "print('Calcular a Hipotenusa')\n",
    "co = float(input('Digite o valor do Cateto Oposto:'))\n",
    "ca = float(input('Digite o valor do Cateto Adjacente'))\n",
    "\n",
    "hip = math.sqrt(pow(co,2)+pow(ca,2))\n",
    "print(emoji.emojize(\"A hipotenusa deste :triangular_ruler: é {:.2f}\",use_aliases=True).format(hip))\n",
    "print('-----'*20)\n",
    "hip = math.hypot(co,ca)\n",
    "print(emoji.emojize(\"A hipotenusa deste :triangular_ruler: é {:.2f}\",use_aliases=True).format(hip))\n",
    "print('-----'*20)\n",
    "print('\\n')\n",
    "print('####'*20)\n",
    "\n",
    "print('Calcular o Seno, Cosseno e Tangente')\n",
    "ang = float(input('Informe o valor do ângulo: '))\n",
    "#s = co / hip\n",
    "#c = ca / hip\n",
    "#t = co / ca\n",
    "ang_r = math.radians(ang)\n",
    "s = math.sin(ang_r)\n",
    "c = math.cos(ang_r)\n",
    "t = math.tan(ang_r)\n",
    "\n",
    "print('O ângulo {0:.0f}º, tem {1:.2f} como SENO, {2:.2f} como COSSENO e {3:.2f} como TANGENTE'.format(ang,s,c,t))"
   ]
  },
  {
   "cell_type": "markdown",
   "metadata": {},
   "source": [
    "### Exerc 19"
   ]
  },
  {
   "cell_type": "code",
   "execution_count": 28,
   "metadata": {
    "ExecuteTime": {
     "end_time": "2021-02-08T18:51:03.593294Z",
     "start_time": "2021-02-08T18:50:59.597702Z"
    }
   },
   "outputs": [
    {
     "name": "stdout",
     "output_type": "stream",
     "text": [
      "Sortear nomes aleatórios\n",
      "Digite o nome do Aluno:A\n",
      "Digite o nome do Aluno:B\n",
      "Digite o nome do Aluno:C\n",
      "Digite o nome do Aluno:D\n",
      "Oi B, você foi sorteado. Meus Parabéns. Pode ir apagar a lousa e trazer meu café.\n",
      "################################################################################\n",
      "Oi ['A', 'B', 'C', 'D'], você foi sorteado. Meus Parabéns. Pode ir apagar a lousa e trazer meu café.\n"
     ]
    }
   ],
   "source": [
    "import random\n",
    "print('Sortear nomes aleatórios')\n",
    "a1 = str(input('Digite o nome do Aluno:'))\n",
    "a2 = str(input('Digite o nome do Aluno:'))\n",
    "a3 = str(input('Digite o nome do Aluno:'))\n",
    "a4 = str(input('Digite o nome do Aluno:'))\n",
    "sorteado = random.choice([a1,a2,a3,a4])\n",
    "\n",
    "\n",
    "print('Oi {}, você foi sorteado. Meus Parabéns. Pode ir apagar a lousa e trazer meu café.'.format(sorteado))\n",
    "\n",
    "print('####'*20)\n",
    "lista= [a1,a2,a3,a4]\n",
    "print('Oi {}, você foi sorteado. Meus Parabéns. Pode ir apagar a lousa e trazer meu café.'.format(sorted(lista)))"
   ]
  },
  {
   "cell_type": "markdown",
   "metadata": {},
   "source": [
    "### Exerc 20"
   ]
  },
  {
   "cell_type": "code",
   "execution_count": 29,
   "metadata": {
    "ExecuteTime": {
     "end_time": "2021-02-08T18:51:51.725452Z",
     "start_time": "2021-02-08T18:51:43.526308Z"
    }
   },
   "outputs": [
    {
     "name": "stdout",
     "output_type": "stream",
     "text": [
      "Sortear Ordem de Apresentação dos Alunos\n",
      "Digite o nome do Aluno:A\n",
      "Digite o nome do Aluno:B\n",
      "Digite o nome do Aluno:C\n",
      "Digite o nome do Aluno:D\n",
      "[SIMPLE] Oi. Essa é a ordem de apresentação dos alunos: ['B', 'D', 'C', 'A'].\n",
      "xxxxxxxxxxxxxxxxxxxxxxxxxxxxxxxxxxxxxxxxxxxxxxxxxxxxxxxxxxxxxxxxxxxxxxxxxxxxxxxxxxxxxxxxxxxxxxxxxxxx\n",
      "[SHUFFLE] Oi. Essa é a ordem de apresentação dos alunos: ['A', 'D', 'C', 'B'].\n"
     ]
    }
   ],
   "source": [
    "import random\n",
    "print('Sortear Ordem de Apresentação dos Alunos')\n",
    "a1 = str(input('Digite o nome do Aluno:'))\n",
    "a2 = str(input('Digite o nome do Aluno:'))\n",
    "a3 = str(input('Digite o nome do Aluno:'))\n",
    "a4 = str(input('Digite o nome do Aluno:'))\n",
    "\n",
    "sorteado = random.sample([a1,a2,a3,a4],k=4)\n",
    "\n",
    "print('[SIMPLE] Oi. Essa é a ordem de apresentação dos alunos: {}.'.format(sorteado))\n",
    "#o legal de usar o sample ao invés do shuffle é q da pra limitar a quantidade de pessoas q vão apresentar, atribuindo a quantidade no 'k',\n",
    "# então se na lista tiverem 10 alunos inscritos\n",
    "# mas o k for igual a 5 então serão escolhidos só 5 dentre os 10 alunos\n",
    "# sample([aluno1, aluno2, aluno3, aluno4], k=2)  -> serão escolhidos 2 dentre os 4 alunos\n",
    "print('xxxxx'*20)\n",
    "sorteado_shuffle = [a1,a2,a3,a4]\n",
    "random.shuffle(sorteado_shuffle)\n",
    "print('[SHUFFLE] Oi. Essa é a ordem de apresentação dos alunos: {}.'.format(sorteado_shuffle))"
   ]
  },
  {
   "cell_type": "markdown",
   "metadata": {},
   "source": [
    "### Exerc 21"
   ]
  },
  {
   "cell_type": "code",
   "execution_count": 30,
   "metadata": {
    "ExecuteTime": {
     "end_time": "2021-02-08T19:58:22.862214Z",
     "start_time": "2021-02-08T19:58:22.843213Z"
    }
   },
   "outputs": [
    {
     "ename": "ModuleNotFoundError",
     "evalue": "No module named 'vlc'",
     "output_type": "error",
     "traceback": [
      "\u001b[1;31m---------------------------------------------------------------------------\u001b[0m",
      "\u001b[1;31mModuleNotFoundError\u001b[0m                       Traceback (most recent call last)",
      "\u001b[1;32m<ipython-input-30-18b4b519d66e>\u001b[0m in \u001b[0;36m<module>\u001b[1;34m\u001b[0m\n\u001b[1;32m----> 1\u001b[1;33m \u001b[1;32mimport\u001b[0m \u001b[0mvlc\u001b[0m\u001b[1;33m\u001b[0m\u001b[1;33m\u001b[0m\u001b[0m\n\u001b[0m\u001b[0;32m      2\u001b[0m \u001b[1;32mimport\u001b[0m \u001b[0mtime\u001b[0m\u001b[1;33m\u001b[0m\u001b[1;33m\u001b[0m\u001b[0m\n\u001b[0;32m      3\u001b[0m \u001b[1;32mimport\u001b[0m \u001b[0mrandom\u001b[0m\u001b[1;33m\u001b[0m\u001b[1;33m\u001b[0m\u001b[0m\n\u001b[0;32m      4\u001b[0m \u001b[1;32mimport\u001b[0m \u001b[0memoji\u001b[0m\u001b[1;33m\u001b[0m\u001b[1;33m\u001b[0m\u001b[0m\n\u001b[0;32m      5\u001b[0m \u001b[1;33m\u001b[0m\u001b[0m\n",
      "\u001b[1;31mModuleNotFoundError\u001b[0m: No module named 'vlc'"
     ]
    }
   ],
   "source": [
    "import vlc\n",
    "import time\n",
    "import random\n",
    "import emoji\n",
    "\n",
    "musics = ['Giant.mp3','Rize_Up.mp3','Birds_in_Flight.mp3']\n",
    "musica = random.choice(musics)\n",
    "s = vlc.MediaPlayer((\"./mp3/{}\".format(musica)))\n",
    "print(emoji.emojize(':speaker: :musical_note: Dança ai Galera, a musica que está tocando é: {}',use_aliases=True).format(musica))\n",
    "\n",
    "s.play()\n",
    "\n",
    "time.sleep(20)\n",
    "s.stop()\n"
   ]
  },
  {
   "cell_type": "markdown",
   "metadata": {},
   "source": [
    "### Exerc 22"
   ]
  },
  {
   "cell_type": "code",
   "execution_count": 31,
   "metadata": {
    "ExecuteTime": {
     "end_time": "2021-02-08T20:03:59.958003Z",
     "start_time": "2021-02-08T20:03:56.047027Z"
    }
   },
   "outputs": [
    {
     "name": "stdout",
     "output_type": "stream",
     "text": [
      "~~~~~~~~~~~~~~~~~~~~~~~~~~~~~~~~~~~~~~~~~~~~~~~~~~~~~~~~~~~~~~~~~~~~~~~~~~~~~~~~~~~~~~~~~~~~~~~~~~~~~~~~~~~~~~~~~~~~~~~~~~~~~~~~~~~~~~~~~~~~~~~~~~~~~~\n",
      "Digite o seu nome completo: Greg\n",
      "GREG\n",
      "greg\n",
      "4\n",
      "['Greg']\n",
      "SEM ESPAÇO Greg tem 4 letras\n",
      "O primeiro nome GREG tem 4 letras\n",
      "~~~~~~~~~~~~~~~~~~~~~~~~~~~~~~~~~~~~~~~~~~~~~~~~~~~~~~~~~~~~~~~~~~~~~~~~~~~~~~~~~~~~~~~~~~~~~~~~~~~~~~~~~~~~~~~~~~~~~~~~~~~~~~~~~~~~~~~~~~~~~~~~~~~~~~\n",
      "o\n",
      "ou Cori\n",
      "o oi\n",
      "Eu so\n",
      "u Corinthiano Mano. Aqui tem um bando de louco\n",
      "51\n",
      "7\n",
      "15\n",
      "True\n",
      "Eu sou Palmeiras Mano. Aqui tem um bando de louco\n",
      "EU SOU CORINTHIANO MANO. AQUI TEM UM BANDO DE LOUCO\n",
      "eu sou corinthiano mano. aqui tem um bando de louco\n",
      "Eu sou corinthiano mano. aqui tem um bando de louco\n",
      "Eu Sou Corinthiano Mano. Aqui Tem Um Bando De Louco\n",
      "Eu sou Corinthiano Mano. Aqui tem um bando de louco\n",
      "Eu sou Corinthiano Mano. Aqui tem um bando de louco\n",
      "Eu sou Corinthiano Mano. Aqui tem um bando de louco\n",
      "['Eu', 'sou', 'Corinthiano', 'Mano.', 'Aqui', 'tem', 'um', 'bando', 'de', 'louco']\n",
      "EXuX XsXoXuX XCXoXrXiXnXtXhXiXaXnXoX XMXaXnXoX.X XAXqXuXiX XtXeXmX XuXmX XbXaXnXdXoX XdXeX XlXoXuXcXo\n"
     ]
    }
   ],
   "source": [
    "print('~~~'*50)\n",
    "nome_completo = str(input('Digite o seu nome completo: '))\n",
    "print(nome_completo.upper())\n",
    "print(nome_completo.lower())\n",
    "print(len(nome_completo.strip()))\n",
    "primeiro_nome = nome_completo.split()\n",
    "print(primeiro_nome)\n",
    "print('SEM ESPAÇO {} tem {} letras'.format(nome_completo.replace(' ',''),len(nome_completo.replace(' ',''))))\n",
    "print('O primeiro nome {} tem {} letras'.format(primeiro_nome[0].upper(), len(primeiro_nome[0])))\n",
    "print('~~~'*50)\n",
    "#frase = str(input('Digite uma frase: '))\n",
    "frase ='Eu sou Corinthiano Mano. Aqui tem um bando de louco'\n",
    "print(frase[4])\n",
    "print(frase[4:11])\n",
    "print(frase[4:11:2])\n",
    "print(frase[:5])\n",
    "print(frase[5:])\n",
    "print(len(frase)) #comprimento\n",
    "print(frase.count('o'))#contar quantas vezes tem a letra na analise\n",
    "print(frase.find('ano'))#procurar a palavra\n",
    "print('Corinthiano' in frase)\n",
    "\n",
    "print(frase.replace('Corinthiano','Palmeiras'))\n",
    "print(frase.upper())\n",
    "print(frase.lower())\n",
    "print(frase.capitalize())#primeiro caracatere em maiusculo\n",
    "print(frase.title())#todas as palavras inciias em maiusculo\n",
    "print(frase.strip())#remove espalis em brancos inuteis da direita e esquerda\n",
    "print(frase.rstrip())#remove espalis em brancos inuteis da direita\n",
    "print(frase.lstrip())#remove espalis em brancos inuteis da esquerda\n",
    "#divisão\n",
    "print(frase.split())#aproveita o espaço em branco\n",
    "print('X'.join(frase))\n",
    "\n"
   ]
  },
  {
   "cell_type": "markdown",
   "metadata": {},
   "source": [
    "### Exerc 23"
   ]
  },
  {
   "cell_type": "code",
   "execution_count": 32,
   "metadata": {
    "ExecuteTime": {
     "end_time": "2021-02-08T20:04:20.302687Z",
     "start_time": "2021-02-08T20:04:20.287132Z"
    }
   },
   "outputs": [
    {
     "name": "stdout",
     "output_type": "stream",
     "text": [
      "--------------------------------------------------------------------------------\n",
      "Analisando o número: 5021\n",
      "Unidade : 1\n",
      "Dezena : 2\n",
      "Centena : 0\n",
      "Milhar : 5\n",
      "--------------------------------------------------------------------------------\n"
     ]
    }
   ],
   "source": [
    "import random\n",
    "#https://wiki.python.org.br/ManipulandoStringsComPython\n",
    "num = int(random.randint(0,9999))\n",
    "n = str(num)\n",
    "\n",
    "u = num//1 %10\n",
    "d = num//10 %10\n",
    "c = num//100 %10\n",
    "m = num//1000 %10\n",
    "\n",
    "print('----'*20)\n",
    "print('Analisando o número: {}'.format(num))\n",
    "print('Unidade : {}'.format(u))\n",
    "print('Dezena : {}'.format(d))\n",
    "print('Centena : {}'.format(c))\n",
    "print('Milhar : {}'.format(m))\n",
    "\n",
    "print('----'*20)\n",
    "\n",
    "\n"
   ]
  },
  {
   "cell_type": "markdown",
   "metadata": {},
   "source": [
    "### Exerc 24"
   ]
  },
  {
   "cell_type": "code",
   "execution_count": 33,
   "metadata": {
    "ExecuteTime": {
     "end_time": "2021-02-08T20:04:34.121904Z",
     "start_time": "2021-02-08T20:04:32.409535Z"
    }
   },
   "outputs": [
    {
     "name": "stdout",
     "output_type": "stream",
     "text": [
      "SUA CIDADE NATAL\n",
      "Que cidade você nasceu? rtyr\n",
      "False\n"
     ]
    }
   ],
   "source": [
    "print('SUA CIDADE NATAL')\n",
    "\n",
    "cidade = str(input('Que cidade você nasceu? ')).upper().strip()\n",
    "\n",
    "print('SANTO' in cidade)"
   ]
  },
  {
   "cell_type": "markdown",
   "metadata": {},
   "source": [
    "### Exerc 25"
   ]
  },
  {
   "cell_type": "code",
   "execution_count": 34,
   "metadata": {
    "ExecuteTime": {
     "end_time": "2021-02-08T20:04:51.554969Z",
     "start_time": "2021-02-08T20:04:47.336581Z"
    }
   },
   "outputs": [
    {
     "name": "stdout",
     "output_type": "stream",
     "text": [
      "~~~~~~~~~~~~~~~~~~~~~~~~~~~~~~~~~~~~~~~~~~~~~~~~~~~~~~~~~~~~~~~~~~~~~~~~~~~~~~~~~~~~~~~~~~~~~~~~~~~~~~~~~~~~~~~~~~~~~~~~~~~~~~~~~~~~~~~~~~~~~~~~~~~~~~\n",
      "Digite o seu nome completo: tfhgh dgfdf gd dgd r\n",
      "False\n"
     ]
    }
   ],
   "source": [
    "print('~~~'*50)\n",
    "nome_completo = str(input('Digite o seu nome completo: ')).strip().upper()\n",
    "sobrenomes = ['SILVA', 'QUEIROZ']\n",
    "print(sobrenomes[0] in nome_completo)"
   ]
  },
  {
   "cell_type": "markdown",
   "metadata": {},
   "source": [
    "### Exerc 26"
   ]
  },
  {
   "cell_type": "code",
   "execution_count": 35,
   "metadata": {
    "ExecuteTime": {
     "end_time": "2021-02-08T20:05:08.687133Z",
     "start_time": "2021-02-08T20:05:04.222795Z"
    }
   },
   "outputs": [
    {
     "name": "stdout",
     "output_type": "stream",
     "text": [
      "~~~~~~~~~~~~~~~~~~~~~~~~~~~~~~~~~~~~~~~~~~~~~~~~~~~~~~~~~~~~~~~~~~~~~~~~~~~~~~~~~~~~~~~~~~~~~~~~~~~~~~~~~~~~~~~~~~~~~~~~~~~~~~~~~~~~~~~~~~~~~~~~~~~~~~\n",
      "Digite uma frase: srt egete erter\n",
      "0\n",
      "0\n",
      "Primeira vez que aparece a letra A é na posição 0\n",
      "Última vez que aparece a letra A é na posição 0\n"
     ]
    }
   ],
   "source": [
    "print('~~~'*50)\n",
    "frase = str(input('Digite uma frase: ')).upper().strip()\n",
    "\n",
    "print(frase.count('A',0,len(frase)))\n",
    "print(frase.count('A'))\n",
    "\n",
    "print('Primeira vez que aparece a letra A é na posição {}'.format(frase.find('A',0)+1))\n",
    "print('Última vez que aparece a letra A é na posição {}'.format(frase.rfind('A',0)+1))"
   ]
  },
  {
   "cell_type": "markdown",
   "metadata": {},
   "source": [
    "### Exerc 27"
   ]
  },
  {
   "cell_type": "code",
   "execution_count": 36,
   "metadata": {
    "ExecuteTime": {
     "end_time": "2021-02-08T20:05:21.892577Z",
     "start_time": "2021-02-08T20:05:18.843597Z"
    }
   },
   "outputs": [
    {
     "name": "stdout",
     "output_type": "stream",
     "text": [
      "~~~~~~~~~~~~~~~~~~~~~~~~~~~~~~~~~~~~~~~~~~~~~~~~~~~~~~~~~~~~~~~~~~~~~~~~~~~~~~~~~~~~~~~~~~~~~~~~~~~~~~~~~~~~~~~~~~~~~~~~~~~~~~~~~~~~~~~~~~~~~~~~~~~~~~\n",
      "Digite o seu nome completo: reterteb\n",
      "['RETERTEB']\n",
      "Seu primerio nome é RETERTEB e último nome é RETERTEB\n"
     ]
    }
   ],
   "source": [
    "print('~~~'*50)\n",
    "nome_completo = str(input('Digite o seu nome completo: ')).strip().upper()\n",
    "\n",
    "nome = nome_completo.split()\n",
    "print(nome)\n",
    "\n",
    "print('Seu primerio nome é {} e último nome é {}'.format(nome[0],nome[-1]))"
   ]
  },
  {
   "cell_type": "markdown",
   "metadata": {},
   "source": [
    "### Exerc 28"
   ]
  },
  {
   "cell_type": "code",
   "execution_count": 37,
   "metadata": {
    "ExecuteTime": {
     "end_time": "2021-02-08T20:05:36.956347Z",
     "start_time": "2021-02-08T20:05:29.321803Z"
    }
   },
   "outputs": [
    {
     "name": "stdout",
     "output_type": "stream",
     "text": [
      "-==--==--==--==--==--==--==--==--==--==--==--==--==--==--==--==--==--==--==--==--==--==--==--==--==--==--==--==--==--==--==--==--==--==--==--==--==--==--==--==--==--==--==--==--==--==--==--==--==--==-\n",
      "vou pensar em um número entre 0 e 5. Tente advinhar bruxo...\n",
      "-==--==--==--==--==--==--==--==--==--==--==--==--==--==--==--==--==--==--==--==--==--==--==--==--==--==--==--==--==--==--==--==--==--==--==--==--==--==--==--==--==--==--==--==--==--==--==--==--==--==-\n",
      "Em que número eu pensei?: 17\n",
      "PROCESSANDO\n",
      "Revelando o meu número 0. Você errou.\n"
     ]
    }
   ],
   "source": [
    "import random\n",
    "from time import sleep\n",
    "print('-==-'*50)\n",
    "print('vou pensar em um número entre 0 e 5. Tente advinhar bruxo...')\n",
    "print('-==-'*50)\n",
    "n = int(random.randint(0,5))\n",
    "u = int(input('Em que número eu pensei?: '))\n",
    "print('PROCESSANDO')\n",
    "sleep(3)\n",
    "if(n==u):\n",
    "    print('Revelando o meu número {}. Você acertou.'.format(n))\n",
    "else:\n",
    "    print('Revelando o meu número {}. Você errou.'.format(n))\n",
    "\n"
   ]
  },
  {
   "cell_type": "markdown",
   "metadata": {},
   "source": [
    "### Exerc 29"
   ]
  },
  {
   "cell_type": "code",
   "execution_count": 38,
   "metadata": {
    "ExecuteTime": {
     "end_time": "2021-02-08T20:05:57.832677Z",
     "start_time": "2021-02-08T20:05:54.648585Z"
    }
   },
   "outputs": [
    {
     "name": "stdout",
     "output_type": "stream",
     "text": [
      "-==--==--==--==--==--==--==--==--==--==--==--==--==--==--==--==--==--==--==--==--==--==--==--==--==--==--==--==--==--==--==--==--==--==--==--==--==--==--==--==--==--==--==--==--==--==--==--==--==--==-\n",
      "RADAR ELETRÔNICO\n",
      "-==--==--==--==--==--==--==--==--==--==--==--==--==--==--==--==--==--==--==--==--==--==--==--==--==--==--==--==--==--==--==--==--==--==--==--==--==--==--==--==--==--==--==--==--==--==--==--==--==--==-\n",
      "Qual é a velocidade atual do Carro?:100\n",
      "RADAR. Você está acima da velocidade permitida. Você está á 100km/h enquanto a velocidade permitida é 80km/h\n",
      "Você terá que pagar uma multa de R$20.00 e 7 pontos na carteira. Na próxima vez, respeite os limites.Você terá que pagar uma multa de R$20.00 e 7 pontos na carteira. Na próxima vez, respeite os limites.Você terá que pagar uma multa de R$20.00 e 7 pontos na carteira. Na próxima vez, respeite os limites.Você terá que pagar uma multa de R$20.00 e 7 pontos na carteira. Na próxima vez, respeite os limites.Você terá que pagar uma multa de R$20.00 e 7 pontos na carteira. Na próxima vez, respeite os limites.Você terá que pagar uma multa de R$20.00 e 7 pontos na carteira. Na próxima vez, respeite os limites.Você terá que pagar uma multa de R$20.00 e 7 pontos na carteira. Na próxima vez, respeite os limites.\n"
     ]
    }
   ],
   "source": [
    "import random\n",
    "from time import sleep\n",
    "print('-==-'*50)\n",
    "print('RADAR ELETRÔNICO')\n",
    "print('-==-'*50)\n",
    "multa = 7\n",
    "v = float(input('Qual é a velocidade atual do Carro?:'))\n",
    "\n",
    "if(v<=80):\n",
    "    print('Parabéns. Dirija com segurança')\n",
    "else:\n",
    "    print('RADAR. Você está acima da velocidade permitida. Você está á {:.0f}km/h enquanto a velocidade permitida é 80km/h'.format(v))\n",
    "    print('Você terá que pagar uma multa de R${:.2f} e 7 pontos na carteira. Na próxima vez, respeite os limites.'.format(v-80)*multa)"
   ]
  },
  {
   "cell_type": "markdown",
   "metadata": {},
   "source": [
    "### Exerc 30"
   ]
  },
  {
   "cell_type": "code",
   "execution_count": 39,
   "metadata": {
    "ExecuteTime": {
     "end_time": "2021-02-08T20:06:11.303789Z",
     "start_time": "2021-02-08T20:06:09.503362Z"
    }
   },
   "outputs": [
    {
     "name": "stdout",
     "output_type": "stream",
     "text": [
      "-==--==--==--==--==--==--==--==--==--==--==--==--==--==--==--==--==--==--==--==--==--==--==--==--==--==--==--==--==--==--==--==--==--==--==--==--==--==--==--==--==--==--==--==--==--==--==--==--==--==-\n",
      "PAR OU IMPAR\n",
      "-==--==--==--==--==--==--==--==--==--==--==--==--==--==--==--==--==--==--==--==--==--==--==--==--==--==--==--==--==--==--==--==--==--==--==--==--==--==--==--==--==--==--==--==--==--==--==--==--==--==-\n",
      "Digite um número qualquer: 7\n",
      "O seu número é ÍMPAR\n"
     ]
    }
   ],
   "source": [
    "print('-==-'*50)\n",
    "print('PAR OU IMPAR')\n",
    "print('-==-'*50)\n",
    "n= int(input('Digite um número qualquer: '))\n",
    "\n",
    "x =n%2\n",
    "if(x==0):\n",
    "    print('O seu número é PAR')\n",
    "else:\n",
    "    print('O seu número é ÍMPAR')\n"
   ]
  },
  {
   "cell_type": "markdown",
   "metadata": {},
   "source": [
    "### Exerc 31"
   ]
  },
  {
   "cell_type": "code",
   "execution_count": 40,
   "metadata": {
    "ExecuteTime": {
     "end_time": "2021-02-08T20:06:22.373972Z",
     "start_time": "2021-02-08T20:06:19.686431Z"
    }
   },
   "outputs": [
    {
     "name": "stdout",
     "output_type": "stream",
     "text": [
      "-==--==--==--==--==--==--==--==--==--==--==--==--==--==--==--==--==--==--==--==--==--==--==--==--==--==--==--==--==--==--==--==--==--==--==--==--==--==--==--==--==--==--==--==--==--==--==--==--==--==-\n",
      "VALOR DA PASSAGEM\n",
      "-==--==--==--==--==--==--==--==--==--==--==--==--==--==--==--==--==--==--==--==--==--==--==--==--==--==--==--==--==--==--==--==--==--==--==--==--==--==--==--==--==--==--==--==--==--==--==--==--==--==-\n",
      "Informe a Distância da viagem em km: 90\n",
      "O valor da sua passagem é R$45.00\n",
      "\n",
      "IF OTIMIZADO. IF INLINE\n",
      "O valor da sua passagem é R$45.00\n"
     ]
    }
   ],
   "source": [
    "print('-==-'*50)\n",
    "print('VALOR DA PASSAGEM')\n",
    "print('-==-'*50)\n",
    "v = float(input('Informe a Distância da viagem em km: '))\n",
    "\n",
    "if(v<=200):\n",
    "    print('O valor da sua passagem é R${:.2f}'.format(v*0.50))\n",
    "else:\n",
    "    print('O valor da sua passagem é R${:.2f}'.format(v * 0.45))\n",
    "print('\\nIF OTIMIZADO. IF INLINE')\n",
    "preco=v * 0.50 if v<=200 else v*0.45\n",
    "print('O valor da sua passagem é R${:.2f}'.format(preco))\n",
    "\n"
   ]
  },
  {
   "cell_type": "markdown",
   "metadata": {},
   "source": [
    "### Exerc 32"
   ]
  },
  {
   "cell_type": "code",
   "execution_count": 41,
   "metadata": {
    "ExecuteTime": {
     "end_time": "2021-02-08T20:07:02.852347Z",
     "start_time": "2021-02-08T20:06:56.279957Z"
    }
   },
   "outputs": [
    {
     "name": "stdout",
     "output_type": "stream",
     "text": [
      "-==--==--==--==--==--==--==--==--==--==--==--==--==--==--==--==--==--==--==--==--==--==--==--==--==--==--==--==--==--==--==--==--==--==--==--==--==--==--==--==--==--==--==--==--==--==--==--==--==--==-\n",
      "ANO BISSEXTO\n",
      "\n",
      "Chama-se ano bissexto o ano ao qual é acrescentado um dia extra, ficando com 366 dias, um dia a mais do que os anos normais de 365 dias, ocorrendo a cada quatro anos (exceto anos múltiplos de 100 que não são múltiplos de 400).\n",
      " Isto é feito com o objetivo de manter o calendário anual ajustado com a translação da Terra e com os eventos sazonais relacionados às estações do ano. O ano presente (2020) é bissexto.\n",
      " O ano bissexto anterior foi 2016 e o próximo será 2024.\n",
      "-==--==--==--==--==--==--==--==--==--==--==--==--==--==--==--==--==--==--==--==--==--==--==--==--==--==--==--==--==--==--==--==--==--==--==--==--==--==--==--==--==--==--==--==--==--==--==--==--==--==-\n",
      "Qual ano quer analisar? Coloque 0 para o ano atual: 2021\n",
      "O ano 2021 NÃO é BISSEXTO\n"
     ]
    }
   ],
   "source": [
    "from datetime import date\n",
    "print('-==-'*50)\n",
    "print('ANO BISSEXTO')\n",
    "print('\\nChama-se ano bissexto o ano ao qual é acrescentado um dia extra, ficando com 366 dias, um dia a mais do que os anos normais de 365 dias, ocorrendo a cada quatro anos (exceto anos múltiplos de 100 que não são múltiplos de 400).\\n Isto é feito com o objetivo de manter o calendário anual ajustado com a translação da Terra e com os eventos sazonais relacionados às estações do ano. O ano presente (2020) é bissexto.\\n O ano bissexto anterior foi 2016 e o próximo será 2024.')\n",
    "print('-==-'*50)\n",
    "\n",
    "ano = int(input('Qual ano quer analisar? Coloque 0 para o ano atual: ').upper())\n",
    "if (ano==0):\n",
    "    ano = date.today().year\n",
    "if(ano % 4 == 0 and ano % 100 !=0 or ano % 400 == 0):\n",
    "    print('O ano {} é BISSEXTO'.format(ano))\n",
    "else:\n",
    "    print('O ano {} NÃO é BISSEXTO'.format(ano))\n",
    "\n"
   ]
  },
  {
   "cell_type": "markdown",
   "metadata": {},
   "source": [
    "### Exerc 33"
   ]
  },
  {
   "cell_type": "code",
   "execution_count": 42,
   "metadata": {
    "ExecuteTime": {
     "end_time": "2021-02-08T20:07:27.780646Z",
     "start_time": "2021-02-08T20:07:10.153065Z"
    }
   },
   "outputs": [
    {
     "name": "stdout",
     "output_type": "stream",
     "text": [
      "-==--==--==--==--==--==--==--==--==--==--==--==--==--==--==--==--==--==--==--==--==--==--==--==--==--==--==--==--==--==--==--==--==--==--==--==--==--==--==--==--==--==--==--==--==--==--==--==--==--==-\n",
      "MAIOR E MENOR VALORES\n",
      "-==--==--==--==--==--==--==--==--==--==--==--==--==--==--==--==--==--==--==--==--==--==--==--==--==--==--==--==--==--==--==--==--==--==--==--==--==--==--==--==--==--==--==--==--==--==--==--==--==--==-\n",
      "Informe o 1º número: 5\n",
      "Informe o 2º número: 5\n",
      "Informe o 3º número: 6\n",
      "[6.0, 5.0, 5.0]\n",
      "O MENOR número é 5.0 e o MAIOR número é 6.0\n",
      "\n",
      "\n",
      "O maior valor digitado foi 6.0\n",
      "O menor numero digitado foi 5.0\n"
     ]
    }
   ],
   "source": [
    "print('-==-'*50)\n",
    "print('MAIOR E MENOR VALORES')\n",
    "print('-==-'*50)\n",
    "n1 = float(input('Informe o 1º número: '))\n",
    "n2 = float(input('Informe o 2º número: '))\n",
    "n3 = float(input('Informe o 3º número: '))\n",
    "ordena_numeros = [n1,n2,n3]\n",
    "ordena_numeros.sort(reverse=True)\n",
    "print(ordena_numeros)\n",
    "print('O MENOR número é {} e o MAIOR número é {}'.format(ordena_numeros[-1],ordena_numeros[0]))\n",
    "print('\\n')\n",
    "print('O maior valor digitado foi {}'.format(max(ordena_numeros)))\n",
    "print('O menor numero digitado foi {}'.format(min(ordena_numeros)))"
   ]
  },
  {
   "cell_type": "markdown",
   "metadata": {},
   "source": [
    "### Exerc 34"
   ]
  },
  {
   "cell_type": "code",
   "execution_count": 43,
   "metadata": {
    "ExecuteTime": {
     "end_time": "2021-02-08T20:07:34.179518Z",
     "start_time": "2021-02-08T20:07:27.785652Z"
    }
   },
   "outputs": [
    {
     "name": "stdout",
     "output_type": "stream",
     "text": [
      "-==--==--==--==--==--==--==--==--==--==--==--==--==--==--==--==--==--==--==--==--==--==--==--==--==--==--==--==--==--==--==--==--==--==--==--==--==--==--==--==--==--==--==--==--==--==--==--==--==--==-\n",
      "AUMENTO MÚLTIPLO DO SALÁRIO DO MAN\n",
      "-==--==--==--==--==--==--==--==--==--==--==--==--==--==--==--==--==--==--==--==--==--==--==--==--==--==--==--==--==--==--==--==--==--==--==--==--==--==--==--==--==--==--==--==--==--==--==--==--==--==-\n",
      "Qual é o salário do funcionário? R$7800\n",
      "Funcionário, parabéns o seu salário de R$7800.00 agora é R$8580.00. O seu aumento foi de R$780.00\n"
     ]
    }
   ],
   "source": [
    "print('-==-'*50)\n",
    "print('AUMENTO MÚLTIPLO DO SALÁRIO DO MAN')\n",
    "print('-==-'*50)\n",
    "func=float(input('Qual é o salário do funcionário? R$'))\n",
    "\n",
    "aumento_salario=func * 1.15 if func<=1250 else func*1.10\n",
    "\n",
    "print('Funcionário, parabéns o seu salário de R${:.2f} agora é R${:.2f}. O seu aumento foi de R${:.2f}'.format(func,aumento_salario,aumento_salario-func))"
   ]
  },
  {
   "cell_type": "markdown",
   "metadata": {},
   "source": [
    "### Exerc 35"
   ]
  },
  {
   "cell_type": "code",
   "execution_count": 44,
   "metadata": {
    "ExecuteTime": {
     "end_time": "2021-02-08T20:08:13.316441Z",
     "start_time": "2021-02-08T20:07:49.128898Z"
    }
   },
   "outputs": [
    {
     "name": "stdout",
     "output_type": "stream",
     "text": [
      "-==--==--==--==--==--==--==--==--==--==--==--==--==--==--==--==--==--==--==--==--==--==--==--==--==--==--==--==--==--==--==--==--==--==--==--==--==--==--==--==--==--==--==--==--==--==--==--==--==--==-\n",
      "ANALISANDO O TRIÂNGULO\n",
      "-==--==--==--==--==--==--==--==--==--==--==--==--==--==--==--==--==--==--==--==--==--==--==--==--==--==--==--==--==--==--==--==--==--==--==--==--==--==--==--==--==--==--==--==--==--==--==--==--==--==-\n",
      "Para construir um triângulo é necessário que a medida de qualquer um dos lados seja menor que a soma das medidas dos outros dois e maior que o valor absoluto da diferença entre essas medidas.\n",
      "Primeiro seguimento: 5\n",
      "Segundo  seguimento: 4\n",
      "Terceiro seguimento: 3\n",
      "Os seguimentos formam um Triângulo\n",
      "\n",
      " APRENDENDO A POR CORES\\ CÓDIGO ANSI - ESCAPE SEQUENCE\n",
      "\u001b[1:33:44m TEXTO\n"
     ]
    }
   ],
   "source": [
    "print('-==-'*50)\n",
    "print('ANALISANDO O TRIÂNGULO')\n",
    "print('-==-'*50)\n",
    "\n",
    "print('Para construir um triângulo é necessário que a medida de qualquer um dos lados seja menor que a soma das medidas dos outros dois e maior que o valor absoluto da diferença entre essas medidas.')\n",
    "\n",
    "s1=float(input('Primeiro seguimento: '))\n",
    "s2=float(input('Segundo  seguimento: '))\n",
    "s3=float(input('Terceiro seguimento: '))\n",
    "\n",
    "\n",
    "if(s1 < s2+s3 and s2 < s1+s3 and s3 <s1+s2):\n",
    "    print('Os seguimentos formam um Triângulo')\n",
    "else:\n",
    "    print('Os seguimentos não formam um Triângulo')\n",
    "\n",
    "print('\\n APRENDENDO A POR CORES\\ CÓDIGO ANSI - ESCAPE SEQUENCE')\n",
    "\n",
    "print('\\033[1:33:44m TEXTO')\n",
    "\n",
    "#STYLE 0=NONE;1=BOLD;4=UNDERLINE;7=INVERTER\n",
    "#TEXT 30 até 37\n",
    "#BACK 40 até 47 cores de fundo"
   ]
  },
  {
   "cell_type": "markdown",
   "metadata": {},
   "source": [
    "### Exerc 36"
   ]
  },
  {
   "cell_type": "code",
   "execution_count": 45,
   "metadata": {
    "ExecuteTime": {
     "end_time": "2021-02-08T20:09:18.670162Z",
     "start_time": "2021-02-08T20:08:24.790707Z"
    }
   },
   "outputs": [
    {
     "name": "stdout",
     "output_type": "stream",
     "text": [
      "-==--==--==--==--==--==--==--==--==--==--==--==--==--==--==--==--==--==--==--==--==--==--==--==--==--==--==--==--==--==--==--==--==--==--==--==--==--==--==--==--==--==--==--==--==--==--==--==--==--==-\n",
      "AULA 12 - EXPLICAÇÃO\n",
      "-==--==--==--==--==--==--==--==--==--==--==--==--==--==--==--==--==--==--==--==--==--==--==--==--==--==--==--==--==--==--==--==--==--==--==--==--==--==--==--==--==--==--==--==--==--==--==--==--==--==-\n",
      "Qual é o seu nome: Gregorio\n",
      "Nome de Gênio\n",
      "Tenha um bom dia, Gregorio\n",
      "-==--==--==--==--==--==--==--==--==--==--==--==--==--==--==--==--==--==--==--==--==--==--==--==--==--==--==--==--==--==--==--==--==--==--==--==--==--==--==--==--==--==--==--==--==--==--==--==--==--==-\n",
      "EXERCICIO 36 - EMPRÉSTIMO BANCÁRIO\n",
      "-==--==--==--==--==--==--==--==--==--==--==--==--==--==--==--==--==--==--==--==--==--==--==--==--==--==--==--==--==--==--==--==--==--==--==--==--==--==--==--==--==--==--==--==--==--==--==--==--==--==-\n",
      "Gregorio, seja Bem-vindo ao Banco Explorando Você. Por favor, informe o valor da casa que quer simular financiamento: R$66666\n",
      "Gregorio, Quanto você ganha: R$1000\n",
      "Qual o período de financiamento em meses?500\n",
      "Gregorio, PARABENS. O Seu emprestimo foi APROVADO!\n",
      "Sua Mensalidade foi de R$133.33\n"
     ]
    }
   ],
   "source": [
    "print('-==-'*50)\n",
    "print('AULA 12 - EXPLICAÇÃO')\n",
    "print('-==-'*50)\n",
    "nome=str(input('Qual é o seu nome: ')).capitalize().strip()\n",
    "\n",
    "if(nome=='Gregorio'):\n",
    "    print('Nome de Gênio')\n",
    "elif(nome=='Maria' or nome=='Pedro' or nome=='Paulo'):\n",
    "    print('Nome popular no BRASIL')\n",
    "elif(nome in 'Ana Macarrão Jéssica Cláudia Mercedez'):\n",
    "    print('Desculpa, mas seu nome é dahora. Enganei você!')\n",
    "else:\n",
    "    print('Que legal, é o nome do meu cachorro.')\n",
    "\n",
    "#print('Tenha um bom dia, \\033[1;31;40m{}'.format(nome))\n",
    "print('Tenha um bom dia, {}'.format(nome))\n",
    "\n",
    "print('-==-'*50)\n",
    "print('EXERCICIO 36 - EMPRÉSTIMO BANCÁRIO')\n",
    "print('-==-'*50)\n",
    "\n",
    "casa = float(input('{}, seja Bem-vindo ao Banco Explorando Você. Por favor, informe o valor da casa que quer simular financiamento: R$'.format(nome)))\n",
    "\n",
    "salario = float(input('{}, Quanto você ganha: R$'.format(nome)))\n",
    "\n",
    "tempo = int(input('Qual o período de financiamento em meses?'))\n",
    "\n",
    "val_max_parcela=salario*0.3\n",
    "\n",
    "mensalidade = casa/tempo\n",
    "\n",
    "if(mensalidade<=val_max_parcela):\n",
    "    print('{}, PARABENS. O Seu emprestimo foi APROVADO!'.format(nome))\n",
    "elif(val_max_parcela-mensalidade<=150):\n",
    "    print('{}, Não Aprovado. O Seu emprestimo não foi APROVADO mas VOU FAZER UM ESQUEMA!'.format(nome))\n",
    "else:\n",
    "    print('{}, LAMENTO. O Seu emprestimo NÃO FOI APROVADO!'.format(nome))\n",
    "\n",
    "print('Sua Mensalidade foi de R${:.2f}'.format(mensalidade))"
   ]
  },
  {
   "cell_type": "markdown",
   "metadata": {},
   "source": [
    "### Exerc 37"
   ]
  },
  {
   "cell_type": "code",
   "execution_count": null,
   "metadata": {
    "ExecuteTime": {
     "end_time": "2021-02-09T00:13:09.068649Z",
     "start_time": "2021-02-08T20:09:23.227Z"
    }
   },
   "outputs": [],
   "source": [
    "import math\n",
    "print('-==-'*50)\n",
    "print('EXERCICIO 37 - CONVERSÃO DE BASES')\n",
    "print('-==-'*50)\n",
    "num=int(input('Digite um número inteiro: '))\n",
    "print('''Escolha uma das bases para conversão:\n",
    "[ 1 ] - CONVERTER PARA BINÁRIO\n",
    "[ 2 ] - CONVERTER PARA OCTAL\n",
    "[ 3 ] - CONVERTER PARA HEXADECIMAL\n",
    "''')\n",
    "opc = int(input('Sua Opção: '))\n",
    "\n",
    "if(opc==1):\n",
    "    print('{} convertido para BINÁRIO é igual a {}'.format(num,bin(num)[2:]))\n",
    "elif(opc==2):\n",
    "    print('{} convertido para OCTAL é igual a {}'.format(num,oct(num)[2:]))\n",
    "else:\n",
    "    print('{} convertido para HEXADECIMAL é igual a {}'.format(num,hex(num)[2:]))\n",
    "print('-==-'*50)\n",
    "print('''\\n{}\n",
    "BINARIO={}\n",
    "OCTAL={}\n",
    "HEXADECIMAL={}'''.format(num,bin(num)[2:],oct(num)[2:],hex(num)[2:]))"
   ]
  },
  {
   "cell_type": "markdown",
   "metadata": {},
   "source": [
    "### Exerc 38"
   ]
  },
  {
   "cell_type": "code",
   "execution_count": null,
   "metadata": {},
   "outputs": [],
   "source": [
    "import random\n",
    "from time import sleep\n",
    "print('-==-'*50)\n",
    "print('EXERCICIO 38 - COMPARANDO NÚMEROS')\n",
    "print('-==-'*50)\n",
    "num1=int(input('Digite um número inteiro entre 0-100: '))\n",
    "\n",
    "#num2=int(input('Digite um número inteiro: '))\n",
    "num2=random.randint(0,100)\n",
    "print('PROCESSANDO...')\n",
    "sleep(2)\n",
    "\n",
    "if(num1>num2):\n",
    "    print('O número {} é MAIOR que {}'.format(num1,num2))\n",
    "elif (num1<num2):\n",
    "    print('O número {1} é MAIOR que {0}'.format(num1,num2))\n",
    "else:\n",
    "    print('Os números são IGUAIS. {} == {}'.format(num1,num2))\n"
   ]
  },
  {
   "cell_type": "markdown",
   "metadata": {},
   "source": [
    "### Exerc 39"
   ]
  },
  {
   "cell_type": "code",
   "execution_count": null,
   "metadata": {},
   "outputs": [],
   "source": [
    "from datetime import date\n",
    "print('-==-'*50)\n",
    "print('EXERCICIO 39 - EXÉRCITO - ALISTAMENTO')\n",
    "print('-==-'*50)\n",
    "nasc=int(input('Digite o ano de nascimento: '))\n",
    "\n",
    "ano = date.today().year\n",
    "\n",
    "idade = ano - nasc\n",
    "\n",
    "print('Você nasceu em {}, nós estamos no ano {} e você tem {} anos'.format(nasc,ano,idade))\n",
    "\n",
    "if(idade<18):\n",
    "    print('Logo você vai ser alistar em campeão. Mais {} anos de farra'.format(18-idade))\n",
    "elif(idade==18):\n",
    "    print('Tá na sofrência aí? Bate continência malandrão.')\n",
    "else:\n",
    "    print('Tá na reserva né? Faz {} que você passou pelo periodo de alistamento kkk'.format(idade-18))\n"
   ]
  },
  {
   "cell_type": "markdown",
   "metadata": {},
   "source": [
    "### Exerc 40"
   ]
  },
  {
   "cell_type": "code",
   "execution_count": null,
   "metadata": {},
   "outputs": [],
   "source": [
    "print('-==-'*50)\n",
    "print('EXERCICIO 40 - MÉDIA ESCOLAR')\n",
    "print('-==-'*50)\n",
    "nota1=float(input('Digite a sua nota: '))\n",
    "nota2=float(input('Digite a sua nota: '))\n",
    "\n",
    "media = (nota1+nota2)/2\n",
    "\n",
    "if (media<5):\n",
    "    print('REPROVADO')\n",
    "elif (media<7):\n",
    "    print('RECUPERAÇÃO')\n",
    "else:\n",
    "    print('APROVADO')\n",
    "print('Caro aluno sua nota final foi {:.1f}'.format(media))\n"
   ]
  },
  {
   "cell_type": "markdown",
   "metadata": {},
   "source": [
    "### Exerc 41"
   ]
  },
  {
   "cell_type": "code",
   "execution_count": 1,
   "metadata": {
    "ExecuteTime": {
     "end_time": "2021-04-01T18:19:59.111210Z",
     "start_time": "2021-04-01T18:19:54.695326Z"
    }
   },
   "outputs": [
    {
     "name": "stdout",
     "output_type": "stream",
     "text": [
      "-==--==--==--==--==--==--==--==--==--==--==--==--==--==--==--==--==--==--==--==--==--==--==--==--==--==--==--==--==--==--==--==--==--==--==--==--==--==--==--==--==--==--==--==--==--==--==--==--==--==-\n",
      "EXERCICIO 41 - NATAÇÃO\n",
      "-==--==--==--==--==--==--==--==--==--==--==--==--==--==--==--==--==--==--==--==--==--==--==--==--==--==--==--==--==--==--==--==--==--==--==--==--==--==--==--==--==--==--==--==--==--==--==--==--==--==-\n",
      "Digite o ano de nascimento: 1991\n",
      "Você tem 30 anos. Sua Categoria é: MASTER\n"
     ]
    }
   ],
   "source": [
    "from datetime import date\n",
    "print('-==-'*50)\n",
    "print('EXERCICIO 41 - NATAÇÃO')\n",
    "print('-==-'*50)\n",
    "nasc=int(input('Digite o ano de nascimento: '))\n",
    "\n",
    "ano = date.today().year\n",
    "\n",
    "idade = ano - nasc\n",
    "print('Você tem {} anos. Sua Categoria é: '.format(idade),end='')\n",
    "if(idade<10):\n",
    "    print('MIRIM')\n",
    "elif(idade<15):\n",
    "    print('INFANTIL')\n",
    "elif(idade<20):\n",
    "    print('JUNIOR')\n",
    "elif(idade<21):\n",
    "    print('SÊNIOR')\n",
    "else:\n",
    "    print('MASTER')"
   ]
  },
  {
   "cell_type": "markdown",
   "metadata": {},
   "source": [
    "### Exerc 42"
   ]
  },
  {
   "cell_type": "code",
   "execution_count": 2,
   "metadata": {
    "ExecuteTime": {
     "end_time": "2021-04-01T18:20:23.336743Z",
     "start_time": "2021-04-01T18:20:15.959441Z"
    }
   },
   "outputs": [
    {
     "name": "stdout",
     "output_type": "stream",
     "text": [
      "-==--==--==--==--==--==--==--==--==--==--==--==--==--==--==--==--==--==--==--==--==--==--==--==--==--==--==--==--==--==--==--==--==--==--==--==--==--==--==--==--==--==--==--==--==--==--==--==--==--==-\n",
      "EXERCICIO 42 - ANALISANDO O TRIÂNGULO e FALANDO QUE TIPO É\n",
      "-==--==--==--==--==--==--==--==--==--==--==--==--==--==--==--==--==--==--==--==--==--==--==--==--==--==--==--==--==--==--==--==--==--==--==--==--==--==--==--==--==--==--==--==--==--==--==--==--==--==-\n",
      "Primeiro seguimento: 5\n",
      "Segundo  seguimento: 4\n",
      "Terceiro seguimento: 3\n",
      "Os seguimentos formam um Triângulo\n",
      "Escaleno. Todos os lados são diferentes\n"
     ]
    }
   ],
   "source": [
    "print('-==-'*50)\n",
    "print('EXERCICIO 42 - ANALISANDO O TRIÂNGULO e FALANDO QUE TIPO É')\n",
    "print('-==-'*50)\n",
    "\n",
    "s1=float(input('Primeiro seguimento: '))\n",
    "s2=float(input('Segundo  seguimento: '))\n",
    "s3=float(input('Terceiro seguimento: '))\n",
    "\n",
    "\n",
    "if(s1 < s2+s3 and s2 < s1+s3 and s3 <s1+s2):\n",
    "    print('Os seguimentos formam um Triângulo')\n",
    "    if(s1==s2==s3):\n",
    "        print(\"Equilátero. Todos os lados são iguais.\")\n",
    "    elif(s1==s2 or s2==s3 or s1==s3):\n",
    "        print('Isóceles. Tem dois lados iguais.')\n",
    "    else:\n",
    "        print('Escaleno. Todos os lados são diferentes')\n",
    "else:\n",
    "    print('Os seguimentos não formam um Triângulo')\n",
    "\n"
   ]
  },
  {
   "cell_type": "markdown",
   "metadata": {},
   "source": [
    "### Exerc 43"
   ]
  },
  {
   "cell_type": "code",
   "execution_count": 3,
   "metadata": {
    "ExecuteTime": {
     "end_time": "2021-04-01T18:21:00.318665Z",
     "start_time": "2021-04-01T18:20:51.971378Z"
    }
   },
   "outputs": [
    {
     "name": "stdout",
     "output_type": "stream",
     "text": [
      "-==--==--==--==--==--==--==--==--==--==--==--==--==--==--==--==--==--==--==--==--==--==--==--==--==--==--==--==--==--==--==--==--==--==--==--==--==--==--==--==--==--==--==--==--==--==--==--==--==--==-\n",
      "EXERCICIO 43 - IMC\n",
      "-==--==--==--==--==--==--==--==--==--==--==--==--==--==--==--==--==--==--==--==--==--==--==--==--==--==--==--==--==--==--==--==--==--==--==--==--==--==--==--==--==--==--==--==--==--==--==--==--==--==-\n",
      "Qual é o seu peso?: 78\n",
      "Qual é a sua altura?: 1.69\n",
      "O IMC é: 27.31\n",
      "SOBREPESO\n"
     ]
    }
   ],
   "source": [
    "print('-==-'*50)\n",
    "print('EXERCICIO 43 - IMC')\n",
    "print('-==-'*50)\n",
    "\n",
    "peso = float(input('Qual é o seu peso?: '))\n",
    "altura = float(input('Qual é a sua altura?: '))\n",
    "\n",
    "imc = peso/(altura**2)\n",
    "\n",
    "print('O IMC é: {:.2f}'.format(imc))\n",
    "\n",
    "if(imc<18.5):\n",
    "    print('ABAIXO DO PESO')\n",
    "elif(imc<25):\n",
    "    print('PESO NORMAL')\n",
    "elif(imc<30):\n",
    "    print('SOBREPESO')\n",
    "elif(imc<35):\n",
    "    print('OBESIDADE GRAU 1º')\n",
    "elif(imc<40):\n",
    "    print('OBESIDADE GRAU 2º')\n",
    "else:\n",
    "    print('OBESIDADE GRAU 3º')\n",
    "\n"
   ]
  },
  {
   "cell_type": "markdown",
   "metadata": {
    "ExecuteTime": {
     "end_time": "2021-02-09T00:15:04.091298Z",
     "start_time": "2021-02-09T00:15:04.064303Z"
    }
   },
   "source": [
    "### Exerc 44"
   ]
  },
  {
   "cell_type": "code",
   "execution_count": 4,
   "metadata": {
    "ExecuteTime": {
     "end_time": "2021-04-01T18:22:01.651009Z",
     "start_time": "2021-04-01T18:21:39.109422Z"
    }
   },
   "outputs": [
    {
     "name": "stdout",
     "output_type": "stream",
     "text": [
      "-==--==--==--==--==--==--==--==--==--==--==--==--==--==--==--==--==--==--==--==--==--==--==--==--==--==--==--==--==--==--==--==--==--==--==--==--==--==--==--==--==--==--==--==--==--==--==--==--==--==-\n",
      "EXERCICIO 44 - PAGAMENTO\n",
      "-==--==--==--==--==--==--==--==--==--==--==--==--==--==--==--==--==--==--==--==--==--==--==--==--==--==--==--==--==--==--==--==--==--==--==--==--==--==--==--==--==--==--==--==--==--==--==--==--==--==-\n",
      "Informe o preço do Produto:R$ 55\n",
      "Qual a forma de pagamento?\n",
      "A - à vista - dinheiro\n",
      "C - à vista - cartão\n",
      "2 - 2x no cartão\n",
      "3 - 3x ou mais no cartão\n",
      " Escolha a sua opção:A\n",
      "\n",
      "Você vai pagar R$49.50 o seu produto\n"
     ]
    }
   ],
   "source": [
    "print('-==-'*50)\n",
    "print('EXERCICIO 44 - PAGAMENTO')\n",
    "print('-==-'*50)\n",
    "\n",
    "preco = float(input('Informe o preço do Produto:R$ '))\n",
    "forma_pgto = str(input('Qual a forma de pagamento?\\nA - à vista - dinheiro\\nC - à vista - cartão\\n2 - 2x no cartão\\n3 - 3x ou mais no cartão\\n Escolha a sua opção:').upper())\n",
    "p = 0\n",
    "if(forma_pgto=='A'):\n",
    "    p=preco*0.90\n",
    "elif(forma_pgto=='C'):\n",
    "    p = preco * 0.95\n",
    "elif(forma_pgto=='2'):\n",
    "    p = preco\n",
    "else:\n",
    "    p = preco*1.120\n",
    "print('\\nVocê vai pagar R${:.2f} o seu produto'.format(p))\n"
   ]
  },
  {
   "cell_type": "markdown",
   "metadata": {},
   "source": [
    "### Exerc 45"
   ]
  },
  {
   "cell_type": "code",
   "execution_count": 7,
   "metadata": {
    "ExecuteTime": {
     "end_time": "2021-04-01T18:42:20.963209Z",
     "start_time": "2021-04-01T18:42:07.833475Z"
    }
   },
   "outputs": [
    {
     "name": "stdout",
     "output_type": "stream",
     "text": [
      "Collecting emoji\n",
      "  Downloading emoji-1.2.0-py3-none-any.whl (131 kB)\n",
      "Installing collected packages: emoji\n",
      "Successfully installed emoji-1.2.0\n"
     ]
    }
   ],
   "source": [
    "!pip install emoji"
   ]
  },
  {
   "cell_type": "code",
   "execution_count": 8,
   "metadata": {
    "ExecuteTime": {
     "end_time": "2021-04-01T18:42:32.204173Z",
     "start_time": "2021-04-01T18:42:23.705385Z"
    }
   },
   "outputs": [
    {
     "name": "stdout",
     "output_type": "stream",
     "text": [
      "-==--==--==--==--==--==--==--==--==--==--==--==--==--==--==--==--==--==--==--==--==--==--==--==--==--==--==--==--==--==--==--==--==--==--==--==--==--==--==--==--==--==--==--==--==--==--==--==--==--==-\n",
      "EXERCICIO 45 - JOKEMPÔ\n",
      "-==--==--==--==--==--==--==--==--==--==--==--==--==--==--==--==--==--==--==--==--==--==--==--==--==--==--==--==--==--==--==--==--==--==--==--==--==--==--==--==--==--==--==--==--==--==--==--==--==--==-\n",
      "1 - ✊ - PEDRA\n",
      "2 - ✋ - PAPEL\n",
      "3-  ✌    - TESOURA\n",
      "Digite qual o seu objeto: 2\n",
      "JO\n",
      "KEN\n",
      "PO...\n",
      "ESCOLHA DO COMPUTADOR 2\n",
      "\n",
      "EMPATE. O Duelo foi foi:PAPELxPAPEL \n"
     ]
    }
   ],
   "source": [
    "import emoji\n",
    "import random\n",
    "import time\n",
    "print('-==-'*50)\n",
    "print('EXERCICIO 45 - JOKEMPÔ')\n",
    "print('-==-'*50)\n",
    "print(emoji.emojize('1 - :fist: - PEDRA',use_aliases=True))\n",
    "print(emoji.emojize('2 - :hand: - PAPEL',use_aliases=True))\n",
    "print(emoji.emojize('3-  :v:    - TESOURA',use_aliases=True))\n",
    "\n",
    "opc = int(input('Digite qual o seu objeto: '))\n",
    "\n",
    "jokenpo=[1,2,3]\n",
    "\n",
    "random.shuffle(jokenpo)\n",
    "#print(jokenpo)\n",
    "computador = random.choice(jokenpo)\n",
    "print('JO')\n",
    "time.sleep(1)\n",
    "print('KEN')\n",
    "time.sleep(1)\n",
    "print('PO...')\n",
    "time.sleep(1)\n",
    "print('ESCOLHA DO COMPUTADOR {}\\n'.format(computador))\n",
    "jogo=['PEDRA','PAPEL','TESOURA']\n",
    "resultado =''\n",
    "if(opc==computador):\n",
    "    resultado='EMPATE'\n",
    "else:\n",
    "    if(opc==1):#PEDRA\n",
    "        if(computador==2):\n",
    "            resultado='COMPUTADOR GANHOU. PEDRA PERDE PARA PAPEL'\n",
    "        else:\n",
    "            resultado='VOCÊ GANHOU. PEDRA GANHA DE TESOURA'\n",
    "    elif(opc==2):#PAPEL\n",
    "        if(computador==1):\n",
    "            resultado='VOCÊ GANHOU. PAPEL GANHA DE PEDRA'\n",
    "        else:\n",
    "            resultado='VOCÊ PERDEU. PAPEL PERDE DE TESOURA'\n",
    "    elif(opc==3):#TESOURA\n",
    "        if(computador==1):\n",
    "            resultado='COMPUTADOR GANHOU. PEDRA GANHA DE TESOURA'\n",
    "        else:\n",
    "            resultado='VOCÊ GANHOU. TESOURA GANHA DE PAPEL'\n",
    "\n",
    "print('{}. O Duelo foi foi:{}x{} '.format(resultado,jogo[opc-1],jogo[computador-1]))\n",
    "\n",
    "\n"
   ]
  },
  {
   "cell_type": "markdown",
   "metadata": {},
   "source": [
    "### Exerc 46"
   ]
  },
  {
   "cell_type": "code",
   "execution_count": 10,
   "metadata": {
    "ExecuteTime": {
     "end_time": "2021-04-01T18:43:24.693722Z",
     "start_time": "2021-04-01T18:43:13.560097Z"
    }
   },
   "outputs": [
    {
     "name": "stdout",
     "output_type": "stream",
     "text": [
      "-==--==--==--==--==--==--==--==--==--==--==--==--==--==--==--==--==--==--==--==--==--==--==--==--==--==--==--==--==--==--==--==--==--==--==--==--==--==--==--==--==--==--==--==--==--==--==--==--==--==-\n",
      "AULA 46 - Estrutura de Repetição 10 ate 0\n",
      "-==--==--==--==--==--==--==--==--==--==--==--==--==--==--==--==--==--==--==--==--==--==--==--==--==--==--==--==--==--==--==--==--==--==--==--==--==--==--==--==--==--==--==--==--==--==--==--==--==--==-\n",
      "10\n",
      "9\n",
      "8\n",
      "7\n",
      "6\n",
      "5\n",
      "4\n",
      "3\n",
      "2\n",
      "1\n",
      "0\n",
      "Feliz ANO NOVO\n"
     ]
    }
   ],
   "source": [
    "import time\n",
    "print('-==-'*50)\n",
    "print('AULA 46 - Estrutura de Repetição 10 ate 0')\n",
    "print('-==-'*50)\n",
    "for c in range (10,-1,-1):\n",
    "    print(c)\n",
    "    time.sleep(1)\n",
    "print('Feliz ANO NOVO')\n",
    "\n",
    "\n"
   ]
  },
  {
   "cell_type": "markdown",
   "metadata": {},
   "source": [
    "### Exerc 47"
   ]
  },
  {
   "cell_type": "code",
   "execution_count": 12,
   "metadata": {
    "ExecuteTime": {
     "end_time": "2021-04-01T18:47:28.888176Z",
     "start_time": "2021-04-01T18:47:28.866179Z"
    }
   },
   "outputs": [
    {
     "name": "stdout",
     "output_type": "stream",
     "text": [
      "-==--==--==--==--==--==--==--==--==--==--==--==--==--==--==--==--==--==--==--==--==--==--==--==--==--==--==--==--==--==--==--==--==--==--==--==--==--==--==--==--==--==--==--==--==--==--==--==--==--==-\n",
      "AULA 47 - Números pares entre 1 e 50\n",
      "-==--==--==--==--==--==--==--==--==--==--==--==--==--==--==--==--==--==--==--==--==--==--==--==--==--==--==--==--==--==--==--==--==--==--==--==--==--==--==--==--==--==--==--==--==--==--==--==--==--==-\n",
      "2\n",
      "4\n",
      "6\n",
      "8\n",
      "10\n",
      "12\n",
      "14\n",
      "16\n",
      "18\n",
      "20\n",
      "22\n",
      "24\n",
      "26\n",
      "28\n",
      "30\n",
      "32\n",
      "34\n",
      "36\n",
      "38\n",
      "40\n",
      "42\n",
      "44\n",
      "46\n",
      "48\n",
      "50\n",
      "Na sequência entre 1-50 tem 25 números pares\n",
      "Números negativos entre 1 e 100\n",
      "[1, 3, 5, 7, 9, 11, 13, 15, 17, 19, 21, 23, 25, 27, 29, 31, 33, 35, 37, 39, 41, 43, 45, 47, 49, 51, 53, 55, 57, 59, 61, 63, 65, 67, 69, 71, 73, 75, 77, 79, 81, 83, 85, 87, 89, 91, 93, 95, 97, 99]\n"
     ]
    }
   ],
   "source": [
    "print('-==-'*50)\n",
    "print('AULA 47 - Números pares entre 1 e 50')\n",
    "print('-==-'*50)\n",
    "x=0\n",
    "for c in range (0,51,2):\n",
    "    if(c!=0):\n",
    "        x=x+1\n",
    "        print(c)\n",
    "print('Na sequência entre 1-50 tem {} números pares'.format(x))\n",
    "\n",
    "\n",
    "print('Números negativos entre 1 e 100')\n",
    "numeros_negativos = list(range(1,100,2))\n",
    "print(numeros_negativos)"
   ]
  },
  {
   "cell_type": "markdown",
   "metadata": {},
   "source": [
    "### Exerc 48"
   ]
  },
  {
   "cell_type": "code",
   "execution_count": 13,
   "metadata": {
    "ExecuteTime": {
     "end_time": "2021-04-01T19:08:14.252025Z",
     "start_time": "2021-04-01T19:08:14.226025Z"
    }
   },
   "outputs": [
    {
     "name": "stdout",
     "output_type": "stream",
     "text": [
      "-==--==--==--==--==--==--==--==--==--==--==--==--==--==--==--==--==--==--==--==--==--==--==--==--==--==--==--==--==--==--==--==--==--==--==--==--==--==--==--==--==--==--==--==--==--==--==--==--==--==-\n",
      "AULA 48 - Múltiplos de 3  - até 500\n",
      "-==--==--==--==--==--==--==--==--==--==--==--==--==--==--==--==--==--==--==--==--==--==--==--==--==--==--==--==--==--==--==--==--==--==--==--==--==--==--==--==--==--==--==--==--==--==--==--==--==--==-\n",
      "3\n",
      "6\n",
      "9\n",
      "12\n",
      "15\n",
      "18\n",
      "21\n",
      "24\n",
      "27\n",
      "30\n",
      "33\n",
      "36\n",
      "39\n",
      "42\n",
      "45\n",
      "48\n",
      "51\n",
      "54\n",
      "57\n",
      "60\n",
      "63\n",
      "66\n",
      "69\n",
      "72\n",
      "75\n",
      "78\n",
      "81\n",
      "84\n",
      "87\n",
      "90\n",
      "93\n",
      "96\n",
      "99\n",
      "102\n",
      "105\n",
      "108\n",
      "111\n",
      "114\n",
      "117\n",
      "120\n",
      "123\n",
      "126\n",
      "129\n",
      "132\n",
      "135\n",
      "138\n",
      "141\n",
      "144\n",
      "147\n",
      "150\n",
      "153\n",
      "156\n",
      "159\n",
      "162\n",
      "165\n",
      "168\n",
      "171\n",
      "174\n",
      "177\n",
      "180\n",
      "183\n",
      "186\n",
      "189\n",
      "192\n",
      "195\n",
      "198\n",
      "201\n",
      "204\n",
      "207\n",
      "210\n",
      "213\n",
      "216\n",
      "219\n",
      "222\n",
      "225\n",
      "228\n",
      "231\n",
      "234\n",
      "237\n",
      "240\n",
      "243\n",
      "246\n",
      "249\n",
      "252\n",
      "255\n",
      "258\n",
      "261\n",
      "264\n",
      "267\n",
      "270\n",
      "273\n",
      "276\n",
      "279\n",
      "282\n",
      "285\n",
      "288\n",
      "291\n",
      "294\n",
      "297\n",
      "300\n",
      "303\n",
      "306\n",
      "309\n",
      "312\n",
      "315\n",
      "318\n",
      "321\n",
      "324\n",
      "327\n",
      "330\n",
      "333\n",
      "336\n",
      "339\n",
      "342\n",
      "345\n",
      "348\n",
      "351\n",
      "354\n",
      "357\n",
      "360\n",
      "363\n",
      "366\n",
      "369\n",
      "372\n",
      "375\n",
      "378\n",
      "381\n",
      "384\n",
      "387\n",
      "390\n",
      "393\n",
      "396\n",
      "399\n",
      "402\n",
      "405\n",
      "408\n",
      "411\n",
      "414\n",
      "417\n",
      "420\n",
      "423\n",
      "426\n",
      "429\n",
      "432\n",
      "435\n",
      "438\n",
      "441\n",
      "444\n",
      "447\n",
      "450\n",
      "453\n",
      "456\n",
      "459\n",
      "462\n",
      "465\n",
      "468\n",
      "471\n",
      "474\n",
      "477\n",
      "480\n",
      "483\n",
      "486\n",
      "489\n",
      "492\n",
      "495\n",
      "498\n",
      "Na sequência entre 1-500 a soma de múltiplos de 3 é 41583 e tem 166 numeros\n"
     ]
    }
   ],
   "source": [
    "print('-==-'*50)\n",
    "print('AULA 48 - Múltiplos de 3  - até 500')\n",
    "print('-==-'*50)\n",
    "s=0\n",
    "soma=0\n",
    "for c in range (1,501,1):\n",
    "    if(c%3==0):\n",
    "        s=s+1\n",
    "        soma=soma+c\n",
    "        print(c)\n",
    "print('Na sequência entre 1-500 a soma de múltiplos de 3 é {} e tem {} numeros'.format(soma,s))"
   ]
  },
  {
   "cell_type": "markdown",
   "metadata": {},
   "source": [
    "### Exerc 49"
   ]
  },
  {
   "cell_type": "code",
   "execution_count": 14,
   "metadata": {
    "ExecuteTime": {
     "end_time": "2021-04-01T19:08:37.864862Z",
     "start_time": "2021-04-01T19:08:31.888131Z"
    }
   },
   "outputs": [
    {
     "name": "stdout",
     "output_type": "stream",
     "text": [
      "Tabuada com FOR\n",
      "Informe um número:12\n",
      "¨¨¨¨¨¨¨¨¨¨¨¨¨¨¨¨¨¨¨¨¨¨¨¨¨¨¨¨¨¨¨¨¨¨¨¨¨¨¨¨¨¨¨¨¨¨¨¨¨¨¨¨¨¨¨¨¨¨¨¨\n",
      "12 X  1 = 12\n",
      "12 X  2 = 24\n",
      "12 X  3 = 36\n",
      "12 X  4 = 48\n",
      "12 X  5 = 60\n",
      "12 X  6 = 72\n",
      "12 X  7 = 84\n",
      "12 X  8 = 96\n",
      "12 X  9 = 108\n",
      "12 X 10 = 120\n",
      "Pronto, Tabuada do 12 na tela\n",
      "--------------------------------------------------\n"
     ]
    }
   ],
   "source": [
    "print('Tabuada com FOR')\n",
    "n1=int(input('Informe um número:'))\n",
    "print('¨¨¨'*20)\n",
    "for c in range (1,11,1):\n",
    "    print('{} X {:2} = {}'.format(n1,c,n1*c))\n",
    "print('Pronto, Tabuada do {} na tela'.format(n1))\n",
    "print('-'*50)\n"
   ]
  },
  {
   "cell_type": "markdown",
   "metadata": {},
   "source": [
    "### Exerc 50"
   ]
  },
  {
   "cell_type": "code",
   "execution_count": 15,
   "metadata": {
    "ExecuteTime": {
     "end_time": "2021-04-01T19:08:58.635509Z",
     "start_time": "2021-04-01T19:08:51.513258Z"
    }
   },
   "outputs": [
    {
     "name": "stdout",
     "output_type": "stream",
     "text": [
      "EXÉRCICIO 50 - LER 6 NÚERMOS E SOMAR OS PARES\n",
      "Informe um número:1\n",
      "Informe um número:2\n",
      "Informe um número:4\n",
      "Informe um número:6\n",
      "Informe um número:8\n",
      "Informe um número:3\n",
      "Pronto, a soma dos números é 20\n",
      "--------------------------------------------------\n"
     ]
    }
   ],
   "source": [
    "print('EXÉRCICIO 50 - LER 6 NÚERMOS E SOMAR OS PARES')\n",
    "s=0\n",
    "for c in range (1,7,1):\n",
    "    n=int(input('Informe um número:'))\n",
    "    if (n%2==0):\n",
    "        s+=n\n",
    "print('Pronto, a soma dos números é {}'.format(s))\n",
    "print('-'*50)\n"
   ]
  },
  {
   "cell_type": "markdown",
   "metadata": {},
   "source": [
    "### Exerc 51"
   ]
  },
  {
   "cell_type": "code",
   "execution_count": 16,
   "metadata": {
    "ExecuteTime": {
     "end_time": "2021-04-01T19:09:21.748442Z",
     "start_time": "2021-04-01T19:09:16.440988Z"
    }
   },
   "outputs": [
    {
     "name": "stdout",
     "output_type": "stream",
     "text": [
      "-==--==--==--==--==--==--==--==--==--==--==--==--==--==--==--==--==--==--==--==--==--==--==--==--==--==--==--==--==--==--==--==--==--==--==--==--==--==--==--==--==--==--==--==--==--==--==--==--==--==-\n",
      "EXÉRCICIO 51 - Progressão Aritmética\n",
      "-==--==--==--==--==--==--==--==--==--==--==--==--==--==--==--==--==--==--==--==--==--==--==--==--==--==--==--==--==--==--==--==--==--==--==--==--==--==--==--==--==--==--==--==--==--==--==--==--==--==-\n",
      "Informe o primeiro termo da PA: 5\n",
      "Informe a razão da PA: 2\n",
      "-==--==--==--==--==--==--==--==--==--==--==--==--==--==--==--==--==--==--==--==--==--==--==--==--==--==--==--==--==--==--==--==--==--==--==--==--==--==--==--==--==--==--==--==--==--==--==--==--==--==-\n",
      "Termo 1º - é 5.00 \n",
      "Termo 2º - é 7.00 \n",
      "Termo 3º - é 9.00 \n",
      "Termo 4º - é 11.00 \n",
      "Termo 5º - é 13.00 \n",
      "Termo 6º - é 15.00 \n",
      "Termo 7º - é 17.00 \n",
      "Termo 8º - é 19.00 \n",
      "Termo 9º - é 21.00 \n",
      "Termo 10º - é 23.00 \n"
     ]
    },
    {
     "data": {
      "text/plain": [
       "\"for c in range(a,11,int(r)):\\n   print('Termo {}º - é {:.2f} '.format(c,a))\\n   #an = an + r\""
      ]
     },
     "execution_count": 16,
     "metadata": {},
     "output_type": "execute_result"
    }
   ],
   "source": [
    "print('-==-'*50)\n",
    "print('EXÉRCICIO 51 - Progressão Aritmética')\n",
    "print('-==-'*50)\n",
    "\n",
    "a = int(input('Informe o primeiro termo da PA: '))\n",
    "r = float(input('Informe a razão da PA: '))\n",
    "an=a\n",
    "print('-==-'*50)\n",
    "for c in range(1,11):\n",
    "   print('Termo {}º - é {:.2f} '.format(c,an))\n",
    "   an = an + r\n",
    "\n",
    "'''for c in range(a,11,int(r)):\n",
    "   print('Termo {}º - é {:.2f} '.format(c,a))\n",
    "   #an = an + r'''"
   ]
  },
  {
   "cell_type": "markdown",
   "metadata": {},
   "source": [
    "### Exerc 52"
   ]
  },
  {
   "cell_type": "code",
   "execution_count": 17,
   "metadata": {
    "ExecuteTime": {
     "end_time": "2021-04-01T19:10:14.358788Z",
     "start_time": "2021-04-01T19:10:12.145849Z"
    }
   },
   "outputs": [
    {
     "name": "stdout",
     "output_type": "stream",
     "text": [
      "-==--==--==--==--==--==--==--==--==--==--==--==--==--==--==--==--==--==--==--==--==--==--==--==--==--==--==--==--==--==--==--==--==--==--==--==--==--==--==--==--==--==--==--==--==--==--==--==--==--==-\n",
      "EXÉRCICIO 52 - NÚMERO PRIMO\n",
      "-==--==--==--==--==--==--==--==--==--==--==--==--==--==--==--==--==--==--==--==--==--==--==--==--==--==--==--==--==--==--==--==--==--==--==--==--==--==--==--==--==--==--==--==--==--==--==--==--==--==-\n",
      "Digite um número: 5\n",
      "O número 5 foi divisível 2 vezes!\n",
      "O número é primo\n"
     ]
    }
   ],
   "source": [
    "print('-==-'*50)\n",
    "print('EXÉRCICIO 52 - NÚMERO PRIMO')\n",
    "print('-==-'*50)\n",
    "\n",
    "#n = int(input('Informe um número: '))\n",
    "#print('{}'.format(n//n))\n",
    "#if(n%n==0):\n",
    "#    print('{} é número primo'.format(n))\n",
    "#else:\n",
    "#    print('{} NÃO é número primo'.format(n))\n",
    "\n",
    "\n",
    "for c in range(2,101):\n",
    "    if(c%2!=0 or c==2):\n",
    "        #print('Pegando os Impares, exceto o 2')\n",
    "\n",
    "        #m = n ∙ k\n",
    "        if (c % c == 1):\n",
    "            # print('{} é número primo'.format(c))\n",
    "            print('{}'.format(c),end=' ')\n",
    "\n",
    "   # if (c % c == 0):\n",
    "   #     print('{} é número primo'.format(c))\n",
    "    #else:\n",
    "     #    print('{} NÃO é número primo'.format(c))\n",
    "\n",
    "'''\n",
    "for c in range(2,101):\n",
    "    if(c%2!=0 or c==2):\n",
    "        #print('Pegando os Impares')\n",
    "        if(c%3!=0 and c!=3):\n",
    "\n",
    "            print('{}'.format(c),end=' ')\n",
    "'''\n",
    "\n",
    "\n",
    "num = int(input(\"Digite um número: \"))\n",
    "contador = 0\n",
    "\n",
    "for i in range(1, num + 1):\n",
    "    if num % i == 0:\n",
    "        contador += 1\n",
    "\n",
    "print(\"O número {} foi divisível {} vezes!\".format(num, contador))\n",
    "\n",
    "if contador == 2:\n",
    "    print(\"O número é primo\")\n",
    "else:\n",
    "    print(\"O número não é primo\")"
   ]
  },
  {
   "cell_type": "markdown",
   "metadata": {},
   "source": [
    "### Exerc 53"
   ]
  },
  {
   "cell_type": "code",
   "execution_count": 21,
   "metadata": {
    "ExecuteTime": {
     "end_time": "2021-04-01T19:13:35.198085Z",
     "start_time": "2021-04-01T19:13:28.639965Z"
    }
   },
   "outputs": [
    {
     "name": "stdout",
     "output_type": "stream",
     "text": [
      "-==--==--==--==--==--==--==--==--==--==--==--==--==--==--==--==--==--==--==--==--==--==--==--==--==--==--==--==--==--==--==--==--==--==--==--==--==--==--==--==--==--==--==--==--==--==--==--==--==--==-\n",
      "EXÉRCICIO 53 - PALINDROMO\n",
      "-==--==--==--==--==--==--==--==--==--==--==--==--==--==--==--==--==--==--==--==--==--==--==--==--==--==--==--==--==--==--==--==--==--==--==--==--==--==--==--==--==--==--==--==--==--==--==--==--==--==-\n",
      "Digite uma frase: ovo\n",
      "OVO\n",
      "['O', 'V', 'O']\n",
      "OVO\n",
      "PALINDROMO\n"
     ]
    }
   ],
   "source": [
    "print('-==-'*50)\n",
    "print('EXÉRCICIO 53 - PALINDROMO')\n",
    "print('-==-'*50)\n",
    "\n",
    "frase=str(input('Digite uma frase: ')).upper().strip()\n",
    "frase_ = list(frase)\n",
    "frase_ =frase_[::-1]\n",
    "frase2 = ''.join(frase_)\n",
    "\n",
    "print(frase)\n",
    "print(frase_[::-1])\n",
    "print(frase2)\n",
    "\n",
    "\n",
    "if(frase.replace(' ','')==frase2.replace(' ','')):\n",
    "    print('PALINDROMO')\n",
    "else:\n",
    "    print('NÃO É PALÍNDROMO')"
   ]
  },
  {
   "cell_type": "markdown",
   "metadata": {},
   "source": [
    "### Exerc 54"
   ]
  },
  {
   "cell_type": "code",
   "execution_count": 22,
   "metadata": {
    "ExecuteTime": {
     "end_time": "2021-04-01T19:14:16.551730Z",
     "start_time": "2021-04-01T19:13:48.289861Z"
    }
   },
   "outputs": [
    {
     "name": "stdout",
     "output_type": "stream",
     "text": [
      "-==--==--==--==--==--==--==--==--==--==--==--==--==--==--==--==--==--==--==--==--==--==--==--==--==--==--==--==--==--==--==--==--==--==--==--==--==--==--==--==--==--==--==--==--==--==--==--==--==--==-\n",
      "EXÉRCICIO 54 - VERIFICAR SE É MAIOR DE IDADE\n",
      "-==--==--==--==--==--==--==--==--==--==--==--==--==--==--==--==--==--==--==--==--==--==--==--==--==--==--==--==--==--==--==--==--==--==--==--==--==--==--==--==--==--==--==--==--==--==--==--==--==--==-\n",
      "1º - Qual é o ano de nascimento:1991\n",
      "2º - Qual é o ano de nascimento:1992\n",
      "3º - Qual é o ano de nascimento:1893\n",
      "4º - Qual é o ano de nascimento:1992\n",
      "5º - Qual é o ano de nascimento:1995\n",
      "6º - Qual é o ano de nascimento:1789\n",
      "7º - Qual é o ano de nascimento:15653\n",
      "1 menores de idade\n",
      " 1 maiores de idade\n"
     ]
    }
   ],
   "source": [
    "from datetime import date\n",
    "print('-==-'*50)\n",
    "print('EXÉRCICIO 54 - VERIFICAR SE É MAIOR DE IDADE')\n",
    "print('-==-'*50)\n",
    "maior=0\n",
    "menor=0\n",
    "for c in range(1,8):\n",
    "    nasc=int(input('{}º - Qual é o ano de nascimento:'.format(c)))\n",
    "    idade = date.today().year-nasc\n",
    "   # print('{} idade'.format(idade))\n",
    "    if(idade<18):\n",
    "        menor=menor+1\n",
    "    else:\n",
    "        maior=menor+1\n",
    "print('{} menores de idade\\n {} maiores de idade'.format(menor,maior))"
   ]
  },
  {
   "cell_type": "markdown",
   "metadata": {},
   "source": [
    "### Exerc 55"
   ]
  },
  {
   "cell_type": "code",
   "execution_count": 23,
   "metadata": {
    "ExecuteTime": {
     "end_time": "2021-04-01T19:16:29.622690Z",
     "start_time": "2021-04-01T19:16:15.536421Z"
    }
   },
   "outputs": [
    {
     "name": "stdout",
     "output_type": "stream",
     "text": [
      "-==--==--==--==--==--==--==--==--==--==--==--==--==--==--==--==--==--==--==--==--==--==--==--==--==--==--==--==--==--==--==--==--==--==--==--==--==--==--==--==--==--==--==--==--==--==--==--==--==--==-\n",
      "EXÉRCICIO 55 - VERIFICAR SE PESO\n",
      "-==--==--==--==--==--==--==--==--==--==--==--==--==--==--==--==--==--==--==--==--==--==--==--==--==--==--==--==--==--==--==--==--==--==--==--==--==--==--==--==--==--==--==--==--==--==--==--==--==--==-\n",
      "1º - Qual é o seu peso:78\n",
      "2º - Qual é o seu peso:96\n",
      "3º - Qual é o seu peso:55\n",
      "4º - Qual é o seu peso:22\n",
      "5º - Qual é o seu peso:59\n",
      "O louco meu! O mais pesado é 96.0kg e o mais leve é 22.0kg \n"
     ]
    }
   ],
   "source": [
    "from datetime import date\n",
    "print('-==-'*50)\n",
    "print('EXÉRCICIO 55 - VERIFICAR SE PESO')\n",
    "print('-==-'*50)\n",
    "maior=0\n",
    "menor=999\n",
    "for c in range(1,6):\n",
    "    peso=float(input('{}º - Qual é o seu peso:'.format(c)))\n",
    "    if(peso>maior):\n",
    "        maior=peso\n",
    "    if(peso<menor):\n",
    "        menor=peso\n",
    "print('O louco meu! O mais pesado é {}kg e o mais leve é {}kg '.format(maior,menor))"
   ]
  },
  {
   "cell_type": "markdown",
   "metadata": {
    "ExecuteTime": {
     "end_time": "2021-04-01T19:10:34.853644Z",
     "start_time": "2021-04-01T19:10:34.834648Z"
    }
   },
   "source": [
    "### Exerc 56"
   ]
  },
  {
   "cell_type": "code",
   "execution_count": 24,
   "metadata": {
    "ExecuteTime": {
     "end_time": "2021-04-01T19:17:19.456063Z",
     "start_time": "2021-04-01T19:16:38.341371Z"
    }
   },
   "outputs": [
    {
     "name": "stdout",
     "output_type": "stream",
     "text": [
      "-==--==--==--==--==--==--==--==--==--==--==--==--==--==--==--==--==--==--==--==--==--==--==--==--==--==--==--==--==--==--==--==--==--==--==--==--==--==--==--==--==--==--==--==--==--==--==--==--==--==-\n",
      "EXÉRCICIO 56 - PESSOAS\n",
      "-==--==--==--==--==--==--==--==--==--==--==--==--==--==--==--==--==--==--==--==--==--==--==--==--==--==--==--==--==--==--==--==--==--==--==--==--==--==--==--==--==--==--==--==--==--==--==--==--==--==-\n",
      "1º - Nome:Gregorio\n",
      "1º - Idade:30\n",
      "1º - Sexo [M/F]:M\n",
      "----------------------------------------------------------------------------------------------------\n",
      "2º - Nome:Amanda\n",
      "2º - Idade:32\n",
      "2º - Sexo [M/F]:F\n",
      "----------------------------------------------------------------------------------------------------\n",
      "3º - Nome:Iago\n",
      "3º - Idade:29\n",
      "3º - Sexo [M/F]:M\n",
      "----------------------------------------------------------------------------------------------------\n",
      "4º - Nome:Daniela\n",
      "4º - Idade:20\n",
      "4º - Sexo [M/F]:F\n",
      "----------------------------------------------------------------------------------------------------\n",
      "A média de idade da galera é 27.75. Homem mais velho = Gregorio. E tem 0 mulheres menos de 20 anos\n"
     ]
    }
   ],
   "source": [
    "print('-==-'*50)\n",
    "print('EXÉRCICIO 56 - PESSOAS')\n",
    "print('-==-'*50)\n",
    "media = 0\n",
    "soma_idade=0\n",
    "idade_x=0\n",
    "nome_mais_velho='Não Tem'\n",
    "menos_20=0\n",
    "for c in range(1,5):\n",
    "    nome=str(input('{}º - Nome:'.format(c)))\n",
    "    idade=int(input('{}º - Idade:'.format(c)))\n",
    "    sexo =str(input('{}º - Sexo [M/F]:'.format(c)).upper())\n",
    "    print('--' * 50)\n",
    "    soma_idade=soma_idade+idade\n",
    "    if(sexo=='M' and idade_x<idade):\n",
    "        idade_x=idade\n",
    "        nome_mais_velho=nome\n",
    "    if(sexo=='F' and idade<20):\n",
    "        menos_20=menos_20+1\n",
    "\n",
    "print('A média de idade da galera é {}. Homem mais velho = {}. E tem {} mulheres menos de 20 anos'.format(soma_idade/4,nome_mais_velho,menos_20))\n"
   ]
  },
  {
   "cell_type": "markdown",
   "metadata": {
    "ExecuteTime": {
     "end_time": "2021-04-01T19:10:54.109414Z",
     "start_time": "2021-04-01T19:10:54.092417Z"
    }
   },
   "source": [
    "### Exerc 57"
   ]
  },
  {
   "cell_type": "code",
   "execution_count": 25,
   "metadata": {
    "ExecuteTime": {
     "end_time": "2021-04-01T19:18:33.325507Z",
     "start_time": "2021-04-01T19:17:26.958286Z"
    }
   },
   "outputs": [
    {
     "name": "stdout",
     "output_type": "stream",
     "text": [
      "-==--==--==--==--==--==--==--==--==--==--==--==--==--==--==--==--==--==--==--==--==--==--==--==--==--==--==--==--==--==--==--==--==--==--==--==--==--==--==--==--==--==--==--==--==--==--==--==--==--==-\n",
      "AULA 14  - WHILE - EXPLICAÇÃO DOS CONCEITOS\n",
      "-==--==--==--==--==--==--==--==--==--==--==--==--==--==--==--==--==--==--==--==--==--==--==--==--==--==--==--==--==--==--==--==--==--==--==--==--==--==--==--==--==--==--==--==--==--==--==--==--==--==-\n",
      "Digite um número: 5\n",
      "Digite um número: 3\n",
      "Digite um número: 6\n",
      "Digite um número: 9\n",
      "Digite um número: 4\n",
      "Digite um número: 1\n",
      "Digite um número: 2\n",
      "Digite um número: 6\n",
      "Digite um número: 8\n",
      "Digite um número: 6\n",
      "Digite um número: 6\n",
      "Digite um número: 5\n",
      "Digite um número: 4\n",
      "Digite um número: 5\n",
      "Digite um número: 5\n",
      "Digite um número: 10\n",
      "Digite um número: 11\n",
      "Digite um número: 17\n",
      "Digite um número: 1\n",
      "Digite um número: 10\n",
      "Digite um número: 0\n",
      "FIM com o X=0\n",
      "A sequencia de números foi [5, 3, 6, 9, 4, 1, 2, 6, 8, 6, 6, 5, 4, 5, 5, 10, 11, 17, 1, 10]\n",
      "PAR 10\n",
      "IMPAR 10\n",
      "Você informou 20 números. O maior numero foi 17 e o menor foi 1 e a soma da lista é:124. A média é 6.2\n",
      "Digite o seu Sexo: [M/F]: M\n",
      "Digite o seu Sexo: [M/F]: D\n",
      "Digite o seu Sexo: [M/F]: F\n",
      "O sexo registrado foi: F\n"
     ]
    }
   ],
   "source": [
    "print('-==-'*50)\n",
    "print('AULA 14  - WHILE - EXPLICAÇÃO DOS CONCEITOS')\n",
    "print('-==-'*50)\n",
    "\n",
    "'''for c in range(1,11):\n",
    "    print(c)\n",
    "print('Esturutura com o FOR')'''\n",
    "c=1\n",
    "'''while c<=10:\n",
    "    print(c)\n",
    "    c=c+1\n",
    "print('Esturutura com o WHILE')'''\n",
    "\n",
    "r='S'\n",
    "'''while r=='S':\n",
    "    n=int(input('Digite um número: '))\n",
    "    r=str(input('Deseja Continuar? [S/N]: ')).upper().strip()\n",
    "print('FIM')'''\n",
    "\n",
    "par=0\n",
    "impar=0\n",
    "x=1\n",
    "numeros = []\n",
    "while x!=0:\n",
    "    x=int(input('Digite um número: '))\n",
    "\n",
    "    if(x%2==0):\n",
    "        if(x!=0):\n",
    "            par=par+1\n",
    "    else:\n",
    "        impar = impar+1\n",
    "    numeros.append(x)\n",
    "print('FIM com o X=0')\n",
    "numeros.pop()#Remove o último elemento daa lista. No caso que sempre será 0\n",
    "print('A sequencia de números foi {}'.format(numeros))\n",
    "print('PAR {}\\nIMPAR {}'.format(par,impar))\n",
    "print('Você informou {} números. O maior numero foi {} e o menor foi {} e a soma da lista é:{}. A média é {}'.format(len(numeros),max(numeros),min(numeros),sum(numeros),sum(numeros)/len(numeros)))\n",
    "\n",
    "b = 0\n",
    "while b==0:\n",
    "    s=str(input('Digite o seu Sexo: [M/F]: ')).upper().strip()[0]\n",
    "\n",
    "    if s=='F' or s=='M':\n",
    "        b=1\n",
    "    else:\n",
    "        print('DIGITE CORRETAMENTE!!!')\n",
    "        b=0\n",
    "\n",
    "#Mais ELEGANTE\n",
    "\n",
    "sexo = str(input('Digite o seu Sexo: [M/F]: ')).strip()[0]\n",
    "while  sexo not in 'MmFf':#MAIS ELEGANTE\n",
    "    sexo = str(input('Digite o seu Sexo: [M/F]: ')).upper().strip()[0]\n",
    "print('O sexo registrado foi: {}'.format(sexo))"
   ]
  },
  {
   "cell_type": "markdown",
   "metadata": {},
   "source": [
    "### Exerc 58"
   ]
  },
  {
   "cell_type": "code",
   "execution_count": 26,
   "metadata": {
    "ExecuteTime": {
     "end_time": "2021-04-01T19:19:12.512236Z",
     "start_time": "2021-04-01T19:18:48.051266Z"
    }
   },
   "outputs": [
    {
     "name": "stdout",
     "output_type": "stream",
     "text": [
      "-==--==--==--==--==--==--==--==--==--==--==--==--==--==--==--==--==--==--==--==--==--==--==--==--==--==--==--==--==--==--==--==--==--==--==--==--==--==--==--==--==--==--==--==--==--==--==--==--==--==-\n",
      "EXERCICIO 58  - JOGO ADVINHAÇÃO - MELHORADO EXERC 28\n",
      "-==--==--==--==--==--==--==--==--==--==--==--==--==--==--==--==--==--==--==--==--==--==--==--==--==--==--==--==--==--==--==--==--==--==--==--==--==--==--==--==--==--==--==--==--==--==--==--==--==--==-\n",
      "Em que número eu pensei?: 17\n",
      "Em que número eu pensei?: 20\n",
      "Em que número eu pensei?: 65\n",
      "Em que número eu pensei?: 6\n",
      "Em que número eu pensei?: 10\n",
      "Em que número eu pensei?: 5\n",
      "Em que número eu pensei?: 5\n",
      "Em que número eu pensei?: 3\n",
      "Em que número eu pensei?: 1\n",
      "Em que número eu pensei?: 1\n",
      "Em que número eu pensei?: 5\n",
      "Em que número eu pensei?: 5\n",
      "Em que número eu pensei?: 6\n",
      "Em que número eu pensei?: 2\n",
      "Revelando o meu número 2. Você acertou mas precisou de 14 chances\n"
     ]
    }
   ],
   "source": [
    "print('-==-'*50)\n",
    "print('EXERCICIO 58  - JOGO ADVINHAÇÃO - MELHORADO EXERC 28')\n",
    "print('-==-'*50)\n",
    "import random\n",
    "u=-1\n",
    "n = int(random.randint(0,10))\n",
    "chances = 0\n",
    "\n",
    "while u!=n:\n",
    "    u = int(input('Em que número eu pensei?: '))\n",
    "    chances+=1\n",
    "\n",
    "print('Revelando o meu número {}. Você acertou mas precisou de {} chances'.format(n,chances))"
   ]
  },
  {
   "cell_type": "markdown",
   "metadata": {},
   "source": [
    "### Exerc 59"
   ]
  },
  {
   "cell_type": "code",
   "execution_count": 27,
   "metadata": {
    "ExecuteTime": {
     "end_time": "2021-04-01T19:19:46.744639Z",
     "start_time": "2021-04-01T19:19:18.685288Z"
    }
   },
   "outputs": [
    {
     "name": "stdout",
     "output_type": "stream",
     "text": [
      "-==--==--==--==--==--==--==--==--==--==--==--==--==--==--==--==--==--==--==--==--==--==--==--==--==--==--==--==--==--==--==--==--==--==--==--==--==--==--==--==--==--==--==--==--==--==--==--==--==--==-\n",
      "EXERCICIO 59  - CALCULADORA\n",
      "-==--==--==--==--==--==--==--==--==--==--==--==--==--==--==--==--==--==--==--==--==--==--==--==--==--==--==--==--==--==--==--==--==--==--==--==--==--==--==--==--==--==--==--==--==--==--==--==--==--==-\n",
      "Digite um número: 5\n",
      "Digite um número: 1\n",
      "\n",
      "MENU DE OPÇÕES\n",
      "[1] SOMAR\n",
      "[2] MULTIPLICAR\n",
      "[3] MAIOR\n",
      "[4] NOVOS NÚMEROS\n",
      "[5] SAIR DO PROGRAMA\n",
      "\n",
      "Digite a sua opção 4\n",
      "OPÇÃO ESCOLHIDA FOI ESCOLHER OUTROS NÚMEROS\n",
      "Digite um número: 5\n",
      "Digite um número: 6\n",
      "Digite a sua opção 2\n",
      "OPÇÃO ESCOLHIDA FOI MULTIPLICAR\n",
      "O PRODUTO ENTRE 5 * 6 = 30\n",
      "Digite a sua opção 1\n",
      "OPÇÃO ESCOLHIDA FOI SOMAR\n",
      "A SOMA ENTRE 5 + NUMERO 6 = 11\n",
      "Digite a sua opção 3\n",
      "OPÇÃO ESCOLHIDA FOI ENCONTRAR O MAIOR\n",
      "O MAIOR ENTRE 5 E 6 = 6\n",
      "Digite a sua opção 5\n",
      "OPÇÃO ESCOLHIDA FOI ENCERRAR O PROGRAMA\n",
      "SAIU DO SISTEMA\n"
     ]
    }
   ],
   "source": [
    "print('-==-'*50)\n",
    "print('EXERCICIO 59  - CALCULADORA')\n",
    "print('-==-'*50)\n",
    "op=''\n",
    "n1 = int(input('Digite um número: '))\n",
    "n2 = int(input('Digite um número: '))\n",
    "print('''\n",
    "MENU DE OPÇÕES\n",
    "[1] SOMAR\n",
    "[2] MULTIPLICAR\n",
    "[3] MAIOR\n",
    "[4] NOVOS NÚMEROS\n",
    "[5] SAIR DO PROGRAMA\n",
    "''')\n",
    "\n",
    "while op!=5:\n",
    "    op = int(input('Digite a sua opção '))\n",
    "    if (op==1):\n",
    "        print('OPÇÃO ESCOLHIDA FOI SOMAR')\n",
    "        print('A SOMA ENTRE {} + NUMERO {} = {}'.format(n1,n2,n1+n2))\n",
    "    elif(op==2):\n",
    "        print('OPÇÃO ESCOLHIDA FOI MULTIPLICAR')\n",
    "        print('O PRODUTO ENTRE {} * {} = {}'.format(n1, n2, n1 * n2))\n",
    "    elif(op==3):\n",
    "        print('OPÇÃO ESCOLHIDA FOI ENCONTRAR O MAIOR')\n",
    "        print('O MAIOR ENTRE {} E {} = {}'.format(n1, n2, max(n1, n2)))\n",
    "\n",
    "    elif(op==4):\n",
    "        print('OPÇÃO ESCOLHIDA FOI ESCOLHER OUTROS NÚMEROS')\n",
    "        n1 = int(input('Digite um número: '))\n",
    "        n2 = int(input('Digite um número: '))\n",
    "    elif (op == 5):\n",
    "        print('OPÇÃO ESCOLHIDA FOI ENCERRAR O PROGRAMA')\n",
    "        op=5\n",
    "    else:\n",
    "        print('OPÇÃO INVÁLIDA')\n",
    "\n",
    "print('SAIU DO SISTEMA')"
   ]
  },
  {
   "cell_type": "markdown",
   "metadata": {},
   "source": [
    "### Exerc 60"
   ]
  },
  {
   "cell_type": "code",
   "execution_count": 28,
   "metadata": {
    "ExecuteTime": {
     "end_time": "2021-04-01T19:20:04.062861Z",
     "start_time": "2021-04-01T19:19:49.600494Z"
    }
   },
   "outputs": [
    {
     "name": "stdout",
     "output_type": "stream",
     "text": [
      "==================== SEJA BEM VINDO AO EXERCICIO 60 ====================\n",
      "Digite um número: 17\n",
      "[MATH] -  O Fatorial de 17! é 355687428096000\n",
      "O fatorial de 17! é 355687428096000\n",
      "O fatorial de 17! é 355687428096000\n",
      "A sequência é:17 x 16 x 15 x 14 x 13 x 12 x 11 x 10 x 9 x 8 x 7 x 6 x 5 x 4 x 3 x 2 x 1 = 355687428096000\n"
     ]
    }
   ],
   "source": [
    "import math\n",
    "print(('=' * 20) + ' SEJA BEM VINDO AO EXERCICIO 60 ' + ('=' * 20))\n",
    "\n",
    "n = int(input('Digite um número: '))\n",
    "\n",
    "print('[MATH] -  O Fatorial de {}! é {}'.format(n,math.factorial(n)))\n",
    "\n",
    "fat = 1\n",
    "c=1\n",
    "conjunto=''\n",
    "while c<=n:\n",
    "    fat = fat * c\n",
    "    #conjunto +=' '.join(str(c))\n",
    "    c+=1\n",
    "    #print('FAT {} - N={} e N={}'.format(fat,c,c-1))\n",
    "\n",
    "print('O fatorial de {}! é {}'.format(n,fat))\n",
    "z = n\n",
    "fat = 1\n",
    "while z>0:\n",
    "    fat = fat * z\n",
    "    conjunto +=''.join(str(z))+(' x ' if z>1 else ' = {}'.format(fat))\n",
    "\n",
    "    #print('{} X '.format(z),end='')\n",
    "    z-=1\n",
    "\n",
    "print('O fatorial de {}! é {}'.format(n,fat))\n",
    "print('A sequência é:{0}'.format(conjunto))"
   ]
  },
  {
   "cell_type": "markdown",
   "metadata": {
    "ExecuteTime": {
     "end_time": "2021-04-01T19:11:33.659772Z",
     "start_time": "2021-04-01T19:11:33.643777Z"
    }
   },
   "source": [
    "### Exerc 61"
   ]
  },
  {
   "cell_type": "code",
   "execution_count": 29,
   "metadata": {
    "ExecuteTime": {
     "end_time": "2021-04-01T19:20:13.149951Z",
     "start_time": "2021-04-01T19:20:09.024128Z"
    }
   },
   "outputs": [
    {
     "name": "stdout",
     "output_type": "stream",
     "text": [
      "-==--==--==--==--==--==--==--==--==--==--==--==--==--==--==--==--==--==--==--==--==--==--==--==--==--==--==--==--==--==--==--==--==--==--==--==--==--==--==--==--==--==--==--==--==--==--==--==--==--==-\n",
      "EXÉRCICIO 61 - Progressão Aritmética com While\n",
      "-==--==--==--==--==--==--==--==--==--==--==--==--==--==--==--==--==--==--==--==--==--==--==--==--==--==--==--==--==--==--==--==--==--==--==--==--==--==--==--==--==--==--==--==--==--==--==--==--==--==-\n",
      "Informe o primeiro termo da PA: 6\n",
      "Informe a razão da PA: 2\n",
      "Termo 1º - é 6.00 \n",
      "Termo 2º - é 8.00 \n",
      "Termo 3º - é 10.00 \n",
      "Termo 4º - é 12.00 \n",
      "Termo 5º - é 14.00 \n",
      "Termo 6º - é 16.00 \n",
      "Termo 7º - é 18.00 \n",
      "Termo 8º - é 20.00 \n",
      "Termo 9º - é 22.00 \n",
      "Termo 10º - é 24.00 \n"
     ]
    }
   ],
   "source": [
    "print('-==-'*50)\n",
    "print('EXÉRCICIO 61 - Progressão Aritmética com While')\n",
    "print('-==-'*50)\n",
    "\n",
    "a = int(input('Informe o primeiro termo da PA: '))\n",
    "r = float(input('Informe a razão da PA: '))\n",
    "an=a\n",
    "\n",
    "x = 1\n",
    "while x<11:\n",
    "   print('Termo {}º - é {:.2f} '.format(x,an))\n",
    "   an = an + r\n",
    "   x+=1\n",
    "\n"
   ]
  },
  {
   "cell_type": "markdown",
   "metadata": {},
   "source": [
    "### Exerc 62"
   ]
  },
  {
   "cell_type": "code",
   "execution_count": 31,
   "metadata": {
    "ExecuteTime": {
     "end_time": "2021-04-01T19:23:00.135574Z",
     "start_time": "2021-04-01T19:22:42.674200Z"
    }
   },
   "outputs": [
    {
     "name": "stdout",
     "output_type": "stream",
     "text": [
      "-==--==--==--==--==--==--==--==--==--==--==--==--==--==--==--==--==--==--==--==--==--==--==--==--==--==--==--==--==--==--==--==--==--==--==--==--==--==--==--==--==--==--==--==--==--==--==--==--==--==-\n",
      "EXÉRCICIO 62 - Progressão Arimética FODONA \n",
      "-==--==--==--==--==--==--==--==--==--==--==--==--==--==--==--==--==--==--==--==--==--==--==--==--==--==--==--==--==--==--==--==--==--==--==--==--==--==--==--==--==--==--==--==--==--==--==--==--==--==-\n",
      "Informe o primeiro termo da PA: 3\n",
      "Informe a razão da PA: 2\n",
      "3 → 5.0 → 7.0 → 9.0 → 11.0 → 13.0 → 15.0 → 17.0 → 19.0 → \n",
      "Quantos termos a mais quer visualizar?: 10\n",
      "21.0 → 23.0 → 25.0 → 27.0 → 29.0 → 31.0 → 33.0 → 35.0 → 37.0 → 39.0 → \n",
      "Quantos termos a mais quer visualizar?: 0\n",
      "41.0 → \n",
      "Você viu 20 termos.\n",
      "NUMEROS: [3, 5.0, 7.0, 9.0, 11.0, 13.0, 15.0, 17.0, 19.0, 21.0, 23.0, 25.0, 27.0, 29.0, 31.0, 33.0, 35.0, 37.0, 39.0, 41.0]\n",
      "SOMA: 440.0\n",
      "MAIOR: 41.0\n",
      "MENOR: 3\n",
      "MEDIA: 22.0\n"
     ]
    }
   ],
   "source": [
    "print('-==-'*50)\n",
    "print('EXÉRCICIO 62 - Progressão Arimética FODONA ')\n",
    "print('-==-'*50)\n",
    "\n",
    "a = int(input('Informe o primeiro termo da PA: '))\n",
    "r = float(input('Informe a razão da PA: '))\n",
    "an=a\n",
    "ate=10\n",
    "x = 1\n",
    "acumulador=0\n",
    "numeros=[]\n",
    "\n",
    "while x<=ate or ate==0:\n",
    "   acumulador+=1\n",
    "   numeros.append(an)\n",
    "   print(\"{} → \".format(an), end='')\n",
    "   an = an + r\n",
    "   x+=1\n",
    "   if(x==ate):\n",
    "       mais_termos = int(input('\\nQuantos termos a mais quer visualizar?: '))\n",
    "       ate+=mais_termos\n",
    "\n",
    "print('\\nVocê viu {} termos.'.format(acumulador))\n",
    "print('NUMEROS: {}'.format(numeros))\n",
    "print('SOMA: {}'.format(sum(numeros)))\n",
    "print('MAIOR: {}'.format(max(numeros)))\n",
    "print('MENOR: {}'.format(min(numeros)))\n",
    "print('MEDIA: {}'.format(sum(numeros)/len(numeros)))\n"
   ]
  },
  {
   "cell_type": "markdown",
   "metadata": {},
   "source": [
    "### Exerc 63"
   ]
  },
  {
   "cell_type": "code",
   "execution_count": null,
   "metadata": {
    "ExecuteTime": {
     "end_time": "2021-04-01T19:22:40.199228Z",
     "start_time": "2021-04-01T19:22:11.183Z"
    }
   },
   "outputs": [],
   "source": [
    "import math\n",
    "print('-==-'*50)\n",
    "print('EXÉRCICIO 63 - SUQÊNCIA DE FIBONACCI ')\n",
    "print('-==-'*50)\n",
    "\n",
    "n = int(input('Informe termos quer mostrar: '))\n",
    "numeros = []\n",
    "fib = [0,1]\n",
    "c=2\n",
    "while c<n:\n",
    "    fib.append(fib[c-2]+fib[c-1])\n",
    "    c+=1\n",
    "print('{}'.format(fib))\n",
    "\n",
    "print('''\\nNa matemática, os números de Fibonacci são uma sequência ou sucessão definida como recursiva pela\n",
    "fórmula:\n",
    "F(n + 2) = F(n + 1) + F(n) , com n ≥ 1 e F(1) = F(2) = 1 .\n",
    "Os primeiros números de Fibonacci são:\n",
    "1, 1, 2, 3, 5, 8, 13, 21, 34, 55, 89, 144, 233, 377, 610, 987, 1597, 2584, 4181, 6765, ...\n",
    "Esta sequência foi descrita primeiramente por Leonardo de Pisa, também conhecido como Fibonacci,\n",
    "para descrever o crescimento de uma população de coelhos.''')\n",
    "\n",
    "print('\\n')\n",
    "print('{}'.format(math.fiv))"
   ]
  },
  {
   "cell_type": "markdown",
   "metadata": {},
   "source": [
    "### Exerc 64"
   ]
  },
  {
   "cell_type": "code",
   "execution_count": 32,
   "metadata": {
    "ExecuteTime": {
     "end_time": "2021-04-01T19:23:37.927584Z",
     "start_time": "2021-04-01T19:23:17.618790Z"
    }
   },
   "outputs": [
    {
     "name": "stdout",
     "output_type": "stream",
     "text": [
      "-==--==--==--==--==--==--==--==--==--==--==--==--==--==--==--==--==--==--==--==--==--==--==--==--==--==--==--==--==--==--==--==--==--==--==--==--==--==--==--==--==--==--==--==--==--==--==--==--==--==-\n",
      "EXÉRCICIO 64 - SOMANDO VALORES FRENETICAMENTE\n",
      "-==--==--==--==--==--==--==--==--==--==--==--==--==--==--==--==--==--==--==--==--==--==--==--==--==--==--==--==--==--==--==--==--==--==--==--==--==--==--==--==--==--==--==--==--==--==--==--==--==--==-\n",
      "Digite um número?: 17\n",
      "Digite um número?: 4\n",
      "Digite um número?: 2\n",
      "Digite um número?: 8\n",
      "Digite um número?: 7\n",
      "Digite um número?: 0\n",
      "Digite um número?: 999\n",
      "Revelando os números digitados [17, 4, 2, 8, 7, 0]. Você informou 6 números. A soma dele é 38. O maior numero entre eles é: 17.  O Menor número é 0\n"
     ]
    }
   ],
   "source": [
    "print('-==-'*50)\n",
    "print('EXÉRCICIO 64 - SOMANDO VALORES FRENETICAMENTE')\n",
    "print('-==-'*50)\n",
    "\n",
    "numeros = []\n",
    "u=0\n",
    "while u!=999:\n",
    "    u = int(input('Digite um número?: '))\n",
    "    if u!=999:\n",
    "        numeros.append(u)\n",
    "\n",
    "print('Revelando os números digitados {}. Você informou {} números. A soma dele é {}. O maior numero entre eles é: {}.  O Menor número é {}'.format(numeros, len(numeros), sum(numeros),max(numeros),min(numeros)))"
   ]
  },
  {
   "cell_type": "markdown",
   "metadata": {},
   "source": [
    "### Exerc 65"
   ]
  },
  {
   "cell_type": "code",
   "execution_count": 34,
   "metadata": {
    "ExecuteTime": {
     "end_time": "2021-04-01T19:24:28.863539Z",
     "start_time": "2021-04-01T19:24:01.121123Z"
    }
   },
   "outputs": [
    {
     "name": "stdout",
     "output_type": "stream",
     "text": [
      "-==--==--==--==--==--==--==--==--==--==--==--==--==--==--==--==--==--==--==--==--==--==--==--==--==--==--==--==--==--==--==--==--==--==--==--==--==--==--==--==--==--==--==--==--==--==--==--==--==--==-\n",
      "EXÉRCICIO 65 - SOMANDO VALORES FRENETICAMENTE COM S/N\n",
      "-==--==--==--==--==--==--==--==--==--==--==--==--==--==--==--==--==--==--==--==--==--==--==--==--==--==--==--==--==--==--==--==--==--==--==--==--==--==--==--==--==--==--==--==--==--==--==--==--==--==-\n",
      "Digite um número?: 10\n",
      "QUER CONTINUAR? [S/N]2\n",
      "Digite um número?: 3\n",
      "QUER CONTINUAR? [S/N]3\n",
      "Digite um número?: 2\n",
      "QUER CONTINUAR? [S/N]S\n",
      "Digite um número?: 6\n",
      "QUER CONTINUAR? [S/N]S\n",
      "Digite um número?: 6\n",
      "QUER CONTINUAR? [S/N]S\n",
      "Digite um número?: 1\n",
      "QUER CONTINUAR? [S/N]S\n",
      "Digite um número?: 2\n",
      "QUER CONTINUAR? [S/N]S\n",
      "Digite um número?: 5\n",
      "QUER CONTINUAR? [S/N]N\n",
      "Revelando os números digitados [10, 3, 2, 6, 6, 1, 2, 5]. Você informou 8 números. A soma dele é 35. O maior numero entre eles é: 10.  O Menor número é 1\n"
     ]
    }
   ],
   "source": [
    "print('-==-'*50)\n",
    "print('EXÉRCICIO 65 - SOMANDO VALORES FRENETICAMENTE COM S/N')\n",
    "print('-==-'*50)\n",
    "numeros = []\n",
    "u=0\n",
    "opc =''\n",
    "while opc!='N': #while opc in 'Ss':\n",
    "    u = int(input('Digite um número?: '))\n",
    "    numeros.append(u)\n",
    "    opc = str(input('QUER CONTINUAR? [S/N]')).strip().upper()[0]\n",
    "print('Revelando os números digitados {}. Você informou {} números. A soma dele é {}. O maior numero entre eles é: {}.  O Menor número é {}'.format(numeros, len(numeros), sum(numeros),max(numeros),min(numeros)))"
   ]
  },
  {
   "cell_type": "markdown",
   "metadata": {},
   "source": [
    "### Exerc 66"
   ]
  },
  {
   "cell_type": "code",
   "execution_count": 36,
   "metadata": {
    "ExecuteTime": {
     "end_time": "2021-04-01T19:25:04.200799Z",
     "start_time": "2021-04-01T19:24:53.979413Z"
    }
   },
   "outputs": [
    {
     "name": "stdout",
     "output_type": "stream",
     "text": [
      "-==--==--==--==--==--==--==--==--==--==--==--==--==--==--==--==--==--==--==--==--==--==--==--==--==--==--==--==--==--==--==--==--==--==--==--==--==--==--==--==--==--==--==--==--==--==--==--==--==--==-\n",
      "AULA 15 - WHILE + TRUE + BREAK\n",
      "-==--==--==--==--==--==--==--==--==--==--==--==--==--==--==--==--==--==--==--==--==--==--==--==--==--==--==--==--==--==--==--==--==--==--==--==--==--==--==--==--==--==--==--==--==--==--==--==--==--==-\n",
      "EXÉRCICIO 66 - SOMANDO VALORES FRENETICAMENTE COM S/N\n",
      "-==--==--==--==--==--==--==--==--==--==--==--==--==--==--==--==--==--==--==--==--==--==--==--==--==--==--==--==--==--==--==--==--==--==--==--==--==--==--==--==--==--==--==--==--==--==--==--==--==--==-\n",
      "Digite um número: 1\n",
      "Digite um número: 2\n",
      "Digite um número: 3\n",
      "Digite um número: 6\n",
      "Digite um número: 5\n",
      "Digite um número: 5\n",
      "Digite um número: 5\n",
      "Digite um número: 6\n",
      "Digite um número: 55\n",
      "Digite um número: 66\n",
      "Digite um número: 85566\n",
      "Digite um número: 5\n",
      "Digite um número: 999\n",
      "F strings\n",
      "Foram digitados 12 e a soma entre eles é 85725\n",
      "-==--==--==--==--==--==--==--==--==--==--==--==--==--==--==--==--==--==--==--==--==--==--==--==--==--==--==--==--==--==--==--==--==--==--==--==--==--==--==--==--==--==--==--==--==--==--==--==--==--==-\n"
     ]
    }
   ],
   "source": [
    "print('-==-'*50)\n",
    "print('AULA 15 - WHILE + TRUE + BREAK')\n",
    "print('-==-'*50)\n",
    "print('EXÉRCICIO 66 - SOMANDO VALORES FRENETICAMENTE COM S/N')\n",
    "print('-==-'*50)\n",
    "numeros=[]\n",
    "while True:\n",
    "    n = int(input('Digite um número: '))\n",
    "    if n==999:\n",
    "        break\n",
    "    numeros.append(n)\n",
    "\n",
    "print('F strings')\n",
    "print(f'Foram digitados {len(numeros)} e a soma entre eles é {sum(numeros)}')\n",
    "\n",
    "print('-==-'*50)\n",
    "\n"
   ]
  },
  {
   "cell_type": "markdown",
   "metadata": {},
   "source": [
    "### Exerc 67"
   ]
  },
  {
   "cell_type": "code",
   "execution_count": 37,
   "metadata": {
    "ExecuteTime": {
     "end_time": "2021-04-01T19:26:11.300609Z",
     "start_time": "2021-04-01T19:25:53.260792Z"
    }
   },
   "outputs": [
    {
     "name": "stdout",
     "output_type": "stream",
     "text": [
      "-==--==--==--==--==--==--==--==--==--==--==--==--==--==--==--==--==--==--==--==--==--==--==--==--==--==--==--==--==--==--==--==--==--==--==--==--==--==--==--==--==--==--==--==--==--==--==--==--==--==-\n",
      "EXÉRCICIO 67 - TABUADA COM WHILE FODA\n",
      "-==--==--==--==--==--==--==--==--==--==--==--==--==--==--==--==--==--==--==--==--==--==--==--==--==--==--==--==--==--==--==--==--==--==--==--==--==--==--==--==--==--==--==--==--==--==--==--==--==--==-\n",
      "\n",
      "Informe um número para realizar a tabuada:5\n",
      "5 X  1 = 5\n",
      "5 X  2 = 10\n",
      "5 X  3 = 15\n",
      "5 X  4 = 20\n",
      "5 X  5 = 25\n",
      "5 X  6 = 30\n",
      "5 X  7 = 35\n",
      "5 X  8 = 40\n",
      "5 X  9 = 45\n",
      "5 X 10 = 50\n",
      "\n",
      "Informe um número para realizar a tabuada:1\n",
      "1 X  1 = 1\n",
      "1 X  2 = 2\n",
      "1 X  3 = 3\n",
      "1 X  4 = 4\n",
      "1 X  5 = 5\n",
      "1 X  6 = 6\n",
      "1 X  7 = 7\n",
      "1 X  8 = 8\n",
      "1 X  9 = 9\n",
      "1 X 10 = 10\n",
      "\n",
      "Informe um número para realizar a tabuada:-1\n",
      "--------------------------------------------------\n"
     ]
    }
   ],
   "source": [
    "print('-==-'*50)\n",
    "print('EXÉRCICIO 67 - TABUADA COM WHILE FODA')\n",
    "print('-==-'*50)\n",
    "\n",
    "while True:\n",
    "    n = int(input('\\nInforme um número para realizar a tabuada:'))\n",
    "    if n<0:\n",
    "        break\n",
    "    c=1\n",
    "    for c in range(1, 11):\n",
    "        print('{} X {:2} = {}'.format(n, c, n * c))\n",
    "print('-'*50)\n",
    "\n"
   ]
  },
  {
   "cell_type": "markdown",
   "metadata": {},
   "source": [
    "### Exerc 68"
   ]
  },
  {
   "cell_type": "code",
   "execution_count": 38,
   "metadata": {
    "ExecuteTime": {
     "end_time": "2021-04-01T19:26:19.980982Z",
     "start_time": "2021-04-01T19:26:15.274803Z"
    }
   },
   "outputs": [
    {
     "name": "stdout",
     "output_type": "stream",
     "text": [
      "-==--==--==--==--==--==--==--==--==--==--==--==--==--==--==--==--==--==--==--==--==--==--==--==--==--==--==--==--==--==--==--==--==--==--==--==--==--==--==--==--==--==--==--==--==--==--==--==--==--==-\n",
      "EXÉRCICIO 68 - PAR OU IMPAR RAIZ\n",
      "-==--==--==--==--==--==--==--==--==--==--==--==--==--==--==--==--==--==--==--==--==--==--==--==--==--==--==--==--==--==--==--==--==--==--==--==--==--==--==--==--==--==--==--==--==--==--==--==--==--==-\n",
      "Escolha um número: 5\n",
      "Você quer Par ou Ímpar [P/I]: I\n",
      "COMPUTADOR: 5 - USUARIO: 5 - TOTAL DEU 10 - RESULTADO: PAR\n",
      "\n",
      "Você jogou 1 e ganhou 0.\n"
     ]
    }
   ],
   "source": [
    "import random\n",
    "print('-==-'*50)\n",
    "print('EXÉRCICIO 68 - PAR OU IMPAR RAIZ')\n",
    "print('-==-'*50)\n",
    "ganhou=0\n",
    "jogos=0\n",
    "while True:\n",
    "    computador = random.randint(1,10)\n",
    "    n=int(input('Escolha um número: '))\n",
    "    op = str(input('Você quer Par ou Ímpar [P/I]: ')).upper().strip()[0]\n",
    "    r = 'PAR' if (computador + n)%2==0 else 'IMPAR'\n",
    "    if(r[0]==op):\n",
    "        print(f'COMPUTADOR: {computador} - USUARIO: {n} - TOTAL DEU {computador + n} - RESULTADO: {r}')\n",
    "        ganhou+=1\n",
    "    else:\n",
    "        print(f'COMPUTADOR: {computador} - USUARIO: {n} - TOTAL DEU {computador + n} - RESULTADO: {r}')\n",
    "        break\n",
    "\n",
    "print(f'\\nVocê jogou {ganhou+1} e ganhou {ganhou}.')"
   ]
  },
  {
   "cell_type": "markdown",
   "metadata": {},
   "source": [
    "### Exerc 69"
   ]
  },
  {
   "cell_type": "code",
   "execution_count": 39,
   "metadata": {
    "ExecuteTime": {
     "end_time": "2021-04-01T19:26:51.299649Z",
     "start_time": "2021-04-01T19:26:29.128897Z"
    }
   },
   "outputs": [
    {
     "name": "stdout",
     "output_type": "stream",
     "text": [
      "-==--==--==--==--==--==--==--==--==--==--==--==--==--==--==--==--==--==--==--==--==--==--==--==--==--==--==--==--==--==--==--==--==--==--==--==--==--==--==--==--==--==--==--==--==--==--==--==--==--==-\n",
      "EXÉRCICIO 69 -   ANALISANDO DADOS\n",
      "-==--==--==--==--==--==--==--==--==--==--==--==--==--==--==--==--==--==--==--==--==--==--==--==--==--==--==--==--==--==--==--==--==--==--==--==--==--==--==--==--==--==--==--==--==--==--==--==--==--==-\n",
      "Qual a sua idade: 30\n",
      "Qual a seu sexo: [M/F]M\n",
      "\n",
      "Deseja Cadastrar mais alguma pessoa?[S/N]S\n",
      "Qual a sua idade: 32\n",
      "Qual a seu sexo: [M/F]F\n",
      "\n",
      "Deseja Cadastrar mais alguma pessoa?[S/N]S\n",
      "Qual a sua idade: 28\n",
      "Qual a seu sexo: [M/F]M\n",
      "\n",
      "Deseja Cadastrar mais alguma pessoa?[S/N]N\n",
      "\n",
      "Quantidade de Homens 2\n",
      "Maiores de 18 anos 3\n",
      "Mulheres com menos de 20 anos 0\n"
     ]
    }
   ],
   "source": [
    "print('-==-'*50)\n",
    "print('EXÉRCICIO 69 -   ANALISANDO DADOS')\n",
    "print('-==-'*50)\n",
    "homens = mulheres_20 = maiores18=0\n",
    "\n",
    "while True:\n",
    "    idade = int(input('Qual a sua idade: '))\n",
    "    sexo = str(input('Qual a seu sexo: [M/F]')).upper().strip()[0]\n",
    "\n",
    "    if idade >=18:\n",
    "        maiores18+=1\n",
    "    if sexo in 'Mm':\n",
    "        homens+=1\n",
    "    else:\n",
    "        if idade < 20:\n",
    "            mulheres_20+=1\n",
    "    r=str(input('\\nDeseja Cadastrar mais alguma pessoa?[S/N]'))\n",
    "    if r in 'Nn':\n",
    "        break\n",
    "\n",
    "\n",
    "print(f'\\nQuantidade de Homens {homens}\\nMaiores de 18 anos {maiores18}\\nMulheres com menos de 20 anos {mulheres_20}')\n"
   ]
  },
  {
   "cell_type": "markdown",
   "metadata": {},
   "source": [
    "### Exerc 70"
   ]
  },
  {
   "cell_type": "code",
   "execution_count": 40,
   "metadata": {
    "ExecuteTime": {
     "end_time": "2021-04-01T19:27:24.321080Z",
     "start_time": "2021-04-01T19:26:59.679865Z"
    }
   },
   "outputs": [
    {
     "name": "stdout",
     "output_type": "stream",
     "text": [
      "-==--==--==--==--==--==--==--==--==--==--==--==--==--==--==--==--==--==--==--==--==--==--==--==--==--==--==--==--==--==--==--==--==--==--==--==--==--==--==--==--==--==--==--==--==--==--==--==--==--==-\n",
      "EXÉRCICIO 70 -   ANALISANDO DADOS\n",
      "-==--==--==--==--==--==--==--==--==--==--==--==--==--==--==--==--==--==--==--==--==--==--==--==--==--==--==--==--==--==--==--==--==--==--==--==--==--==--==--==--==--==--==--==--==--==--==--==--==--==-\n",
      "Digite o nome do produto: X\n",
      "Digite o Preço do Produto: R$20\n",
      "\n",
      "Deseja Cadastrar mais algum produto?[S/N]S\n",
      "Digite o nome do produto: W\n",
      "Digite o Preço do Produto: R$56\n",
      "\n",
      "Deseja Cadastrar mais algum produto?[S/N]S\n",
      "Digite o nome do produto: Q\n",
      "Digite o Preço do Produto: R$563\n",
      "\n",
      "Deseja Cadastrar mais algum produto?[S/N]S\n",
      "Digite o nome do produto: Y\n",
      "Digite o Preço do Produto: R$36\n",
      "\n",
      "Deseja Cadastrar mais algum produto?[S/N]N\n",
      "TOTAL GASTO: R$675.00\n",
      "PRODUTO MAIS BARATO: X - R$20.00\n",
      "PRODUTOS MAIS CAROS DO QUE R$1.000,00 0\n"
     ]
    }
   ],
   "source": [
    "print('-==-'*50)\n",
    "print('EXÉRCICIO 70 -   ANALISANDO DADOS')\n",
    "print('-==-'*50)\n",
    "produtos=[]\n",
    "precos=[]\n",
    "mais1000=0\n",
    "while True:\n",
    "    produto = str(input('Digite o nome do produto: ')).strip().upper()\n",
    "    preco = float(input('Digite o Preço do Produto: R$'))\n",
    "    if preco > 999:\n",
    "        mais1000+=1\n",
    "    produtos.append(produto)\n",
    "    precos.append(preco)\n",
    "\n",
    "    r=str(input('\\nDeseja Cadastrar mais algum produto?[S/N]'))\n",
    "    if r in 'Nn':\n",
    "        break\n",
    "\n",
    "print(f'TOTAL GASTO: R${sum(precos):.2f}')\n",
    "print(f'PRODUTO MAIS BARATO: {produtos[precos.index(min(precos))]} - R${min(precos):.2f}')\n",
    "print(f'PRODUTOS MAIS CAROS DO QUE R$1.000,00 {mais1000}')\n",
    "\n",
    "\n"
   ]
  },
  {
   "cell_type": "markdown",
   "metadata": {},
   "source": [
    "### Exerc 71"
   ]
  },
  {
   "cell_type": "code",
   "execution_count": null,
   "metadata": {},
   "outputs": [],
   "source": [
    "print('-==-'*50)\n",
    "print('EXÉRCICIO 71 - BANCO GREGMASTER')\n",
    "print('-==-'*50)\n",
    "cedulas=[100,50,20,10,5,2,1] #Pode causar um problema, por exemplo, um random em que interrompe o fornecimento de dinheiro ou o usuario escolhe as notas que quer receber. Basta operacionalizar a lista notas.\n",
    "valor=int(input('Que valor quer sacar? R$'))\n",
    "sacar = valor\n",
    "notas_entregue=[]\n",
    "c=-1\n",
    "while True:\n",
    "    if sacar >0:\n",
    "        c+=1\n",
    "        while True:\n",
    "            if sacar / cedulas[c] < 1:\n",
    "              break\n",
    "            else:\n",
    "                sacar = sacar - cedulas[c]\n",
    "                #print(f'{c} - VALOR LIBERADO: R$ {cedulas[c]} - DEVEDOR: {sacar}')\n",
    "                notas_entregue.append(c)\n",
    "    if sacar ==0:\n",
    "        break\n",
    "print('\\JÁ LIBEREI SEU DINHEIRO. AGORA PAGA JUROS PRA MIM')\n",
    "print('CONFIRA SUA NOTAS AÍ. TE PAGUEI ASSIM: ')\n",
    "\n",
    "for x in range(0,len(cedulas)):\n",
    "    if notas_entregue.count(x)> 0:\n",
    "        print(f'{notas_entregue.count(x)} nota(s) de R${(cedulas[x])} reais')\n",
    "print(f'\\nTOTALIZANDO = R${valor} reais ')\n"
   ]
  },
  {
   "cell_type": "markdown",
   "metadata": {},
   "source": [
    "### Exerc 72"
   ]
  },
  {
   "cell_type": "code",
   "execution_count": null,
   "metadata": {},
   "outputs": [],
   "source": [
    "print('-==-'*50)\n",
    "print('AULA 16# TUPLAS - EXERCÍCIO 72')\n",
    "print('-==-'*50)\n",
    "print('AS TUPLAS SÃO IMUTÁVEIS!!!')\n",
    "lanche=('A',1,5.5,'B')\n",
    "lanche is tuple\n",
    "for c in lanche:\n",
    "    print(c)\n",
    "\n",
    "for cont in range(0, len(lanche)):\n",
    "    print(f'{lanche[cont]} -- {cont}')\n",
    "\n",
    "for pos, c in enumerate(lanche):\n",
    "    print(c,pos)\n",
    "print('-==-'*50)\n",
    "print('EXERCÍCIO 72 - TUPLA PREENCHIDA')\n",
    "print('-==-'*50)\n",
    "\n",
    "numeros=('zero','um', 'dois', 'tres', 'quatro','cinco','seis','sete','oito','nove','dez','onze','doze','treze','quatorze','quinze','dezesseis','dezesete','dezoito','dezenove','vinte')\n",
    "\n",
    "while True:\n",
    "    n=int(input('Digite um número: '))\n",
    "    if n<0 or n > 20:\n",
    "        print('Número Inválido. Digite entre 0 e 20')\n",
    "    else:\n",
    "        print(f'{n} =>  {numeros[n].upper()}')\n"
   ]
  },
  {
   "cell_type": "markdown",
   "metadata": {},
   "source": [
    "### Exerc 73"
   ]
  },
  {
   "cell_type": "code",
   "execution_count": null,
   "metadata": {},
   "outputs": [],
   "source": [
    "print('-==-'*50)\n",
    "print('EXERCÍCIO 73 - CORINTHIANS CAMPEÃO DO BRASILEIRÃO DE 2017')\n",
    "print('-==-'*50)\n",
    "\n",
    "classificacao=('','Corinthians','Palmeiras','Santos','Grêmio','Cruzeiro','Flamengo','Vasco','Chapecoense','Atlético-MG','Botafogo','Atlético-PR','Bahia','São Paulo','Fluminense','Sport','Vitória','Coritiba','Avaí','Ponte Preta','Atlético-GO')\n",
    "\n",
    "print('CLASSIFICAÇÃO CAMPEONATO BRASOLEIRO - 2017')\n",
    "for pos,clube in enumerate(classificacao):\n",
    "    if pos>0:\n",
    "        print(f'{pos}º - {clube}')\n",
    "\n",
    "\n",
    "print('\\nCLASSIFICADOS LIBERTADORES 2018')\n",
    "print(classificacao[0:6])\n",
    "for libertadores in range(1, 6):\n",
    "    print(f'{libertadores}º - {classificacao[libertadores]}')\n",
    "\n",
    "print('\\nREBAIXADOS PARA O CAMPEONATO DA SÉRIE B 2018')\n",
    "for pos,clube in enumerate(classificacao):\n",
    "    if pos>16:\n",
    "        print(f'{pos}º - {clube}')\n",
    "\n",
    "print('\\nCLUBES QUE PARTICIPARAM DO CAMPEONATO BRASILEIRO 2017 - AZ')\n",
    "for cont in range(1, len(classificacao)):\n",
    "    print(f'{sorted(classificacao)[cont]}')\n",
    "\n",
    "print(f'\\nA Chapecoense ficou em {classificacao.index(\"Chapecoense\")}º no Campeonato Brasileiro de 2017')"
   ]
  },
  {
   "cell_type": "markdown",
   "metadata": {},
   "source": [
    "### Exerc 74"
   ]
  },
  {
   "cell_type": "code",
   "execution_count": null,
   "metadata": {},
   "outputs": [],
   "source": [
    "import random\n",
    "print('-==-'*50)\n",
    "print('EXERCÍCIO 74 - NÚMEROS ALEATÓRIOS NA TUPLA')\n",
    "print('-==-'*50)\n",
    "numeros=(random.randint(1,10),random.randint(1,10),random.randint(1,10),random.randint(1,10),random.randint(1,10))\n",
    "#numeros=(random.randint(1,10),*5))\n",
    "\n",
    "\n",
    "for n in numeros:\n",
    "    print(f'{n} ',end='')\n",
    "#print(numeros)\n",
    "print(f'\\nMAIOR: {max(numeros)}')\n",
    "print(f'MENOR: {min(numeros)}')"
   ]
  },
  {
   "cell_type": "markdown",
   "metadata": {},
   "source": [
    "### Exerc 75"
   ]
  },
  {
   "cell_type": "code",
   "execution_count": null,
   "metadata": {},
   "outputs": [],
   "source": [
    "import random\n",
    "print('-==-'*50)\n",
    "print('EXERCÍCIO 75 - NÚMEROS ALEATÓRIOS NA TUPLA')\n",
    "print('-==-'*50)\n",
    "\n",
    "numeros=(random.randint(3,9),random.randint(3,9),random.randint(3,9),random.randint(3,9),random.randint(3,9))\n",
    "\n",
    "print(numeros)\n",
    "if 9 in numeros:\n",
    "    print(f'O número 9 apareceu: {numeros.count(9)} vezes')\n",
    "else:\n",
    "    print(f'O número 9 NÃO APARECEU')\n",
    "#print(f'O número 3 apareceu na posição: {numeros.index(3)}ª')\n",
    "if 3 in numeros:\n",
    "    print(f'O número 3 apareceu na posição: {numeros.index(3)+1}ª')\n",
    "else:\n",
    "    print('O número 3 não foi sorteado na lista')\n",
    "\n",
    "print('Os números Pares Sorteados foram: ',end='')\n",
    "for pos,n in enumerate(numeros):\n",
    "    if n%2==0:\n",
    "        print(f'{n} ',end='')\n",
    "\n",
    "print('\\n')\n"
   ]
  },
  {
   "cell_type": "markdown",
   "metadata": {
    "ExecuteTime": {
     "end_time": "2021-04-01T19:29:59.151569Z",
     "start_time": "2021-04-01T19:29:59.142572Z"
    }
   },
   "source": [
    "### Exerc 76"
   ]
  },
  {
   "cell_type": "markdown",
   "metadata": {},
   "source": [
    "import random\n",
    "print('-==-'*50)\n",
    "print('EXERCÍCIO 76 - LISTA DE COMPRAS')\n",
    "print('-==-'*50)\n",
    "\n",
    "print(\"#\"*40)\n",
    "print(f'{\"MERCADO GREGMASTER\":^40}')\n",
    "print(\"#\"*40)\n",
    "compras=('Pão',1,'Leite',3.50,'Maça',5.00,'Arroz',11.50,'Bife',19.85)\n",
    "print(f'{\"Produtos\":<28}{\"Preço (R$)\"}')\n",
    "print('-'*40)\n",
    "for c in range(0,len(compras),2):\n",
    "    print(f'{compras[c]:.<30}R$ {compras[c+1]:0.2f}')\n",
    "print('-'*40)\n",
    "\n",
    "\n",
    "print('\\n\\n')\n",
    "nome='Gregorio'\n",
    "print(\"Prazer em te conhecer {}!\".format(nome))\n",
    "print(\"#\"*10)\n",
    "print(\"[ESCREVE COM 20 ESPACO]Prazer em te conhecer {:20}!\".format(nome))\n",
    "print(\"#\"*10)\n",
    "print(\"[ALINHADO A DIREITA 20 ESPACO]Prazer em te conhecer {:>20}!\".format(nome))\n",
    "print(\"#\"*10)\n",
    "print(\"[ALINHADO A ESQUERDA 20 ESPACO]Prazer em te conhecer {:<20}!\".format(nome))\n",
    "print(\"#\"*10)\n",
    "print(\"[CENTRALIZADO]Prazer em te conhecer {:^20}!\".format(nome))\n",
    "print(\"#\"*10)\n",
    "print(\"[CENTRALIZADO COM UM SIMBOLO]Prazer em te conhecer {:=^20}!\".format(nome))"
   ]
  },
  {
   "cell_type": "markdown",
   "metadata": {},
   "source": [
    "### Exerc 77"
   ]
  },
  {
   "cell_type": "code",
   "execution_count": null,
   "metadata": {},
   "outputs": [],
   "source": [
    "import random\n",
    "print('-==-'*50)\n",
    "print('EXERCÍCIO 77 - TUPLA VÁRIAS PALAVRAS E PROCURAR A VOGAL ')\n",
    "print('-==-'*50)\n",
    "\n",
    "palavras = ('Gregorio','Almeida','Queiroz','Amanda','Altava','Palhares','Se','Amam')\n",
    "vogais ='aeiou'\n",
    "\n",
    "for p in range (0,len(palavras)):\n",
    "    palavra = palavras[p].lower()\n",
    "    print(f'\\nNa Palavra {palavra.upper()} temos ', end='')\n",
    "    for l in range(0,len(palavra)):\n",
    "        if (palavra[l]) in vogais:\n",
    "            print(f'{palavra[l]}, ', end='')\n"
   ]
  },
  {
   "cell_type": "markdown",
   "metadata": {},
   "source": [
    "### Exerc 78"
   ]
  },
  {
   "cell_type": "code",
   "execution_count": null,
   "metadata": {},
   "outputs": [],
   "source": [
    "print('-==-'*50)\n",
    "print('AULA 17 - PARTE 1 LISTAS ')\n",
    "print('-==-'*50)\n",
    "\n",
    "lanches = ['hamburguer','coca-cola','pizza','sorvete']\n",
    "print(f'{lanches}')\n",
    "#adicionar um elemento da lista\n",
    "lanches.append('pudim')\n",
    "print(f'{lanches}')\n",
    "lanches.insert(0,'Pão')\n",
    "print(f'{lanches}')\n",
    "#remover um item da lista\n",
    "del lanches[0]\n",
    "print(f'{lanches}')\n",
    "lanches.pop() #lanches.pop(-1)\n",
    "print(f'{lanches}')\n",
    "lanches.remove('pizza')\n",
    "print(f'{lanches}')\n",
    "\n",
    "if 'pizza' in lanches:\n",
    "    lanches.remove('pizza')\n",
    "\n",
    "valores = list(range(4,11))\n",
    "print(valores)\n",
    "\n",
    "valores2 = list(range(1,21,2))\n",
    "print(valores2)\n",
    "#ordenar é o método sort() parametro reverse=True - ordem inversa\n",
    "valores2.sort(reverse=True)\n",
    "print(valores2)\n",
    "print(len(valores2))\n",
    "\n",
    "for c,v in enumerate(valores2):\n",
    "    print(f'Na posição {c} encontrei o valor {v}')\n",
    "valores3 = list()\n",
    "\n",
    "for cont in range(0,5):\n",
    "    valores3.append(int(input('Digite um valor: ')))\n",
    "\n",
    "print(valores3)\n",
    "#Propriedades\n",
    "a =[2,3,4,7]\n",
    "b=a\n",
    "print(a)\n",
    "print(b)\n",
    "#-> O phyton cria uma LIGAÇÃO/VINCULO FORTE entre as listas. Se eu alterar B, vai mudar A\n",
    "b[2] =8\n",
    "print(a)\n",
    "print(b)\n",
    "#Para criar uma cópia precisa usar o  o parametro :\n",
    "c = a[:] #Apenas Copia, não tem vínculo\n",
    "print(c)\n",
    "c[2] = 20\n",
    "print(c)\n",
    "\n",
    "\n",
    "\n",
    "print('-==-'*50)\n",
    "print(' EXERCÍCIO 78 - LISTAS LER 5 NÚMEROS E MOSTRAR O MAIOR E MENOR')\n",
    "print('-==-'*50)\n",
    "num = list()\n",
    "for x in range(0,5):\n",
    "    num.append(int(input('Digite um valor: ')))\n",
    "print(num)\n",
    "print(f'O maior valor é {max(num)}. Ele está na posição: {num.index(max(num))}')\n",
    "print(f'O menor valor é {min(num)}. Ele está na posição: {num.index(min(num))}')"
   ]
  },
  {
   "cell_type": "markdown",
   "metadata": {},
   "source": [
    "### Exerc 79"
   ]
  },
  {
   "cell_type": "code",
   "execution_count": null,
   "metadata": {},
   "outputs": [],
   "source": [
    "print('-==-'*50)\n",
    "print(' EXERCÍCIO 79 - LISTAS LER NÚMEROS ALEATORIAMENTE E NÃO DEIXAR ENTRAR NÚMEROS DUPLICADOS. NO FINAL É COLOCADO EM ORDEM')\n",
    "print('-==-'*50)\n",
    "num = list()\n",
    "print('Digite números aleatproriamente. o -1 para de receber')\n",
    "while True:\n",
    "    n = int(input('Digite um valor: '))\n",
    "    if n<0:\n",
    "        break\n",
    "    else:\n",
    "        if n not in num:\n",
    "            num.append(n)\n",
    "if len(num)>0:\n",
    "    print('Olha os números dígitados')\n",
    "    print(num)\n",
    "    print('Os números ordenados')\n",
    "    num.sort()\n",
    "    print(num)\n",
    "else:\n",
    "    print('NÃO FOI DIGITADO NENHUM NÚMERO')\n"
   ]
  },
  {
   "cell_type": "markdown",
   "metadata": {},
   "source": [
    "### Exerc 80"
   ]
  },
  {
   "cell_type": "code",
   "execution_count": null,
   "metadata": {},
   "outputs": [],
   "source": [
    "print('-==-'*50)\n",
    "print(' EXERCÍCIO 80 - LISTAS LER 5 NÚMEROS E MOSTRAR O MAIOR E MENOR')\n",
    "print('-==-'*50)\n",
    "num = list()\n",
    "print('Digite números aleatoriamente e organizar os numeros sem o SORT')\n",
    "\n",
    "for i in range(0,5):\n",
    "    n=int(input(f'Digite o {i+1}º número: '))\n",
    "    if i==0 or n > num[-1]:\n",
    "        num.append(n)\n",
    "    else:\n",
    "        p=0\n",
    "        while p < len(num):\n",
    "            if n <= num[p]:\n",
    "                num.insert(p, n)\n",
    "                break\n",
    "            p += 1\n",
    "print(num)\n"
   ]
  },
  {
   "cell_type": "markdown",
   "metadata": {},
   "source": [
    "### Exerc 81"
   ]
  },
  {
   "cell_type": "code",
   "execution_count": null,
   "metadata": {},
   "outputs": [],
   "source": [
    "print('-==-'*50)\n",
    "print(' EXERCÍCIO 81 - LISTAS LER VARIOS NÚMEROS NÚMEROS E QUANTOS NUMEROS, ORDEM E SE O CINCO TA LISTA')\n",
    "print('-==-'*50)\n",
    "numeros = []\n",
    "while True:\n",
    "    n = int(input(f'Digite um  número: '))\n",
    "    if n < 0:\n",
    "        break\n",
    "    else:\n",
    "        numeros.append(n)\n",
    "print(f'Quantidade de números digitados: {len(numeros)}')\n",
    "print(f'Ordem Original: {numeros}')\n",
    "num = numeros[:]\n",
    "num.sort()\n",
    "print(f'Ordem decrescente: {num}')\n",
    "x = int(input(f'Digite um  número para procurar na lista: '))\n",
    "if x in num:\n",
    "    print(f'O número {x} está na lista')\n",
    "else:\n",
    "    print(f'O número {x} não está na lista')\n",
    "\n"
   ]
  },
  {
   "cell_type": "markdown",
   "metadata": {},
   "source": [
    "### Exerc 82"
   ]
  },
  {
   "cell_type": "code",
   "execution_count": null,
   "metadata": {},
   "outputs": [],
   "source": [
    "print('-==-'*50)\n",
    "print(' EXERCÍCIO 82 - LISTAS LER VARIOS NÚMEROS NÚMEROS E SEPARAAR EM PARE E IMPAR')\n",
    "print('-==-'*50)\n",
    "numeros = []\n",
    "par = []\n",
    "impar = []\n",
    "while True:\n",
    "    n = int(input(f'Digite um  número: '))\n",
    "    if n < 0:\n",
    "        break\n",
    "    else:\n",
    "        numeros.append(n)\n",
    "        if n%2==0:\n",
    "            par.append(n)\n",
    "        else:\n",
    "            impar.append(n)\n",
    "\n",
    "print(f'Quantidade de números digitados: {len(numeros)}')\n",
    "print(f'Ordem Original: {numeros}')\n",
    "if len(par)>0:\n",
    "    print(f'PARES: {par}')\n",
    "else:\n",
    "    print('NÃO FOI INFORMADO NÚMERO PAR')\n",
    "if len(impar)>0:\n",
    "    print(f'IMPARES: {impar}')\n",
    "else:\n",
    "    print('NÃO FOI INFORMADO NÚMERO ÍMPAR')\n"
   ]
  },
  {
   "cell_type": "markdown",
   "metadata": {},
   "source": [
    "### Exerc 83"
   ]
  },
  {
   "cell_type": "code",
   "execution_count": null,
   "metadata": {},
   "outputs": [],
   "source": [
    "print('-==-'*50)\n",
    "print(' EXERCÍCIO 83 - VERIFICAR SE A EXPRESSÃO É VÁLIDA')\n",
    "print('-==-'*50)\n",
    "\n",
    "expressao = str(input('Digite uma expressão: '))\n",
    "#Dessa maneira aceita uns bugs.\n",
    "abriu=expressao.count('(')\n",
    "fechou=expressao.count(')')\n",
    "\n",
    "\n",
    "print(abriu)\n",
    "print(fechou)\n",
    "\n",
    "if(abriu==fechou):\n",
    "    print(expressao.index('('), expressao.index(')'))\n",
    "    if expressao.index('(') > expressao.index(')'):\n",
    "        print('EXPRESSÃO NAO É VÁLIDA')\n",
    "    else:\n",
    "        print('EXPRESSÃO É VÁLIDA')\n",
    "else:\n",
    "    print('EXPRESSÃO NAO É VÁLIDA')\n",
    "\n",
    "#GUANABARA\n",
    "pilha = []\n",
    "\n",
    "for s in expressao:\n",
    "    if s =='(':\n",
    "        pilha.append('(')\n",
    "    elif s==')':\n",
    "        if len(pilha)>0:\n",
    "            pilha.pop()\n",
    "        else:\n",
    "            pilha.append(')')\n",
    "            break\n",
    "if len(pilha) == 0:\n",
    "    print('[GUANABARA] EXPRESSÃO É VÁLIDA')\n",
    "else:\n",
    "    print('[GUANABARA] EXPRESSÃO NÃO É VÁLIDA')\n",
    "\n"
   ]
  },
  {
   "cell_type": "markdown",
   "metadata": {},
   "source": [
    "### Exerc 84"
   ]
  },
  {
   "cell_type": "code",
   "execution_count": null,
   "metadata": {},
   "outputs": [],
   "source": [
    "print('-==-'*50)\n",
    "print(' EXERCÍCIO 84 - ANÁLISE DE DADOS')\n",
    "print('-==-'*50)\n",
    "pessoas = []\n",
    "while True:\n",
    "    n = str(input('Nome: ')).upper().strip()\n",
    "    p = float(input('Peso (kg): '))\n",
    "    pessoas.append([n,p])\n",
    "    r = str(input('Deseja Continuar? [S/N]')).upper().strip()[0]\n",
    "    if r in 'Nn':\n",
    "        break\n",
    "print(pessoas)\n",
    "print(f'Foram cadastradas {len(pessoas)} pessoas')\n",
    "print(f'Ordem das pessoas LEVEs ')\n",
    "pessoas.sort(key=lambda x:x[1])\n",
    "for pes in pessoas:\n",
    "    print(pes)\n",
    "print(f'Ordem das pessoas PESADAS')\n",
    "pessoas.sort(key=lambda x:x[1], reverse=True)\n",
    "for pes in pessoas:\n",
    "    print(pes)"
   ]
  },
  {
   "cell_type": "markdown",
   "metadata": {},
   "source": [
    "### Exerc 85"
   ]
  },
  {
   "cell_type": "code",
   "execution_count": null,
   "metadata": {},
   "outputs": [],
   "source": [
    "print('-==-'*50)\n",
    "print(' EXERCÍCIO 85 - RECEBENDO OS VALORES')\n",
    "print('-==-'*50)\n",
    "num = [[],[],[]]\n",
    "n = -1\n",
    "for i in range(0,7):\n",
    "    n=int(input(f'Digite o {i+1}º valor: '))\n",
    "    num[0].append(n)\n",
    "    if n % 2 == 0:\n",
    "        num[2].append(n) #PAR\n",
    "    else:\n",
    "        num[1].append(n) #IMPAR\n",
    "\n",
    "print(num)\n",
    "print(f'Os PARES são: {sorted(num[2])}')\n",
    "print(f'Os ÍMPARES  são: {sorted(num[1])}')\n"
   ]
  },
  {
   "cell_type": "markdown",
   "metadata": {},
   "source": [
    "### Exerc 86"
   ]
  },
  {
   "cell_type": "code",
   "execution_count": null,
   "metadata": {},
   "outputs": [],
   "source": []
  },
  {
   "cell_type": "markdown",
   "metadata": {},
   "source": [
    "### Exerc 87"
   ]
  },
  {
   "cell_type": "code",
   "execution_count": null,
   "metadata": {},
   "outputs": [],
   "source": []
  },
  {
   "cell_type": "markdown",
   "metadata": {},
   "source": [
    "### Exerc 88"
   ]
  },
  {
   "cell_type": "code",
   "execution_count": null,
   "metadata": {},
   "outputs": [],
   "source": []
  },
  {
   "cell_type": "markdown",
   "metadata": {},
   "source": [
    "### Exerc 89"
   ]
  },
  {
   "cell_type": "code",
   "execution_count": null,
   "metadata": {},
   "outputs": [],
   "source": []
  },
  {
   "cell_type": "markdown",
   "metadata": {},
   "source": [
    "### Exerc 90"
   ]
  },
  {
   "cell_type": "code",
   "execution_count": null,
   "metadata": {},
   "outputs": [],
   "source": []
  },
  {
   "cell_type": "markdown",
   "metadata": {},
   "source": [
    "### Exerc 91"
   ]
  },
  {
   "cell_type": "code",
   "execution_count": null,
   "metadata": {},
   "outputs": [],
   "source": []
  },
  {
   "cell_type": "markdown",
   "metadata": {},
   "source": [
    "### Exerc 92"
   ]
  },
  {
   "cell_type": "code",
   "execution_count": null,
   "metadata": {},
   "outputs": [],
   "source": []
  },
  {
   "cell_type": "markdown",
   "metadata": {},
   "source": [
    "### Exerc 93"
   ]
  },
  {
   "cell_type": "code",
   "execution_count": null,
   "metadata": {},
   "outputs": [],
   "source": []
  },
  {
   "cell_type": "markdown",
   "metadata": {},
   "source": [
    "### Exerc 94"
   ]
  },
  {
   "cell_type": "code",
   "execution_count": null,
   "metadata": {},
   "outputs": [],
   "source": []
  },
  {
   "cell_type": "markdown",
   "metadata": {},
   "source": [
    "### Exerc 95"
   ]
  },
  {
   "cell_type": "code",
   "execution_count": null,
   "metadata": {},
   "outputs": [],
   "source": []
  },
  {
   "cell_type": "markdown",
   "metadata": {},
   "source": [
    "### Exerc 96"
   ]
  },
  {
   "cell_type": "code",
   "execution_count": null,
   "metadata": {},
   "outputs": [],
   "source": []
  },
  {
   "cell_type": "markdown",
   "metadata": {},
   "source": [
    "### Exerc 97"
   ]
  },
  {
   "cell_type": "code",
   "execution_count": null,
   "metadata": {},
   "outputs": [],
   "source": []
  },
  {
   "cell_type": "markdown",
   "metadata": {},
   "source": [
    "### Exerc 98"
   ]
  },
  {
   "cell_type": "code",
   "execution_count": null,
   "metadata": {},
   "outputs": [],
   "source": []
  },
  {
   "cell_type": "markdown",
   "metadata": {},
   "source": [
    "### Exerc 99"
   ]
  },
  {
   "cell_type": "code",
   "execution_count": null,
   "metadata": {},
   "outputs": [],
   "source": []
  },
  {
   "cell_type": "markdown",
   "metadata": {},
   "source": [
    "### Exerc 100"
   ]
  },
  {
   "cell_type": "code",
   "execution_count": null,
   "metadata": {},
   "outputs": [],
   "source": []
  },
  {
   "cell_type": "code",
   "execution_count": null,
   "metadata": {},
   "outputs": [],
   "source": []
  }
 ],
 "metadata": {
  "kernelspec": {
   "display_name": "Python 3",
   "language": "python",
   "name": "python3"
  },
  "language_info": {
   "codemirror_mode": {
    "name": "ipython",
    "version": 3
   },
   "file_extension": ".py",
   "mimetype": "text/x-python",
   "name": "python",
   "nbconvert_exporter": "python",
   "pygments_lexer": "ipython3",
   "version": "3.8.5"
  },
  "toc": {
   "base_numbering": 1,
   "nav_menu": {},
   "number_sections": true,
   "sideBar": true,
   "skip_h1_title": false,
   "title_cell": "Table of Contents",
   "title_sidebar": "Contents",
   "toc_cell": false,
   "toc_position": {},
   "toc_section_display": true,
   "toc_window_display": false
  }
 },
 "nbformat": 4,
 "nbformat_minor": 4
}
