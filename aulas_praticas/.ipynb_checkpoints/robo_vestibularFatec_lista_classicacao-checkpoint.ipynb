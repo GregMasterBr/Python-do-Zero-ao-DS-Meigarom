{
 "cells": [
  {
   "cell_type": "markdown",
   "metadata": {},
   "source": [
    "# CARREGAR BIBLIOTECAS"
   ]
  },
  {
   "cell_type": "code",
   "execution_count": 1,
   "metadata": {
    "ExecuteTime": {
     "end_time": "2021-02-13T19:10:03.204704Z",
     "start_time": "2021-02-13T19:09:51.906613Z"
    }
   },
   "outputs": [],
   "source": [
    "import requests\n",
    "from bs4 import BeautifulSoup as bs\n",
    "import pandas as pd\n",
    "from selenium import webdriver\n",
    "from selenium.webdriver.support.ui import Select\n",
    "import time\n",
    "from tqdm import tqdm\n"
   ]
  },
  {
   "cell_type": "markdown",
   "metadata": {},
   "source": [
    "# FUNÇÕES "
   ]
  },
  {
   "cell_type": "code",
   "execution_count": 112,
   "metadata": {
    "ExecuteTime": {
     "end_time": "2021-02-13T22:29:53.721950Z",
     "start_time": "2021-02-13T22:29:53.697970Z"
    }
   },
   "outputs": [],
   "source": [
    "def salvandoDadosVestibularDFtoCSV(df_,nome_arq,path='ds'):\n",
    "    df_.to_csv(f'{path}/{nome_arq}.csv', sep=';',index=False)\n",
    "\n",
    "# precisa deixar global\n",
    "def urlListaClassificacaoVestibular(url):\n",
    "    driver = webdriver.Chrome()\n",
    "    return driver.get(url)\n",
    "\n",
    "def popularSelect(driver,id_Xpath):\n",
    "    return  Select(driver.find_element_by_id(f'{id_Xpath}'))\n",
    "\n",
    "def criarDicionario(select_,fields):\n",
    "    lista_ = [] \n",
    "    for c in range(len (select_.options)):\n",
    "        if 'Selecione...' not in select_.options[c].text:\n",
    "            #key_ = int(select_.options[c].get_attribute(\"value\"))\n",
    "            key_= (int(select_.options[c].get_attribute(\"value\")) if select_.options[c].get_attribute(\"value\").isdigit() == True  else c)\n",
    "            value_= select_.options[c].text\n",
    "            lista_.append({fields[0]:key_,fields[1]:value_})\n",
    "    return lista_\n",
    "\n",
    "def criarDataFrame(l):\n",
    "     return pd.DataFrame(l)\n",
    "    \n",
    "def buscarCursosPopular(url_cursos):\n",
    "    rCurso = requests.get(url_cursos)\n",
    "    soupCurso = bs(rCurso.content)    \n",
    "    divCursos = soupCurso.find(id = \"cursos\")\n",
    "    lista_links=divCursos.find_all(\"a\")\n",
    "    lista_ = [{'id':245,'curso':'Gestão Empresarial - EaD'}]\n",
    "    \n",
    "    for c in range (len(lista_links)):\n",
    "        key = int((divCursos.find_all('a')[c]['href']).split(\"=\")[1])\n",
    "        value= divCursos.find_all(\"a\")[c].get_text()\n",
    "        lista_.append({'id':key,'curso':value})\n",
    "        \n",
    "    return salvandoDadosVestibularDFtoCSV(criarDataFrame(lista_),'listaCursos')\n",
    "\n",
    "def ajustarNota(detalhe_nota):\n",
    "    return detalhe_nota.text.upper().split(' ')[-6]\n",
    "\n",
    "def curso_periodo(txt):\n",
    "    #recebe uma string, faz uma lógica para separar em duas partes. Devolvendo um array de 2 itens. O índice 0 é o curso e o outro o período.\n",
    "    return (txt.replace(\")\", \"\")).split('(')\n",
    "\n"
   ]
  },
  {
   "cell_type": "code",
   "execution_count": 3,
   "metadata": {
    "ExecuteTime": {
     "end_time": "2021-02-13T19:11:52.228844Z",
     "start_time": "2021-02-13T19:11:43.833428Z"
    }
   },
   "outputs": [],
   "source": [
    "#classificacao_geral_vest_fatec = urlListaClassificacaoVestibular('https://www.vestibularfatec.com.br/classificacao/fatec.asp')\n",
    "classificacao_geral_vest_fatec = webdriver.Chrome()\n",
    "classificacao_geral_vest_fatec.get(\"https://www.vestibularfatec.com.br/classificacao/fatec.asp\")"
   ]
  },
  {
   "cell_type": "code",
   "execution_count": 4,
   "metadata": {
    "ExecuteTime": {
     "end_time": "2021-02-12T17:31:25.521538Z",
     "start_time": "2021-02-12T17:31:25.509522Z"
    }
   },
   "outputs": [],
   "source": [
    "#PRECISA MELHORAR A LÓGICA. ANTES DE CRIAR OBJETO, VERIFICAR SE O DATAFRAME JÁ TEM CSV"
   ]
  },
  {
   "cell_type": "code",
   "execution_count": 4,
   "metadata": {
    "ExecuteTime": {
     "end_time": "2021-02-13T19:11:55.520841Z",
     "start_time": "2021-02-13T19:11:55.458849Z"
    }
   },
   "outputs": [],
   "source": [
    "# não precisa disso agora.\n",
    "selectFatecs = Select(classificacao_geral_vest_fatec.find_element_by_id('CodFatec'))\n"
   ]
  },
  {
   "cell_type": "code",
   "execution_count": 6,
   "metadata": {
    "ExecuteTime": {
     "end_time": "2021-02-13T19:12:25.754368Z",
     "start_time": "2021-02-13T19:12:20.365307Z"
    }
   },
   "outputs": [],
   "source": [
    "listaFatecs = criarDicionario(selectFatecs,['id','fatec'])"
   ]
  },
  {
   "cell_type": "code",
   "execution_count": null,
   "metadata": {
    "ExecuteTime": {
     "end_time": "2021-02-12T18:58:02.928818Z",
     "start_time": "2021-02-12T18:57:58.085898Z"
    }
   },
   "outputs": [],
   "source": []
  },
  {
   "cell_type": "code",
   "execution_count": 7,
   "metadata": {
    "ExecuteTime": {
     "end_time": "2021-02-13T19:12:27.819593Z",
     "start_time": "2021-02-13T19:12:27.804619Z"
    }
   },
   "outputs": [
    {
     "data": {
      "text/plain": [
       "73"
      ]
     },
     "execution_count": 7,
     "metadata": {},
     "output_type": "execute_result"
    }
   ],
   "source": [
    "len(listaFatecs)"
   ]
  },
  {
   "cell_type": "code",
   "execution_count": 32,
   "metadata": {
    "ExecuteTime": {
     "end_time": "2021-02-12T18:58:02.944824Z",
     "start_time": "2021-02-12T18:58:02.932823Z"
    }
   },
   "outputs": [],
   "source": [
    "#Criando o DataFrame a partir da lócica acima. Porém ajustar para ter a opção de "
   ]
  },
  {
   "cell_type": "code",
   "execution_count": 8,
   "metadata": {
    "ExecuteTime": {
     "end_time": "2021-02-12T17:31:33.336998Z",
     "start_time": "2021-02-12T17:31:33.220004Z"
    }
   },
   "outputs": [],
   "source": [
    "#COM OS DATAFRAMES CRIADOS, AGORA REALIZO A LÓCICA DE NAVEGAÇÃO"
   ]
  },
  {
   "cell_type": "markdown",
   "metadata": {},
   "source": [
    "# ROBO EM OPERAÇÃO"
   ]
  },
  {
   "cell_type": "code",
   "execution_count": 8,
   "metadata": {
    "ExecuteTime": {
     "end_time": "2021-02-13T19:12:31.477324Z",
     "start_time": "2021-02-13T19:12:31.330337Z"
    }
   },
   "outputs": [],
   "source": [
    "dfFatec = criarDataFrame(listaFatecs)"
   ]
  },
  {
   "cell_type": "code",
   "execution_count": 9,
   "metadata": {
    "ExecuteTime": {
     "end_time": "2021-02-13T19:12:33.612264Z",
     "start_time": "2021-02-13T19:12:33.535247Z"
    }
   },
   "outputs": [
    {
     "data": {
      "text/html": [
       "<div>\n",
       "<style scoped>\n",
       "    .dataframe tbody tr th:only-of-type {\n",
       "        vertical-align: middle;\n",
       "    }\n",
       "\n",
       "    .dataframe tbody tr th {\n",
       "        vertical-align: top;\n",
       "    }\n",
       "\n",
       "    .dataframe thead th {\n",
       "        text-align: right;\n",
       "    }\n",
       "</style>\n",
       "<table border=\"1\" class=\"dataframe\">\n",
       "  <thead>\n",
       "    <tr style=\"text-align: right;\">\n",
       "      <th></th>\n",
       "      <th>id</th>\n",
       "      <th>fatec</th>\n",
       "    </tr>\n",
       "  </thead>\n",
       "  <tbody>\n",
       "    <tr>\n",
       "      <th>0</th>\n",
       "      <td>71</td>\n",
       "      <td>Adamantina - Fatec Adamantina</td>\n",
       "    </tr>\n",
       "    <tr>\n",
       "      <th>1</th>\n",
       "      <td>3</td>\n",
       "      <td>Americana - Fatec Americana - Ministro Ralph B...</td>\n",
       "    </tr>\n",
       "    <tr>\n",
       "      <th>2</th>\n",
       "      <td>35</td>\n",
       "      <td>Araçatuba - Fatec Araçatuba - Prof. Fernando A...</td>\n",
       "    </tr>\n",
       "    <tr>\n",
       "      <th>3</th>\n",
       "      <td>67</td>\n",
       "      <td>Araraquara - Fatec Araraquara</td>\n",
       "    </tr>\n",
       "    <tr>\n",
       "      <th>4</th>\n",
       "      <td>68</td>\n",
       "      <td>Araras - Fatec Araras</td>\n",
       "    </tr>\n",
       "  </tbody>\n",
       "</table>\n",
       "</div>"
      ],
      "text/plain": [
       "   id                                              fatec\n",
       "0  71                      Adamantina - Fatec Adamantina\n",
       "1   3  Americana - Fatec Americana - Ministro Ralph B...\n",
       "2  35  Araçatuba - Fatec Araçatuba - Prof. Fernando A...\n",
       "3  67                      Araraquara - Fatec Araraquara\n",
       "4  68                              Araras - Fatec Araras"
      ]
     },
     "execution_count": 9,
     "metadata": {},
     "output_type": "execute_result"
    }
   ],
   "source": [
    "dfFatec.head()"
   ]
  },
  {
   "cell_type": "code",
   "execution_count": 11,
   "metadata": {
    "ExecuteTime": {
     "end_time": "2021-02-12T18:45:03.682903Z",
     "start_time": "2021-02-12T18:45:02.681500Z"
    }
   },
   "outputs": [],
   "source": [
    "#POPULAR O DATAFRAMECURSOS\n",
    "buscarCursosPopular('https://www.vestibularfatec.com.br/unidades-cursos/?q=')\n"
   ]
  },
  {
   "cell_type": "code",
   "execution_count": 10,
   "metadata": {
    "ExecuteTime": {
     "end_time": "2021-02-13T19:12:44.919117Z",
     "start_time": "2021-02-13T19:12:44.891122Z"
    }
   },
   "outputs": [],
   "source": [
    "dfCursos = pd.read_csv('ds/listaCursos.csv',sep=';')"
   ]
  },
  {
   "cell_type": "code",
   "execution_count": 11,
   "metadata": {
    "ExecuteTime": {
     "end_time": "2021-02-13T19:12:48.152370Z",
     "start_time": "2021-02-13T19:12:48.124355Z"
    }
   },
   "outputs": [
    {
     "data": {
      "text/html": [
       "<div>\n",
       "<style scoped>\n",
       "    .dataframe tbody tr th:only-of-type {\n",
       "        vertical-align: middle;\n",
       "    }\n",
       "\n",
       "    .dataframe tbody tr th {\n",
       "        vertical-align: top;\n",
       "    }\n",
       "\n",
       "    .dataframe thead th {\n",
       "        text-align: right;\n",
       "    }\n",
       "</style>\n",
       "<table border=\"1\" class=\"dataframe\">\n",
       "  <thead>\n",
       "    <tr style=\"text-align: right;\">\n",
       "      <th></th>\n",
       "      <th>id</th>\n",
       "      <th>curso</th>\n",
       "    </tr>\n",
       "  </thead>\n",
       "  <tbody>\n",
       "    <tr>\n",
       "      <th>0</th>\n",
       "      <td>245</td>\n",
       "      <td>Gestão Empresarial - EaD</td>\n",
       "    </tr>\n",
       "    <tr>\n",
       "      <th>1</th>\n",
       "      <td>247</td>\n",
       "      <td>Agroindústria</td>\n",
       "    </tr>\n",
       "    <tr>\n",
       "      <th>2</th>\n",
       "      <td>75</td>\n",
       "      <td>Agronegócio</td>\n",
       "    </tr>\n",
       "    <tr>\n",
       "      <th>3</th>\n",
       "      <td>76</td>\n",
       "      <td>Alimentos</td>\n",
       "    </tr>\n",
       "    <tr>\n",
       "      <th>4</th>\n",
       "      <td>266</td>\n",
       "      <td>Análise de Processos Agroindustriais</td>\n",
       "    </tr>\n",
       "  </tbody>\n",
       "</table>\n",
       "</div>"
      ],
      "text/plain": [
       "    id                                 curso\n",
       "0  245              Gestão Empresarial - EaD\n",
       "1  247                         Agroindústria\n",
       "2   75                          Agronegócio \n",
       "3   76                             Alimentos\n",
       "4  266  Análise de Processos Agroindustriais"
      ]
     },
     "execution_count": 11,
     "metadata": {},
     "output_type": "execute_result"
    }
   ],
   "source": [
    "dfCursos.head()"
   ]
  },
  {
   "cell_type": "code",
   "execution_count": 67,
   "metadata": {
    "ExecuteTime": {
     "end_time": "2021-02-13T20:31:33.017624Z",
     "start_time": "2021-02-13T20:31:32.995629Z"
    }
   },
   "outputs": [
    {
     "data": {
      "text/plain": [
       "'\\ncod_curso-> Sitema da Calculadora\\ncod_instituicao -> Sistema da Calculadora\\nano -> ano do vestibular\\nsemeste-> semestre do vestibular\\nperiodo -> da busca (UPPER())\\nROBO DEMANDA\\nqtde_vagas-> preencher através de outro robo\\nqtde_inscrito->\\ndemanda-> realizar o cálculo\\nnota_corte -> nota min\\nnota_maxima -> nota max\\n\\n\\n'"
      ]
     },
     "execution_count": 67,
     "metadata": {},
     "output_type": "execute_result"
    }
   ],
   "source": [
    "resultado_vestibular_da_fatec = []\n",
    "resultado_vestibular_da_fatec2 = [] #Organiza cada fatec em uma array.\n",
    "\n",
    "\n",
    "'''\n",
    "lista_info_vestibular_fatec = {\n",
    "    'cod_curso':'' ,\n",
    "    'nome_curso':'',\n",
    "    'cod_instituicao':'',\n",
    "    'instituicao':'',\n",
    "    'ano':'', \n",
    "    'semestre':'',\n",
    "    'periodo':'',\n",
    "    'qtde_vagas':'',\n",
    "    'qtde_inscrito':'',\n",
    "    'demanda':'',\n",
    "    'nota_corte':'',\n",
    "    'nota_maxima':''\n",
    "}\n",
    "'''\n",
    "#inf\n",
    "'''\n",
    "cod_curso-> Sitema da Calculadora\n",
    "cod_instituicao -> Sistema da Calculadora\n",
    "ano -> ano do vestibular\n",
    "semeste-> semestre do vestibular\n",
    "periodo -> da busca (UPPER())\n",
    "ROBO DEMANDA\n",
    "qtde_vagas-> preencher através de outro robo\n",
    "qtde_inscrito->\n",
    "demanda-> realizar o cálculo\n",
    "nota_corte -> nota min\n",
    "nota_maxima -> nota max\n",
    "\n",
    "\n",
    "'''\n",
    "\n",
    "\n"
   ]
  },
  {
   "cell_type": "code",
   "execution_count": 46,
   "metadata": {
    "ExecuteTime": {
     "end_time": "2021-02-13T19:56:03.307067Z",
     "start_time": "2021-02-13T19:56:03.297092Z"
    }
   },
   "outputs": [
    {
     "data": {
      "text/plain": [
       "{'cod_curso': '',\n",
       " 'nome_curso': '',\n",
       " 'cod_instituicao': '',\n",
       " 'instituicao': '',\n",
       " 'ano': '',\n",
       " 'semestre': '',\n",
       " 'periodo': '',\n",
       " 'qtde_vagas': '',\n",
       " 'qtde_inscrito': '',\n",
       " 'demanda': '',\n",
       " 'nota_corte': '',\n",
       " 'nota_maxima': ''}"
      ]
     },
     "execution_count": 46,
     "metadata": {},
     "output_type": "execute_result"
    }
   ],
   "source": [
    "lista_info_vestibular_fatec"
   ]
  },
  {
   "cell_type": "markdown",
   "metadata": {},
   "source": [
    "# PASSO A PASSO DA LÓGICA\n",
    "SERÁ FEITO UMA NAVEGAÇÃO SEGUINDO A SEGUINTE REGRA:\n",
    "    -> OS DATAFRAMES ESTÃO POPULADOS\n",
    "    A CADA FATEC DA LISTA, VISITAR A PÁGINA DOS CURSOS QUE ELA OFERECERAM. ENTRAR EM CADA UMA DAS OPÇÕES E IR PARA A TELA DE VERIFICAR LISTA DE CHAMADA."
   ]
  },
  {
   "cell_type": "code",
   "execution_count": 68,
   "metadata": {
    "ExecuteTime": {
     "end_time": "2021-02-13T20:37:14.646147Z",
     "start_time": "2021-02-13T20:31:43.535685Z"
    }
   },
   "outputs": [
    {
     "name": "stderr",
     "output_type": "stream",
     "text": [
      "\r",
      "  0%|          | 0/5 [00:00<?, ?it/s]"
     ]
    },
    {
     "name": "stdout",
     "output_type": "stream",
     "text": [
      "Adamantina - Fatec Adamantina - Ciência de Dados (Noite)\n",
      "NOTA MÁXIMA = 55,00 | NOTA DE CORTE = 35,75\n",
      "Adamantina - Fatec Adamantina - Gestão Comercial (Noite)\n",
      "NOTA MÁXIMA = 56,50 | NOTA DE CORTE = 39,55\n"
     ]
    },
    {
     "name": "stderr",
     "output_type": "stream",
     "text": [
      "\r",
      " 20%|██        | 1/5 [00:34<02:16, 34.17s/it]"
     ]
    },
    {
     "name": "stdout",
     "output_type": "stream",
     "text": [
      "Americana - Fatec Americana - Ministro Ralph Biasi - Análise e Desenvolvimento de Sistemas (Tarde)\n",
      "NOTA MÁXIMA = 50,00 | NOTA DE CORTE = 34,38\n",
      "Americana - Fatec Americana - Ministro Ralph Biasi - Análise e Desenvolvimento de Sistemas (Manhã)\n",
      "NOTA MÁXIMA = 56,50 | NOTA DE CORTE = 41,25\n",
      "Americana - Fatec Americana - Ministro Ralph Biasi - Gestão Empresarial (EaD)\n",
      "NOTA MÁXIMA = 56,50 | NOTA DE CORTE = 46,75\n",
      "Americana - Fatec Americana - Ministro Ralph Biasi - Gestão Empresarial (Manhã)\n",
      "NOTA MÁXIMA = 53,68 | NOTA DE CORTE = 38,78\n",
      "Americana - Fatec Americana - Ministro Ralph Biasi - Gestão Empresarial (Noite)\n",
      "NOTA MÁXIMA = 55,00 | NOTA DE CORTE = 46,75\n",
      "Americana - Fatec Americana - Ministro Ralph Biasi - Jogos Digitais (Noite)\n",
      "NOTA MÁXIMA = 56,50 | NOTA DE CORTE = 41,25\n",
      "Americana - Fatec Americana - Ministro Ralph Biasi - Logística (Manhã)\n",
      "NOTA MÁXIMA = 56,50 | NOTA DE CORTE = 34,38\n",
      "Americana - Fatec Americana - Ministro Ralph Biasi - Logística (Noite)\n",
      "NOTA MÁXIMA = 56,50 | NOTA DE CORTE = 42,38\n",
      "Americana - Fatec Americana - Ministro Ralph Biasi - Produção Têxtil (Noite)\n",
      "NOTA MÁXIMA = 55,00 | NOTA DE CORTE = 31,08\n",
      "Americana - Fatec Americana - Ministro Ralph Biasi - Segurança da Informação (Manhã)\n",
      "NOTA MÁXIMA = 55,00 | NOTA DE CORTE = 34,38\n",
      "Americana - Fatec Americana - Ministro Ralph Biasi - Segurança da Informação (Noite)\n",
      "NOTA MÁXIMA = 55,00 | NOTA DE CORTE = 44,00\n",
      "Americana - Fatec Americana - Ministro Ralph Biasi - Têxtil e Moda (Manhã)\n",
      "NOTA MÁXIMA = 56,50 | NOTA DE CORTE = 40,00\n"
     ]
    },
    {
     "name": "stderr",
     "output_type": "stream",
     "text": [
      "\r",
      " 40%|████      | 2/5 [03:22<03:43, 74.46s/it]"
     ]
    },
    {
     "name": "stdout",
     "output_type": "stream",
     "text": [
      "Araçatuba - Fatec Araçatuba - Prof. Fernando Amaral de Almeida Prado - Análise e Desenvolvimento de Sistemas (Manhã)\n",
      "NOTA MÁXIMA = 52,25 | NOTA DE CORTE = 34,38\n",
      "Araçatuba - Fatec Araçatuba - Prof. Fernando Amaral de Almeida Prado - Biocombustíveis  (Noite)\n",
      "NOTA MÁXIMA = 56,50 | NOTA DE CORTE = 33,90\n",
      "Araçatuba - Fatec Araçatuba - Prof. Fernando Amaral de Almeida Prado - Gestão Empresarial (EaD)\n",
      "NOTA MÁXIMA = 56,50 | NOTA DE CORTE = 46,61\n"
     ]
    },
    {
     "name": "stderr",
     "output_type": "stream",
     "text": [
      "\r",
      " 60%|██████    | 3/5 [04:09<02:12, 66.18s/it]"
     ]
    },
    {
     "name": "stdout",
     "output_type": "stream",
     "text": [
      "Araraquara - Fatec Araraquara - Gestão Comercial (Noite)\n",
      "NOTA MÁXIMA = 56,50 | NOTA DE CORTE = 44,00\n",
      "Araraquara - Fatec Araraquara - Gestão Empresarial (Manhã)\n",
      "NOTA MÁXIMA = 55,00 | NOTA DE CORTE = 39,55\n",
      "Araraquara - Fatec Araraquara - Segurança da Informação (Noite)\n",
      "NOTA MÁXIMA = 56,50 | NOTA DE CORTE = 46,75\n"
     ]
    },
    {
     "name": "stderr",
     "output_type": "stream",
     "text": [
      "\r",
      " 80%|████████  | 4/5 [04:57<01:00, 60.65s/it]"
     ]
    },
    {
     "name": "stdout",
     "output_type": "stream",
     "text": [
      "Araras - Fatec Araras - Desenvolvimento de Software Multiplataforma (Noite)\n",
      "NOTA MÁXIMA = 56,50 | NOTA DE CORTE = 40,15\n",
      "Araras - Fatec Araras - Gestão Empresarial (Noite)\n",
      "NOTA MÁXIMA = 55,00 | NOTA DE CORTE = 41,25\n"
     ]
    },
    {
     "name": "stderr",
     "output_type": "stream",
     "text": [
      "100%|██████████| 5/5 [05:31<00:00, 66.21s/it]\n"
     ]
    }
   ],
   "source": [
    "for i in tqdm(range(len (dfFatec.head()))):\n",
    "    resultado_por_fatec=[]\n",
    "    id_ = dfFatec.loc[i,'id']\n",
    "    fatec_ = dfFatec.loc[i,'fatec']\n",
    "    #CARREGA UMA LISTA COM OS DADOS DO SELECT DA PAGINA. RECEBE OS DADOS DA FATEC\n",
    "    selectFatecs = Select(classificacao_geral_vest_fatec.find_element_by_id('CodFatec'))\n",
    "    #NAVEGA NA FATEC DA VEZ. ELE FAZ ESSE CICLO, SEGUINDO O DATAFRAME. PREENCHIDO EM OUTRO MOMENTO OU PELA FUNÇÃO OU PELO CSV\n",
    "    selectFatecs.select_by_visible_text(fatec_)\n",
    "    #APÓS SELECIONAR NO COMBO A FATEC - CLICA NO BOTÃO PARA IR PARA A PÁGINA DA ESCOLHA DO CURSO\n",
    "    classificacao_geral_vest_fatec.find_element_by_xpath('//*[@id=\"formClassificacao\"]/div[2]/button').click()\n",
    "    #SEGURA A PÁGINA PARA QUE ELA POSSA ESTAR 100% CARREGADA PARA A PRÓXIMA ETAPA\n",
    "    time.sleep(4)\n",
    "    #PREENCHE A LISTA DE CURSOS OFERECIDAS NA FATEC SELECIONADA ANTERIRMENTE\n",
    "    selectCursos = Select(classificacao_geral_vest_fatec.find_element_by_id('CodEscolaCurso'))\n",
    "    #CRIA UM DICIONARIO PARA FACILITAR A NAVEGAÇÃO, ATRAVÉS DE UMA FUNÇÃO \n",
    "    listaDeCursos = criarDicionario(selectCursos,['id','curso'])\n",
    "    #SEGURA A PÁGINA\n",
    "    time.sleep(2)\n",
    "\n",
    "    #print(f'quantidade de cursos {len(selectCursos.options)}')\n",
    "    #ENTRA EM UM LOOP PARA VISITAR TODOS OS CURSOS DA FATEC SELECIONADA\n",
    "    for c in range(len (listaDeCursos)):\n",
    "        lista_info_vestibular_fatec = {}\n",
    "        #RECARREGA O OBJETO PARA NÃO PERDER O PONTEIRO. DÁ PARA MELHORAR ESSE TRECHO\n",
    "        selectCursos = Select(classificacao_geral_vest_fatec.find_element_by_id('CodEscolaCurso'))\n",
    "        print(f'{fatec_} - {listaDeCursos[c][\"curso\"]}')\n",
    "        #ESSE VERIFICADOR IMPEDE QUE A OPÇÃO SELECIONE SEJA ITERADA\n",
    "        if 'Selecione...' not in listaDeCursos[c]['curso']:\n",
    "            #selectCursos.select_by_visible_text(listaDeCursos[c]['curso'])\n",
    "            #RECUPERO O ID DO CURSO E PASSO PARA A FUNÇÃO DO SELENIUM PARA SELECIONAR O ITEM NO SELECT\n",
    "            idC = str(listaDeCursos[c]['id'])\n",
    "            selectCursos.select_by_value(idC)\n",
    "            #REALIZO O CLICK PARA CHEGAR NA PRÓXIMA PÁGINA\n",
    "            classificacao_geral_vest_fatec.find_element_by_xpath('//*[@id=\"formClassificacao\"]/div[2]/button').click()   \n",
    "            #SEGURO UM POUCO A PÁGINA PARA QUE CONSIGA CARREGAR. VERIFICAR SE EXISTE METÓDO MELHOR PARA AGUARDAR\n",
    "            time.sleep(2)   \n",
    "            #PEGO A URL ATUAL E CONCATENO COM AS INFORMAÇÕES DE IDENTIFICAÇÃO DA FATEC E CURSO.\n",
    "            #ESSE TRECHO PRECISA SER ADAPTADO PARA CASO O USUÁRIO JÁ SEJA REDIRECIONADO PARA A PAGINA DESTINO. ISSO ACONTECE CASO NÃO TENHA LISTA DE CONVOCAÇÃO DE 2 CHAMADA\n",
    "            url_lista_1chamada = classificacao_geral_vest_fatec.current_url\n",
    "            #cod_curso = int(selectCursos.options[c].get_attribute(\"value\"))\n",
    "            url_lista_1chamada = (f'{url_lista_1chamada}?codfatec={id_}&codescolacurso={idC}&o=1')\n",
    "            #REALIZO O CLICK PARA CONSULTAR A TABELA DE CLASSIFICAÇÃO COM AS NOTAS\n",
    "            classificacao_geral_vest_fatec.find_element_by_xpath('/html/body/div[2]/div/div[2]/div/ul/li[1]/a').click()   \n",
    "            time.sleep(2)\n",
    "            #SELECIONO A TABELA COM O RESULTADO\n",
    "            tabela_ =classificacao_geral_vest_fatec.find_element_by_css_selector('table.table')\n",
    "            #AQUI ESTÁ UMA SACADA. COMO TEM CURSOS COM MUITOS INSCRITOS E AS VAGAS NO MÁXIMO SÃO DE 80 VAGAS. FAÇO UMA SELEÇÃO APENAS DOS 80 PRIMEIROS\n",
    "            resultado80 = tabela_.find_elements_by_css_selector('tbody tr:nth-child(-n + 100)')\n",
    "            #SEGURO A PÁGINA PARA QUE POSSA CARREGAR\n",
    "            time.sleep(5)\n",
    "            #A NOTA MÁXIMA SEMPRE SERÁ O PRIMEIRO REGISTRO. POR ISSO ATRIBUIÇÃO DIRETA.\n",
    "            nota_max= ajustarNota(resultado80[0])\n",
    "            #AGORA PRECISO DESCOBRIR A NOTA MINÍMA(CORTE) OU SEJA O ÚLTIMO CONVOCADO\n",
    "            nota_min = 0\n",
    "            #FACO UMA ITERAÇÃO DENTRO DA LISTA COM OS 80 PRIMEIROS. PODERIAM AJUSTAR PARA PERCORRER DE FORMA MULTIPLO DE 5. POIS O MÍNIMO DE VAGAS É 30\n",
    "            for i, linha in enumerate(resultado80):\n",
    "#                lista_info_vestibular_fatec = {}\n",
    "                #DENTRO DESSA ITERAÇÃO, TENHO CERTEZA QUE PEGAREI APENAS O CONVOCADO COM OO IF, SEMPRE ATUALIZANDO A NOTA MIN A CADA PASSAGEM. ITERROMPO, QUANDO A CONDIÇÃO DO IF FOR FALSE\n",
    "                if ('CONVOCADO' in linha.text.upper()):\n",
    "                    nota_min = ajustarNota(resultado80[i])\n",
    "                else:\n",
    "                    break            \n",
    "            print(f'NOTA MÁXIMA = {nota_max} | NOTA DE CORTE = {nota_min}')\n",
    "            #NESTA ETAPA JÁ POSSUO OS DADOS PARA CRIAR UM OBJETO COMOS RESULTADOS DESTE CURSO, PERIODO E DESTA FATEC\n",
    "            lista_info_vestibular_fatec['nome_curso'] = curso_periodo(listaDeCursos[c][\"curso\"])[0]#curso\n",
    "            lista_info_vestibular_fatec['instituicao'] = fatec_.strip()\n",
    "            lista_info_vestibular_fatec['ano']= 2021\n",
    "            lista_info_vestibular_fatec['semestre']= 1\n",
    "            lista_info_vestibular_fatec['periodo'] = curso_periodo(listaDeCursos[c][\"curso\"])[1]#periodo\n",
    "            lista_info_vestibular_fatec['nota_corte'] = nota_min\n",
    "            lista_info_vestibular_fatec['nota_maxima'] = nota_max\n",
    "            #ARMAZENO O RESULTADO EM UMA LISTA. CRIO DUAS MANEIRAS DISTINTAS\n",
    "            resultado_vestibular_da_fatec.append(lista_info_vestibular_fatec)            \n",
    "            resultado_por_fatec.append(lista_info_vestibular_fatec)\n",
    "            #RETORNO DUAS VEZES PARA RECOMEÇAR O PASSO A PASSO\n",
    "            classificacao_geral_vest_fatec.back()\n",
    "            classificacao_geral_vest_fatec.back()\n",
    "            resultado_vestibular_da_fatec2.append(resultado_por_fatec)\n",
    "    classificacao_geral_vest_fatec.back()\n",
    "    time.sleep(1)\n"
   ]
  },
  {
   "cell_type": "code",
   "execution_count": 25,
   "metadata": {
    "ExecuteTime": {
     "end_time": "2021-02-12T18:53:58.950134Z",
     "start_time": "2021-02-12T18:53:58.910113Z"
    },
    "collapsed": true
   },
   "outputs": [
    {
     "ename": "StaleElementReferenceException",
     "evalue": "Message: stale element reference: element is not attached to the page document\n  (Session info: chrome=88.0.4324.150)\n",
     "output_type": "error",
     "traceback": [
      "\u001b[1;31m---------------------------------------------------------------------------\u001b[0m",
      "\u001b[1;31mStaleElementReferenceException\u001b[0m            Traceback (most recent call last)",
      "\u001b[1;32m<ipython-input-25-fb4df94ea377>\u001b[0m in \u001b[0;36m<module>\u001b[1;34m\u001b[0m\n\u001b[1;32m----> 1\u001b[1;33m \u001b[0mselectFatecs\u001b[0m\u001b[1;33m.\u001b[0m\u001b[0moptions\u001b[0m\u001b[1;33m[\u001b[0m\u001b[1;36m1\u001b[0m\u001b[1;33m]\u001b[0m\u001b[1;33m.\u001b[0m\u001b[0mtext\u001b[0m\u001b[1;33m\u001b[0m\u001b[1;33m\u001b[0m\u001b[0m\n\u001b[0m",
      "\u001b[1;32m~\\anaconda3\\lib\\site-packages\\selenium\\webdriver\\support\\select.py\u001b[0m in \u001b[0;36moptions\u001b[1;34m(self)\u001b[0m\n\u001b[0;32m     45\u001b[0m     \u001b[1;32mdef\u001b[0m \u001b[0moptions\u001b[0m\u001b[1;33m(\u001b[0m\u001b[0mself\u001b[0m\u001b[1;33m)\u001b[0m\u001b[1;33m:\u001b[0m\u001b[1;33m\u001b[0m\u001b[1;33m\u001b[0m\u001b[0m\n\u001b[0;32m     46\u001b[0m         \u001b[1;34m\"\"\"Returns a list of all options belonging to this select tag\"\"\"\u001b[0m\u001b[1;33m\u001b[0m\u001b[1;33m\u001b[0m\u001b[0m\n\u001b[1;32m---> 47\u001b[1;33m         \u001b[1;32mreturn\u001b[0m \u001b[0mself\u001b[0m\u001b[1;33m.\u001b[0m\u001b[0m_el\u001b[0m\u001b[1;33m.\u001b[0m\u001b[0mfind_elements\u001b[0m\u001b[1;33m(\u001b[0m\u001b[0mBy\u001b[0m\u001b[1;33m.\u001b[0m\u001b[0mTAG_NAME\u001b[0m\u001b[1;33m,\u001b[0m \u001b[1;34m'option'\u001b[0m\u001b[1;33m)\u001b[0m\u001b[1;33m\u001b[0m\u001b[1;33m\u001b[0m\u001b[0m\n\u001b[0m\u001b[0;32m     48\u001b[0m \u001b[1;33m\u001b[0m\u001b[0m\n\u001b[0;32m     49\u001b[0m     \u001b[1;33m@\u001b[0m\u001b[0mproperty\u001b[0m\u001b[1;33m\u001b[0m\u001b[1;33m\u001b[0m\u001b[0m\n",
      "\u001b[1;32m~\\anaconda3\\lib\\site-packages\\selenium\\webdriver\\remote\\webelement.py\u001b[0m in \u001b[0;36mfind_elements\u001b[1;34m(self, by, value)\u001b[0m\n\u001b[0;32m    682\u001b[0m                 \u001b[0mvalue\u001b[0m \u001b[1;33m=\u001b[0m \u001b[1;34m'[name=\"%s\"]'\u001b[0m \u001b[1;33m%\u001b[0m \u001b[0mvalue\u001b[0m\u001b[1;33m\u001b[0m\u001b[1;33m\u001b[0m\u001b[0m\n\u001b[0;32m    683\u001b[0m \u001b[1;33m\u001b[0m\u001b[0m\n\u001b[1;32m--> 684\u001b[1;33m         return self._execute(Command.FIND_CHILD_ELEMENTS,\n\u001b[0m\u001b[0;32m    685\u001b[0m                              {\"using\": by, \"value\": value})['value']\n\u001b[0;32m    686\u001b[0m \u001b[1;33m\u001b[0m\u001b[0m\n",
      "\u001b[1;32m~\\anaconda3\\lib\\site-packages\\selenium\\webdriver\\remote\\webelement.py\u001b[0m in \u001b[0;36m_execute\u001b[1;34m(self, command, params)\u001b[0m\n\u001b[0;32m    631\u001b[0m             \u001b[0mparams\u001b[0m \u001b[1;33m=\u001b[0m \u001b[1;33m{\u001b[0m\u001b[1;33m}\u001b[0m\u001b[1;33m\u001b[0m\u001b[1;33m\u001b[0m\u001b[0m\n\u001b[0;32m    632\u001b[0m         \u001b[0mparams\u001b[0m\u001b[1;33m[\u001b[0m\u001b[1;34m'id'\u001b[0m\u001b[1;33m]\u001b[0m \u001b[1;33m=\u001b[0m \u001b[0mself\u001b[0m\u001b[1;33m.\u001b[0m\u001b[0m_id\u001b[0m\u001b[1;33m\u001b[0m\u001b[1;33m\u001b[0m\u001b[0m\n\u001b[1;32m--> 633\u001b[1;33m         \u001b[1;32mreturn\u001b[0m \u001b[0mself\u001b[0m\u001b[1;33m.\u001b[0m\u001b[0m_parent\u001b[0m\u001b[1;33m.\u001b[0m\u001b[0mexecute\u001b[0m\u001b[1;33m(\u001b[0m\u001b[0mcommand\u001b[0m\u001b[1;33m,\u001b[0m \u001b[0mparams\u001b[0m\u001b[1;33m)\u001b[0m\u001b[1;33m\u001b[0m\u001b[1;33m\u001b[0m\u001b[0m\n\u001b[0m\u001b[0;32m    634\u001b[0m \u001b[1;33m\u001b[0m\u001b[0m\n\u001b[0;32m    635\u001b[0m     \u001b[1;32mdef\u001b[0m \u001b[0mfind_element\u001b[0m\u001b[1;33m(\u001b[0m\u001b[0mself\u001b[0m\u001b[1;33m,\u001b[0m \u001b[0mby\u001b[0m\u001b[1;33m=\u001b[0m\u001b[0mBy\u001b[0m\u001b[1;33m.\u001b[0m\u001b[0mID\u001b[0m\u001b[1;33m,\u001b[0m \u001b[0mvalue\u001b[0m\u001b[1;33m=\u001b[0m\u001b[1;32mNone\u001b[0m\u001b[1;33m)\u001b[0m\u001b[1;33m:\u001b[0m\u001b[1;33m\u001b[0m\u001b[1;33m\u001b[0m\u001b[0m\n",
      "\u001b[1;32m~\\anaconda3\\lib\\site-packages\\selenium\\webdriver\\remote\\webdriver.py\u001b[0m in \u001b[0;36mexecute\u001b[1;34m(self, driver_command, params)\u001b[0m\n\u001b[0;32m    319\u001b[0m         \u001b[0mresponse\u001b[0m \u001b[1;33m=\u001b[0m \u001b[0mself\u001b[0m\u001b[1;33m.\u001b[0m\u001b[0mcommand_executor\u001b[0m\u001b[1;33m.\u001b[0m\u001b[0mexecute\u001b[0m\u001b[1;33m(\u001b[0m\u001b[0mdriver_command\u001b[0m\u001b[1;33m,\u001b[0m \u001b[0mparams\u001b[0m\u001b[1;33m)\u001b[0m\u001b[1;33m\u001b[0m\u001b[1;33m\u001b[0m\u001b[0m\n\u001b[0;32m    320\u001b[0m         \u001b[1;32mif\u001b[0m \u001b[0mresponse\u001b[0m\u001b[1;33m:\u001b[0m\u001b[1;33m\u001b[0m\u001b[1;33m\u001b[0m\u001b[0m\n\u001b[1;32m--> 321\u001b[1;33m             \u001b[0mself\u001b[0m\u001b[1;33m.\u001b[0m\u001b[0merror_handler\u001b[0m\u001b[1;33m.\u001b[0m\u001b[0mcheck_response\u001b[0m\u001b[1;33m(\u001b[0m\u001b[0mresponse\u001b[0m\u001b[1;33m)\u001b[0m\u001b[1;33m\u001b[0m\u001b[1;33m\u001b[0m\u001b[0m\n\u001b[0m\u001b[0;32m    322\u001b[0m             response['value'] = self._unwrap_value(\n\u001b[0;32m    323\u001b[0m                 response.get('value', None))\n",
      "\u001b[1;32m~\\anaconda3\\lib\\site-packages\\selenium\\webdriver\\remote\\errorhandler.py\u001b[0m in \u001b[0;36mcheck_response\u001b[1;34m(self, response)\u001b[0m\n\u001b[0;32m    240\u001b[0m                 \u001b[0malert_text\u001b[0m \u001b[1;33m=\u001b[0m \u001b[0mvalue\u001b[0m\u001b[1;33m[\u001b[0m\u001b[1;34m'alert'\u001b[0m\u001b[1;33m]\u001b[0m\u001b[1;33m.\u001b[0m\u001b[0mget\u001b[0m\u001b[1;33m(\u001b[0m\u001b[1;34m'text'\u001b[0m\u001b[1;33m)\u001b[0m\u001b[1;33m\u001b[0m\u001b[1;33m\u001b[0m\u001b[0m\n\u001b[0;32m    241\u001b[0m             \u001b[1;32mraise\u001b[0m \u001b[0mexception_class\u001b[0m\u001b[1;33m(\u001b[0m\u001b[0mmessage\u001b[0m\u001b[1;33m,\u001b[0m \u001b[0mscreen\u001b[0m\u001b[1;33m,\u001b[0m \u001b[0mstacktrace\u001b[0m\u001b[1;33m,\u001b[0m \u001b[0malert_text\u001b[0m\u001b[1;33m)\u001b[0m\u001b[1;33m\u001b[0m\u001b[1;33m\u001b[0m\u001b[0m\n\u001b[1;32m--> 242\u001b[1;33m         \u001b[1;32mraise\u001b[0m \u001b[0mexception_class\u001b[0m\u001b[1;33m(\u001b[0m\u001b[0mmessage\u001b[0m\u001b[1;33m,\u001b[0m \u001b[0mscreen\u001b[0m\u001b[1;33m,\u001b[0m \u001b[0mstacktrace\u001b[0m\u001b[1;33m)\u001b[0m\u001b[1;33m\u001b[0m\u001b[1;33m\u001b[0m\u001b[0m\n\u001b[0m\u001b[0;32m    243\u001b[0m \u001b[1;33m\u001b[0m\u001b[0m\n\u001b[0;32m    244\u001b[0m     \u001b[1;32mdef\u001b[0m \u001b[0m_value_or_default\u001b[0m\u001b[1;33m(\u001b[0m\u001b[0mself\u001b[0m\u001b[1;33m,\u001b[0m \u001b[0mobj\u001b[0m\u001b[1;33m,\u001b[0m \u001b[0mkey\u001b[0m\u001b[1;33m,\u001b[0m \u001b[0mdefault\u001b[0m\u001b[1;33m)\u001b[0m\u001b[1;33m:\u001b[0m\u001b[1;33m\u001b[0m\u001b[1;33m\u001b[0m\u001b[0m\n",
      "\u001b[1;31mStaleElementReferenceException\u001b[0m: Message: stale element reference: element is not attached to the page document\n  (Session info: chrome=88.0.4324.150)\n"
     ]
    }
   ],
   "source": [
    "selectFatecs.options[1].text"
   ]
  },
  {
   "cell_type": "code",
   "execution_count": 69,
   "metadata": {
    "ExecuteTime": {
     "end_time": "2021-02-13T21:10:40.986881Z",
     "start_time": "2021-02-13T21:10:40.957882Z"
    }
   },
   "outputs": [
    {
     "data": {
      "text/plain": [
       "[{'nome_curso': 'Ciência de Dados ',\n",
       "  'instituicao': 'Adamantina - Fatec Adamantina',\n",
       "  'ano': 2021,\n",
       "  'semestre': 1,\n",
       "  'periodo': 'Noite',\n",
       "  'qtde_vagas': 35,\n",
       "  'nota_corte': '35,75',\n",
       "  'nota_maxima': '55,00'},\n",
       " {'nome_curso': 'Gestão Comercial ',\n",
       "  'instituicao': 'Adamantina - Fatec Adamantina',\n",
       "  'ano': 2021,\n",
       "  'semestre': 1,\n",
       "  'periodo': 'Noite',\n",
       "  'qtde_vagas': 35,\n",
       "  'nota_corte': '39,55',\n",
       "  'nota_maxima': '56,50'},\n",
       " {'nome_curso': 'Análise e Desenvolvimento de Sistemas ',\n",
       "  'instituicao': 'Americana - Fatec Americana - Ministro Ralph Biasi',\n",
       "  'ano': 2021,\n",
       "  'semestre': 1,\n",
       "  'periodo': 'Tarde',\n",
       "  'qtde_vagas': 40,\n",
       "  'nota_corte': '34,38',\n",
       "  'nota_maxima': '50,00'},\n",
       " {'nome_curso': 'Análise e Desenvolvimento de Sistemas ',\n",
       "  'instituicao': 'Americana - Fatec Americana - Ministro Ralph Biasi',\n",
       "  'ano': 2021,\n",
       "  'semestre': 1,\n",
       "  'periodo': 'Manhã',\n",
       "  'qtde_vagas': 40,\n",
       "  'nota_corte': '41,25',\n",
       "  'nota_maxima': '56,50'},\n",
       " {'nome_curso': 'Gestão Empresarial ',\n",
       "  'instituicao': 'Americana - Fatec Americana - Ministro Ralph Biasi',\n",
       "  'ano': 2021,\n",
       "  'semestre': 1,\n",
       "  'periodo': 'EaD',\n",
       "  'qtde_vagas': 40,\n",
       "  'nota_corte': '46,75',\n",
       "  'nota_maxima': '56,50'},\n",
       " {'nome_curso': 'Gestão Empresarial ',\n",
       "  'instituicao': 'Americana - Fatec Americana - Ministro Ralph Biasi',\n",
       "  'ano': 2021,\n",
       "  'semestre': 1,\n",
       "  'periodo': 'Manhã',\n",
       "  'qtde_vagas': 40,\n",
       "  'nota_corte': '38,78',\n",
       "  'nota_maxima': '53,68'},\n",
       " {'nome_curso': 'Gestão Empresarial ',\n",
       "  'instituicao': 'Americana - Fatec Americana - Ministro Ralph Biasi',\n",
       "  'ano': 2021,\n",
       "  'semestre': 1,\n",
       "  'periodo': 'Noite',\n",
       "  'qtde_vagas': 40,\n",
       "  'nota_corte': '46,75',\n",
       "  'nota_maxima': '55,00'},\n",
       " {'nome_curso': 'Jogos Digitais ',\n",
       "  'instituicao': 'Americana - Fatec Americana - Ministro Ralph Biasi',\n",
       "  'ano': 2021,\n",
       "  'semestre': 1,\n",
       "  'periodo': 'Noite',\n",
       "  'qtde_vagas': 40,\n",
       "  'nota_corte': '41,25',\n",
       "  'nota_maxima': '56,50'},\n",
       " {'nome_curso': 'Logística ',\n",
       "  'instituicao': 'Americana - Fatec Americana - Ministro Ralph Biasi',\n",
       "  'ano': 2021,\n",
       "  'semestre': 1,\n",
       "  'periodo': 'Manhã',\n",
       "  'qtde_vagas': 40,\n",
       "  'nota_corte': '34,38',\n",
       "  'nota_maxima': '56,50'},\n",
       " {'nome_curso': 'Logística ',\n",
       "  'instituicao': 'Americana - Fatec Americana - Ministro Ralph Biasi',\n",
       "  'ano': 2021,\n",
       "  'semestre': 1,\n",
       "  'periodo': 'Noite',\n",
       "  'qtde_vagas': 40,\n",
       "  'nota_corte': '42,38',\n",
       "  'nota_maxima': '56,50'},\n",
       " {'nome_curso': 'Produção Têxtil ',\n",
       "  'instituicao': 'Americana - Fatec Americana - Ministro Ralph Biasi',\n",
       "  'ano': 2021,\n",
       "  'semestre': 1,\n",
       "  'periodo': 'Noite',\n",
       "  'qtde_vagas': 40,\n",
       "  'nota_corte': '31,08',\n",
       "  'nota_maxima': '55,00'},\n",
       " {'nome_curso': 'Segurança da Informação ',\n",
       "  'instituicao': 'Americana - Fatec Americana - Ministro Ralph Biasi',\n",
       "  'ano': 2021,\n",
       "  'semestre': 1,\n",
       "  'periodo': 'Manhã',\n",
       "  'qtde_vagas': 40,\n",
       "  'nota_corte': '34,38',\n",
       "  'nota_maxima': '55,00'},\n",
       " {'nome_curso': 'Segurança da Informação ',\n",
       "  'instituicao': 'Americana - Fatec Americana - Ministro Ralph Biasi',\n",
       "  'ano': 2021,\n",
       "  'semestre': 1,\n",
       "  'periodo': 'Noite',\n",
       "  'qtde_vagas': 40,\n",
       "  'nota_corte': '44,00',\n",
       "  'nota_maxima': '55,00'},\n",
       " {'nome_curso': 'Têxtil e Moda ',\n",
       "  'instituicao': 'Americana - Fatec Americana - Ministro Ralph Biasi',\n",
       "  'ano': 2021,\n",
       "  'semestre': 1,\n",
       "  'periodo': 'Manhã',\n",
       "  'qtde_vagas': 40,\n",
       "  'nota_corte': '40,00',\n",
       "  'nota_maxima': '56,50'},\n",
       " {'nome_curso': 'Análise e Desenvolvimento de Sistemas ',\n",
       "  'instituicao': 'Araçatuba - Fatec Araçatuba - Prof. Fernando Amaral de Almeida Prado',\n",
       "  'ano': 2021,\n",
       "  'semestre': 1,\n",
       "  'periodo': 'Manhã',\n",
       "  'qtde_vagas': 40,\n",
       "  'nota_corte': '34,38',\n",
       "  'nota_maxima': '52,25'},\n",
       " {'nome_curso': 'Biocombustíveis  ',\n",
       "  'instituicao': 'Araçatuba - Fatec Araçatuba - Prof. Fernando Amaral de Almeida Prado',\n",
       "  'ano': 2021,\n",
       "  'semestre': 1,\n",
       "  'periodo': 'Noite',\n",
       "  'qtde_vagas': 40,\n",
       "  'nota_corte': '33,90',\n",
       "  'nota_maxima': '56,50'},\n",
       " {'nome_curso': 'Gestão Empresarial ',\n",
       "  'instituicao': 'Araçatuba - Fatec Araçatuba - Prof. Fernando Amaral de Almeida Prado',\n",
       "  'ano': 2021,\n",
       "  'semestre': 1,\n",
       "  'periodo': 'EaD',\n",
       "  'qtde_vagas': 40,\n",
       "  'nota_corte': '46,61',\n",
       "  'nota_maxima': '56,50'},\n",
       " {'nome_curso': 'Gestão Comercial ',\n",
       "  'instituicao': 'Araraquara - Fatec Araraquara',\n",
       "  'ano': 2021,\n",
       "  'semestre': 1,\n",
       "  'periodo': 'Noite',\n",
       "  'qtde_vagas': 40,\n",
       "  'nota_corte': '44,00',\n",
       "  'nota_maxima': '56,50'},\n",
       " {'nome_curso': 'Gestão Empresarial ',\n",
       "  'instituicao': 'Araraquara - Fatec Araraquara',\n",
       "  'ano': 2021,\n",
       "  'semestre': 1,\n",
       "  'periodo': 'Manhã',\n",
       "  'qtde_vagas': 40,\n",
       "  'nota_corte': '39,55',\n",
       "  'nota_maxima': '55,00'},\n",
       " {'nome_curso': 'Segurança da Informação ',\n",
       "  'instituicao': 'Araraquara - Fatec Araraquara',\n",
       "  'ano': 2021,\n",
       "  'semestre': 1,\n",
       "  'periodo': 'Noite',\n",
       "  'qtde_vagas': 40,\n",
       "  'nota_corte': '46,75',\n",
       "  'nota_maxima': '56,50'},\n",
       " {'nome_curso': 'Desenvolvimento de Software Multiplataforma ',\n",
       "  'instituicao': 'Araras - Fatec Araras',\n",
       "  'ano': 2021,\n",
       "  'semestre': 1,\n",
       "  'periodo': 'Noite',\n",
       "  'qtde_vagas': 40,\n",
       "  'nota_corte': '40,15',\n",
       "  'nota_maxima': '56,50'},\n",
       " {'nome_curso': 'Gestão Empresarial ',\n",
       "  'instituicao': 'Araras - Fatec Araras',\n",
       "  'ano': 2021,\n",
       "  'semestre': 1,\n",
       "  'periodo': 'Noite',\n",
       "  'qtde_vagas': 40,\n",
       "  'nota_corte': '41,25',\n",
       "  'nota_maxima': '55,00'}]"
      ]
     },
     "execution_count": 69,
     "metadata": {},
     "output_type": "execute_result"
    }
   ],
   "source": [
    "resultado_vestibular_da_fatec\n"
   ]
  },
  {
   "cell_type": "code",
   "execution_count": 66,
   "metadata": {
    "ExecuteTime": {
     "end_time": "2021-02-13T20:30:40.667221Z",
     "start_time": "2021-02-13T20:30:40.647235Z"
    }
   },
   "outputs": [
    {
     "data": {
      "text/plain": [
       "12"
      ]
     },
     "execution_count": 66,
     "metadata": {},
     "output_type": "execute_result"
    }
   ],
   "source": [
    "len(resultado_vestibular_da_fatec3[12])"
   ]
  },
  {
   "cell_type": "code",
   "execution_count": null,
   "metadata": {
    "ExecuteTime": {
     "end_time": "2021-02-12T18:25:54.028952Z",
     "start_time": "2021-02-12T18:25:53.977953Z"
    }
   },
   "outputs": [],
   "source": []
  },
  {
   "cell_type": "code",
   "execution_count": null,
   "metadata": {
    "ExecuteTime": {
     "end_time": "2021-02-12T18:26:22.367345Z",
     "start_time": "2021-02-12T18:26:22.308351Z"
    }
   },
   "outputs": [],
   "source": []
  },
  {
   "cell_type": "code",
   "execution_count": null,
   "metadata": {
    "ExecuteTime": {
     "end_time": "2021-02-12T18:26:38.124460Z",
     "start_time": "2021-02-12T18:26:38.069462Z"
    }
   },
   "outputs": [],
   "source": []
  },
  {
   "cell_type": "raw",
   "metadata": {
    "ExecuteTime": {
     "end_time": "2021-02-12T18:30:56.418243Z",
     "start_time": "2021-02-12T18:30:56.361223Z"
    }
   },
   "source": [
    "\n",
    "descobrir quantas colunas tem\n",
    "\n",
    "para capturar o ultimo convocado, sempre atualizar a cada for\n",
    "\n",
    "table = \n",
    "class=\"table table-bordered table-striped\"\n",
    "body > div.container > div > div.sectionContent.mt-3 > div > div.table-responsive > table\n",
    "\n",
    "\n",
    "thead\n",
    " -> Tr\n",
    "  -> th\n",
    " \n",
    " tbody\n",
    "  TR\n",
    "    Td\n",
    "    \n",
    "    COLUNA precisa estar CONVOCADO\n"
   ]
  },
  {
   "cell_type": "raw",
   "metadata": {},
   "source": [
    "rows = driver.find_elements_by_css_selector('.listarPropostas > tr:nth-child(1)')\n"
   ]
  },
  {
   "cell_type": "code",
   "execution_count": 114,
   "metadata": {
    "ExecuteTime": {
     "end_time": "2021-02-13T01:29:34.487936Z",
     "start_time": "2021-02-13T01:29:26.086390Z"
    }
   },
   "outputs": [],
   "source": [
    "resultado_tabela = webdriver.Chrome()\n",
    "resultado_tabela.get(\"https://www.vestibularfatec.com.br/classificacao/lista.asp?codfatec=1&codescolacurso=1999&o=1\")"
   ]
  },
  {
   "cell_type": "code",
   "execution_count": 140,
   "metadata": {
    "ExecuteTime": {
     "end_time": "2021-02-13T02:05:49.786498Z",
     "start_time": "2021-02-13T02:05:49.701503Z"
    }
   },
   "outputs": [],
   "source": [
    "#tabela_ = resultado_tabela.find_elements_by_css_selector('.table.table-bordered.table-striped')\n",
    "#tabela_ = resultado_tabela.find_element_by_xpath('/html/body/div[2]/div/div[2]/div/div[2]/table')\n",
    "\n",
    "#tabela_ = resultado_tabela.find_elements_by_class_name('table')\n",
    "\n",
    "tabela_ =resultado_tabela.find_element_by_css_selector('table.table')\n",
    "\n"
   ]
  },
  {
   "cell_type": "code",
   "execution_count": 191,
   "metadata": {
    "ExecuteTime": {
     "end_time": "2021-02-13T03:02:57.927855Z",
     "start_time": "2021-02-13T03:02:56.182866Z"
    }
   },
   "outputs": [
    {
     "name": "stdout",
     "output_type": "stream",
     "text": [
      "Class. 0\n",
      "Nº Inscrição 1\n",
      "Nome 2\n",
      "Nota 3\n",
      "Afrodesc. 4\n",
      "Esc. Pública 5\n",
      "Português 6\n",
      "Matemática 7\n",
      "Situação 8\n"
     ]
    }
   ],
   "source": [
    "pos_nota = 0\n",
    "pos_situacao = 0\n",
    "      \n",
    "for count,cell in enumerate(tabela_.find_elements_by_css_selector('thead th')):\n",
    "    print(cell.text,count)\n",
    "    if (cell.text =='Situação'):\n",
    "        pos_situacao = count\n",
    "    if (cell.text =='Nota'):\n",
    "        pos_nota = count\n"
   ]
  },
  {
   "cell_type": "code",
   "execution_count": 146,
   "metadata": {
    "ExecuteTime": {
     "end_time": "2021-02-13T02:08:09.851573Z",
     "start_time": "2021-02-13T02:08:09.834578Z"
    }
   },
   "outputs": [
    {
     "data": {
      "text/plain": [
       "3"
      ]
     },
     "execution_count": 146,
     "metadata": {},
     "output_type": "execute_result"
    }
   ],
   "source": [
    "pos_nota"
   ]
  },
  {
   "cell_type": "code",
   "execution_count": 190,
   "metadata": {
    "ExecuteTime": {
     "end_time": "2021-02-13T03:02:22.827024Z",
     "start_time": "2021-02-13T03:00:46.154363Z"
    }
   },
   "outputs": [
    {
     "ename": "KeyboardInterrupt",
     "evalue": "",
     "output_type": "error",
     "traceback": [
      "\u001b[1;31m---------------------------------------------------------------------------\u001b[0m",
      "\u001b[1;31mKeyboardInterrupt\u001b[0m                         Traceback (most recent call last)",
      "\u001b[1;32m<ipython-input-190-a23ba036728d>\u001b[0m in \u001b[0;36m<module>\u001b[1;34m\u001b[0m\n\u001b[0;32m      1\u001b[0m \u001b[0mnota_max\u001b[0m\u001b[1;33m=\u001b[0m \u001b[1;36m0\u001b[0m\u001b[1;33m\u001b[0m\u001b[1;33m\u001b[0m\u001b[0m\n\u001b[0;32m      2\u001b[0m \u001b[0mnota_min\u001b[0m \u001b[1;33m=\u001b[0m \u001b[1;36m0\u001b[0m\u001b[1;33m\u001b[0m\u001b[1;33m\u001b[0m\u001b[0m\n\u001b[1;32m----> 3\u001b[1;33m \u001b[1;32mfor\u001b[0m \u001b[0mi\u001b[0m\u001b[1;33m,\u001b[0m \u001b[0mlinha\u001b[0m \u001b[1;32min\u001b[0m \u001b[0menumerate\u001b[0m\u001b[1;33m(\u001b[0m\u001b[0mtabela_\u001b[0m\u001b[1;33m.\u001b[0m\u001b[0mfind_elements_by_css_selector\u001b[0m\u001b[1;33m(\u001b[0m\u001b[1;34m' tbody td'\u001b[0m\u001b[1;33m)\u001b[0m\u001b[1;33m)\u001b[0m\u001b[1;33m:\u001b[0m\u001b[1;33m\u001b[0m\u001b[1;33m\u001b[0m\u001b[0m\n\u001b[0m\u001b[0;32m      4\u001b[0m     \u001b[0mprint\u001b[0m\u001b[1;33m(\u001b[0m\u001b[0mlinha\u001b[0m\u001b[1;33m.\u001b[0m\u001b[0mtext\u001b[0m\u001b[1;33m)\u001b[0m\u001b[1;33m\u001b[0m\u001b[1;33m\u001b[0m\u001b[0m\n\u001b[0;32m      5\u001b[0m \u001b[1;33m\u001b[0m\u001b[0m\n",
      "\u001b[1;32m~\\anaconda3\\lib\\site-packages\\selenium\\webdriver\\remote\\webelement.py\u001b[0m in \u001b[0;36mfind_elements_by_css_selector\u001b[1;34m(self, css_selector)\u001b[0m\n\u001b[0;32m    443\u001b[0m             \u001b[0melements\u001b[0m \u001b[1;33m=\u001b[0m \u001b[0melement\u001b[0m\u001b[1;33m.\u001b[0m\u001b[0mfind_elements_by_css_selector\u001b[0m\u001b[1;33m(\u001b[0m\u001b[1;34m'.foo'\u001b[0m\u001b[1;33m)\u001b[0m\u001b[1;33m\u001b[0m\u001b[1;33m\u001b[0m\u001b[0m\n\u001b[0;32m    444\u001b[0m         \"\"\"\n\u001b[1;32m--> 445\u001b[1;33m         \u001b[1;32mreturn\u001b[0m \u001b[0mself\u001b[0m\u001b[1;33m.\u001b[0m\u001b[0mfind_elements\u001b[0m\u001b[1;33m(\u001b[0m\u001b[0mby\u001b[0m\u001b[1;33m=\u001b[0m\u001b[0mBy\u001b[0m\u001b[1;33m.\u001b[0m\u001b[0mCSS_SELECTOR\u001b[0m\u001b[1;33m,\u001b[0m \u001b[0mvalue\u001b[0m\u001b[1;33m=\u001b[0m\u001b[0mcss_selector\u001b[0m\u001b[1;33m)\u001b[0m\u001b[1;33m\u001b[0m\u001b[1;33m\u001b[0m\u001b[0m\n\u001b[0m\u001b[0;32m    446\u001b[0m \u001b[1;33m\u001b[0m\u001b[0m\n\u001b[0;32m    447\u001b[0m     \u001b[1;32mdef\u001b[0m \u001b[0msend_keys\u001b[0m\u001b[1;33m(\u001b[0m\u001b[0mself\u001b[0m\u001b[1;33m,\u001b[0m \u001b[1;33m*\u001b[0m\u001b[0mvalue\u001b[0m\u001b[1;33m)\u001b[0m\u001b[1;33m:\u001b[0m\u001b[1;33m\u001b[0m\u001b[1;33m\u001b[0m\u001b[0m\n",
      "\u001b[1;32m~\\anaconda3\\lib\\site-packages\\selenium\\webdriver\\remote\\webelement.py\u001b[0m in \u001b[0;36mfind_elements\u001b[1;34m(self, by, value)\u001b[0m\n\u001b[0;32m    682\u001b[0m                 \u001b[0mvalue\u001b[0m \u001b[1;33m=\u001b[0m \u001b[1;34m'[name=\"%s\"]'\u001b[0m \u001b[1;33m%\u001b[0m \u001b[0mvalue\u001b[0m\u001b[1;33m\u001b[0m\u001b[1;33m\u001b[0m\u001b[0m\n\u001b[0;32m    683\u001b[0m \u001b[1;33m\u001b[0m\u001b[0m\n\u001b[1;32m--> 684\u001b[1;33m         return self._execute(Command.FIND_CHILD_ELEMENTS,\n\u001b[0m\u001b[0;32m    685\u001b[0m                              {\"using\": by, \"value\": value})['value']\n\u001b[0;32m    686\u001b[0m \u001b[1;33m\u001b[0m\u001b[0m\n",
      "\u001b[1;32m~\\anaconda3\\lib\\site-packages\\selenium\\webdriver\\remote\\webelement.py\u001b[0m in \u001b[0;36m_execute\u001b[1;34m(self, command, params)\u001b[0m\n\u001b[0;32m    631\u001b[0m             \u001b[0mparams\u001b[0m \u001b[1;33m=\u001b[0m \u001b[1;33m{\u001b[0m\u001b[1;33m}\u001b[0m\u001b[1;33m\u001b[0m\u001b[1;33m\u001b[0m\u001b[0m\n\u001b[0;32m    632\u001b[0m         \u001b[0mparams\u001b[0m\u001b[1;33m[\u001b[0m\u001b[1;34m'id'\u001b[0m\u001b[1;33m]\u001b[0m \u001b[1;33m=\u001b[0m \u001b[0mself\u001b[0m\u001b[1;33m.\u001b[0m\u001b[0m_id\u001b[0m\u001b[1;33m\u001b[0m\u001b[1;33m\u001b[0m\u001b[0m\n\u001b[1;32m--> 633\u001b[1;33m         \u001b[1;32mreturn\u001b[0m \u001b[0mself\u001b[0m\u001b[1;33m.\u001b[0m\u001b[0m_parent\u001b[0m\u001b[1;33m.\u001b[0m\u001b[0mexecute\u001b[0m\u001b[1;33m(\u001b[0m\u001b[0mcommand\u001b[0m\u001b[1;33m,\u001b[0m \u001b[0mparams\u001b[0m\u001b[1;33m)\u001b[0m\u001b[1;33m\u001b[0m\u001b[1;33m\u001b[0m\u001b[0m\n\u001b[0m\u001b[0;32m    634\u001b[0m \u001b[1;33m\u001b[0m\u001b[0m\n\u001b[0;32m    635\u001b[0m     \u001b[1;32mdef\u001b[0m \u001b[0mfind_element\u001b[0m\u001b[1;33m(\u001b[0m\u001b[0mself\u001b[0m\u001b[1;33m,\u001b[0m \u001b[0mby\u001b[0m\u001b[1;33m=\u001b[0m\u001b[0mBy\u001b[0m\u001b[1;33m.\u001b[0m\u001b[0mID\u001b[0m\u001b[1;33m,\u001b[0m \u001b[0mvalue\u001b[0m\u001b[1;33m=\u001b[0m\u001b[1;32mNone\u001b[0m\u001b[1;33m)\u001b[0m\u001b[1;33m:\u001b[0m\u001b[1;33m\u001b[0m\u001b[1;33m\u001b[0m\u001b[0m\n",
      "\u001b[1;32m~\\anaconda3\\lib\\site-packages\\selenium\\webdriver\\remote\\webdriver.py\u001b[0m in \u001b[0;36mexecute\u001b[1;34m(self, driver_command, params)\u001b[0m\n\u001b[0;32m    317\u001b[0m \u001b[1;33m\u001b[0m\u001b[0m\n\u001b[0;32m    318\u001b[0m         \u001b[0mparams\u001b[0m \u001b[1;33m=\u001b[0m \u001b[0mself\u001b[0m\u001b[1;33m.\u001b[0m\u001b[0m_wrap_value\u001b[0m\u001b[1;33m(\u001b[0m\u001b[0mparams\u001b[0m\u001b[1;33m)\u001b[0m\u001b[1;33m\u001b[0m\u001b[1;33m\u001b[0m\u001b[0m\n\u001b[1;32m--> 319\u001b[1;33m         \u001b[0mresponse\u001b[0m \u001b[1;33m=\u001b[0m \u001b[0mself\u001b[0m\u001b[1;33m.\u001b[0m\u001b[0mcommand_executor\u001b[0m\u001b[1;33m.\u001b[0m\u001b[0mexecute\u001b[0m\u001b[1;33m(\u001b[0m\u001b[0mdriver_command\u001b[0m\u001b[1;33m,\u001b[0m \u001b[0mparams\u001b[0m\u001b[1;33m)\u001b[0m\u001b[1;33m\u001b[0m\u001b[1;33m\u001b[0m\u001b[0m\n\u001b[0m\u001b[0;32m    320\u001b[0m         \u001b[1;32mif\u001b[0m \u001b[0mresponse\u001b[0m\u001b[1;33m:\u001b[0m\u001b[1;33m\u001b[0m\u001b[1;33m\u001b[0m\u001b[0m\n\u001b[0;32m    321\u001b[0m             \u001b[0mself\u001b[0m\u001b[1;33m.\u001b[0m\u001b[0merror_handler\u001b[0m\u001b[1;33m.\u001b[0m\u001b[0mcheck_response\u001b[0m\u001b[1;33m(\u001b[0m\u001b[0mresponse\u001b[0m\u001b[1;33m)\u001b[0m\u001b[1;33m\u001b[0m\u001b[1;33m\u001b[0m\u001b[0m\n",
      "\u001b[1;32m~\\anaconda3\\lib\\site-packages\\selenium\\webdriver\\remote\\remote_connection.py\u001b[0m in \u001b[0;36mexecute\u001b[1;34m(self, command, params)\u001b[0m\n\u001b[0;32m    372\u001b[0m         \u001b[0mdata\u001b[0m \u001b[1;33m=\u001b[0m \u001b[0mutils\u001b[0m\u001b[1;33m.\u001b[0m\u001b[0mdump_json\u001b[0m\u001b[1;33m(\u001b[0m\u001b[0mparams\u001b[0m\u001b[1;33m)\u001b[0m\u001b[1;33m\u001b[0m\u001b[1;33m\u001b[0m\u001b[0m\n\u001b[0;32m    373\u001b[0m         \u001b[0murl\u001b[0m \u001b[1;33m=\u001b[0m \u001b[1;34m'%s%s'\u001b[0m \u001b[1;33m%\u001b[0m \u001b[1;33m(\u001b[0m\u001b[0mself\u001b[0m\u001b[1;33m.\u001b[0m\u001b[0m_url\u001b[0m\u001b[1;33m,\u001b[0m \u001b[0mpath\u001b[0m\u001b[1;33m)\u001b[0m\u001b[1;33m\u001b[0m\u001b[1;33m\u001b[0m\u001b[0m\n\u001b[1;32m--> 374\u001b[1;33m         \u001b[1;32mreturn\u001b[0m \u001b[0mself\u001b[0m\u001b[1;33m.\u001b[0m\u001b[0m_request\u001b[0m\u001b[1;33m(\u001b[0m\u001b[0mcommand_info\u001b[0m\u001b[1;33m[\u001b[0m\u001b[1;36m0\u001b[0m\u001b[1;33m]\u001b[0m\u001b[1;33m,\u001b[0m \u001b[0murl\u001b[0m\u001b[1;33m,\u001b[0m \u001b[0mbody\u001b[0m\u001b[1;33m=\u001b[0m\u001b[0mdata\u001b[0m\u001b[1;33m)\u001b[0m\u001b[1;33m\u001b[0m\u001b[1;33m\u001b[0m\u001b[0m\n\u001b[0m\u001b[0;32m    375\u001b[0m \u001b[1;33m\u001b[0m\u001b[0m\n\u001b[0;32m    376\u001b[0m     \u001b[1;32mdef\u001b[0m \u001b[0m_request\u001b[0m\u001b[1;33m(\u001b[0m\u001b[0mself\u001b[0m\u001b[1;33m,\u001b[0m \u001b[0mmethod\u001b[0m\u001b[1;33m,\u001b[0m \u001b[0murl\u001b[0m\u001b[1;33m,\u001b[0m \u001b[0mbody\u001b[0m\u001b[1;33m=\u001b[0m\u001b[1;32mNone\u001b[0m\u001b[1;33m)\u001b[0m\u001b[1;33m:\u001b[0m\u001b[1;33m\u001b[0m\u001b[1;33m\u001b[0m\u001b[0m\n",
      "\u001b[1;32m~\\anaconda3\\lib\\site-packages\\selenium\\webdriver\\remote\\remote_connection.py\u001b[0m in \u001b[0;36m_request\u001b[1;34m(self, method, url, body)\u001b[0m\n\u001b[0;32m    395\u001b[0m \u001b[1;33m\u001b[0m\u001b[0m\n\u001b[0;32m    396\u001b[0m         \u001b[1;32mif\u001b[0m \u001b[0mself\u001b[0m\u001b[1;33m.\u001b[0m\u001b[0mkeep_alive\u001b[0m\u001b[1;33m:\u001b[0m\u001b[1;33m\u001b[0m\u001b[1;33m\u001b[0m\u001b[0m\n\u001b[1;32m--> 397\u001b[1;33m             \u001b[0mresp\u001b[0m \u001b[1;33m=\u001b[0m \u001b[0mself\u001b[0m\u001b[1;33m.\u001b[0m\u001b[0m_conn\u001b[0m\u001b[1;33m.\u001b[0m\u001b[0mrequest\u001b[0m\u001b[1;33m(\u001b[0m\u001b[0mmethod\u001b[0m\u001b[1;33m,\u001b[0m \u001b[0murl\u001b[0m\u001b[1;33m,\u001b[0m \u001b[0mbody\u001b[0m\u001b[1;33m=\u001b[0m\u001b[0mbody\u001b[0m\u001b[1;33m,\u001b[0m \u001b[0mheaders\u001b[0m\u001b[1;33m=\u001b[0m\u001b[0mheaders\u001b[0m\u001b[1;33m)\u001b[0m\u001b[1;33m\u001b[0m\u001b[1;33m\u001b[0m\u001b[0m\n\u001b[0m\u001b[0;32m    398\u001b[0m \u001b[1;33m\u001b[0m\u001b[0m\n\u001b[0;32m    399\u001b[0m             \u001b[0mstatuscode\u001b[0m \u001b[1;33m=\u001b[0m \u001b[0mresp\u001b[0m\u001b[1;33m.\u001b[0m\u001b[0mstatus\u001b[0m\u001b[1;33m\u001b[0m\u001b[1;33m\u001b[0m\u001b[0m\n",
      "\u001b[1;32m~\\anaconda3\\lib\\site-packages\\urllib3\\request.py\u001b[0m in \u001b[0;36mrequest\u001b[1;34m(self, method, url, fields, headers, **urlopen_kw)\u001b[0m\n\u001b[0;32m     77\u001b[0m             )\n\u001b[0;32m     78\u001b[0m         \u001b[1;32melse\u001b[0m\u001b[1;33m:\u001b[0m\u001b[1;33m\u001b[0m\u001b[1;33m\u001b[0m\u001b[0m\n\u001b[1;32m---> 79\u001b[1;33m             return self.request_encode_body(\n\u001b[0m\u001b[0;32m     80\u001b[0m                 \u001b[0mmethod\u001b[0m\u001b[1;33m,\u001b[0m \u001b[0murl\u001b[0m\u001b[1;33m,\u001b[0m \u001b[0mfields\u001b[0m\u001b[1;33m=\u001b[0m\u001b[0mfields\u001b[0m\u001b[1;33m,\u001b[0m \u001b[0mheaders\u001b[0m\u001b[1;33m=\u001b[0m\u001b[0mheaders\u001b[0m\u001b[1;33m,\u001b[0m \u001b[1;33m**\u001b[0m\u001b[0murlopen_kw\u001b[0m\u001b[1;33m\u001b[0m\u001b[1;33m\u001b[0m\u001b[0m\n\u001b[0;32m     81\u001b[0m             )\n",
      "\u001b[1;32m~\\anaconda3\\lib\\site-packages\\urllib3\\request.py\u001b[0m in \u001b[0;36mrequest_encode_body\u001b[1;34m(self, method, url, fields, headers, encode_multipart, multipart_boundary, **urlopen_kw)\u001b[0m\n\u001b[0;32m    169\u001b[0m         \u001b[0mextra_kw\u001b[0m\u001b[1;33m.\u001b[0m\u001b[0mupdate\u001b[0m\u001b[1;33m(\u001b[0m\u001b[0murlopen_kw\u001b[0m\u001b[1;33m)\u001b[0m\u001b[1;33m\u001b[0m\u001b[1;33m\u001b[0m\u001b[0m\n\u001b[0;32m    170\u001b[0m \u001b[1;33m\u001b[0m\u001b[0m\n\u001b[1;32m--> 171\u001b[1;33m         \u001b[1;32mreturn\u001b[0m \u001b[0mself\u001b[0m\u001b[1;33m.\u001b[0m\u001b[0murlopen\u001b[0m\u001b[1;33m(\u001b[0m\u001b[0mmethod\u001b[0m\u001b[1;33m,\u001b[0m \u001b[0murl\u001b[0m\u001b[1;33m,\u001b[0m \u001b[1;33m**\u001b[0m\u001b[0mextra_kw\u001b[0m\u001b[1;33m)\u001b[0m\u001b[1;33m\u001b[0m\u001b[1;33m\u001b[0m\u001b[0m\n\u001b[0m",
      "\u001b[1;32m~\\anaconda3\\lib\\site-packages\\urllib3\\poolmanager.py\u001b[0m in \u001b[0;36murlopen\u001b[1;34m(self, method, url, redirect, **kw)\u001b[0m\n\u001b[0;32m    334\u001b[0m             \u001b[0mresponse\u001b[0m \u001b[1;33m=\u001b[0m \u001b[0mconn\u001b[0m\u001b[1;33m.\u001b[0m\u001b[0murlopen\u001b[0m\u001b[1;33m(\u001b[0m\u001b[0mmethod\u001b[0m\u001b[1;33m,\u001b[0m \u001b[0murl\u001b[0m\u001b[1;33m,\u001b[0m \u001b[1;33m**\u001b[0m\u001b[0mkw\u001b[0m\u001b[1;33m)\u001b[0m\u001b[1;33m\u001b[0m\u001b[1;33m\u001b[0m\u001b[0m\n\u001b[0;32m    335\u001b[0m         \u001b[1;32melse\u001b[0m\u001b[1;33m:\u001b[0m\u001b[1;33m\u001b[0m\u001b[1;33m\u001b[0m\u001b[0m\n\u001b[1;32m--> 336\u001b[1;33m             \u001b[0mresponse\u001b[0m \u001b[1;33m=\u001b[0m \u001b[0mconn\u001b[0m\u001b[1;33m.\u001b[0m\u001b[0murlopen\u001b[0m\u001b[1;33m(\u001b[0m\u001b[0mmethod\u001b[0m\u001b[1;33m,\u001b[0m \u001b[0mu\u001b[0m\u001b[1;33m.\u001b[0m\u001b[0mrequest_uri\u001b[0m\u001b[1;33m,\u001b[0m \u001b[1;33m**\u001b[0m\u001b[0mkw\u001b[0m\u001b[1;33m)\u001b[0m\u001b[1;33m\u001b[0m\u001b[1;33m\u001b[0m\u001b[0m\n\u001b[0m\u001b[0;32m    337\u001b[0m \u001b[1;33m\u001b[0m\u001b[0m\n\u001b[0;32m    338\u001b[0m         \u001b[0mredirect_location\u001b[0m \u001b[1;33m=\u001b[0m \u001b[0mredirect\u001b[0m \u001b[1;32mand\u001b[0m \u001b[0mresponse\u001b[0m\u001b[1;33m.\u001b[0m\u001b[0mget_redirect_location\u001b[0m\u001b[1;33m(\u001b[0m\u001b[1;33m)\u001b[0m\u001b[1;33m\u001b[0m\u001b[1;33m\u001b[0m\u001b[0m\n",
      "\u001b[1;32m~\\anaconda3\\lib\\site-packages\\urllib3\\connectionpool.py\u001b[0m in \u001b[0;36murlopen\u001b[1;34m(self, method, url, body, headers, retries, redirect, assert_same_host, timeout, pool_timeout, release_conn, chunked, body_pos, **response_kw)\u001b[0m\n\u001b[0;32m    668\u001b[0m \u001b[1;33m\u001b[0m\u001b[0m\n\u001b[0;32m    669\u001b[0m             \u001b[1;31m# Make the request on the httplib connection object.\u001b[0m\u001b[1;33m\u001b[0m\u001b[1;33m\u001b[0m\u001b[1;33m\u001b[0m\u001b[0m\n\u001b[1;32m--> 670\u001b[1;33m             httplib_response = self._make_request(\n\u001b[0m\u001b[0;32m    671\u001b[0m                 \u001b[0mconn\u001b[0m\u001b[1;33m,\u001b[0m\u001b[1;33m\u001b[0m\u001b[1;33m\u001b[0m\u001b[0m\n\u001b[0;32m    672\u001b[0m                 \u001b[0mmethod\u001b[0m\u001b[1;33m,\u001b[0m\u001b[1;33m\u001b[0m\u001b[1;33m\u001b[0m\u001b[0m\n",
      "\u001b[1;32m~\\anaconda3\\lib\\site-packages\\urllib3\\connectionpool.py\u001b[0m in \u001b[0;36m_make_request\u001b[1;34m(self, conn, method, url, timeout, chunked, **httplib_request_kw)\u001b[0m\n\u001b[0;32m    424\u001b[0m                     \u001b[1;31m# Python 3 (including for exceptions like SystemExit).\u001b[0m\u001b[1;33m\u001b[0m\u001b[1;33m\u001b[0m\u001b[1;33m\u001b[0m\u001b[0m\n\u001b[0;32m    425\u001b[0m                     \u001b[1;31m# Otherwise it looks like a bug in the code.\u001b[0m\u001b[1;33m\u001b[0m\u001b[1;33m\u001b[0m\u001b[1;33m\u001b[0m\u001b[0m\n\u001b[1;32m--> 426\u001b[1;33m                     \u001b[0msix\u001b[0m\u001b[1;33m.\u001b[0m\u001b[0mraise_from\u001b[0m\u001b[1;33m(\u001b[0m\u001b[0me\u001b[0m\u001b[1;33m,\u001b[0m \u001b[1;32mNone\u001b[0m\u001b[1;33m)\u001b[0m\u001b[1;33m\u001b[0m\u001b[1;33m\u001b[0m\u001b[0m\n\u001b[0m\u001b[0;32m    427\u001b[0m         \u001b[1;32mexcept\u001b[0m \u001b[1;33m(\u001b[0m\u001b[0mSocketTimeout\u001b[0m\u001b[1;33m,\u001b[0m \u001b[0mBaseSSLError\u001b[0m\u001b[1;33m,\u001b[0m \u001b[0mSocketError\u001b[0m\u001b[1;33m)\u001b[0m \u001b[1;32mas\u001b[0m \u001b[0me\u001b[0m\u001b[1;33m:\u001b[0m\u001b[1;33m\u001b[0m\u001b[1;33m\u001b[0m\u001b[0m\n\u001b[0;32m    428\u001b[0m             \u001b[0mself\u001b[0m\u001b[1;33m.\u001b[0m\u001b[0m_raise_timeout\u001b[0m\u001b[1;33m(\u001b[0m\u001b[0merr\u001b[0m\u001b[1;33m=\u001b[0m\u001b[0me\u001b[0m\u001b[1;33m,\u001b[0m \u001b[0murl\u001b[0m\u001b[1;33m=\u001b[0m\u001b[0murl\u001b[0m\u001b[1;33m,\u001b[0m \u001b[0mtimeout_value\u001b[0m\u001b[1;33m=\u001b[0m\u001b[0mread_timeout\u001b[0m\u001b[1;33m)\u001b[0m\u001b[1;33m\u001b[0m\u001b[1;33m\u001b[0m\u001b[0m\n",
      "\u001b[1;32m~\\anaconda3\\lib\\site-packages\\urllib3\\packages\\six.py\u001b[0m in \u001b[0;36mraise_from\u001b[1;34m(value, from_value)\u001b[0m\n",
      "\u001b[1;32m~\\anaconda3\\lib\\site-packages\\urllib3\\connectionpool.py\u001b[0m in \u001b[0;36m_make_request\u001b[1;34m(self, conn, method, url, timeout, chunked, **httplib_request_kw)\u001b[0m\n\u001b[0;32m    419\u001b[0m                 \u001b[1;31m# Python 3\u001b[0m\u001b[1;33m\u001b[0m\u001b[1;33m\u001b[0m\u001b[1;33m\u001b[0m\u001b[0m\n\u001b[0;32m    420\u001b[0m                 \u001b[1;32mtry\u001b[0m\u001b[1;33m:\u001b[0m\u001b[1;33m\u001b[0m\u001b[1;33m\u001b[0m\u001b[0m\n\u001b[1;32m--> 421\u001b[1;33m                     \u001b[0mhttplib_response\u001b[0m \u001b[1;33m=\u001b[0m \u001b[0mconn\u001b[0m\u001b[1;33m.\u001b[0m\u001b[0mgetresponse\u001b[0m\u001b[1;33m(\u001b[0m\u001b[1;33m)\u001b[0m\u001b[1;33m\u001b[0m\u001b[1;33m\u001b[0m\u001b[0m\n\u001b[0m\u001b[0;32m    422\u001b[0m                 \u001b[1;32mexcept\u001b[0m \u001b[0mBaseException\u001b[0m \u001b[1;32mas\u001b[0m \u001b[0me\u001b[0m\u001b[1;33m:\u001b[0m\u001b[1;33m\u001b[0m\u001b[1;33m\u001b[0m\u001b[0m\n\u001b[0;32m    423\u001b[0m                     \u001b[1;31m# Remove the TypeError from the exception chain in\u001b[0m\u001b[1;33m\u001b[0m\u001b[1;33m\u001b[0m\u001b[1;33m\u001b[0m\u001b[0m\n",
      "\u001b[1;32m~\\anaconda3\\lib\\http\\client.py\u001b[0m in \u001b[0;36mgetresponse\u001b[1;34m(self)\u001b[0m\n\u001b[0;32m   1345\u001b[0m         \u001b[1;32mtry\u001b[0m\u001b[1;33m:\u001b[0m\u001b[1;33m\u001b[0m\u001b[1;33m\u001b[0m\u001b[0m\n\u001b[0;32m   1346\u001b[0m             \u001b[1;32mtry\u001b[0m\u001b[1;33m:\u001b[0m\u001b[1;33m\u001b[0m\u001b[1;33m\u001b[0m\u001b[0m\n\u001b[1;32m-> 1347\u001b[1;33m                 \u001b[0mresponse\u001b[0m\u001b[1;33m.\u001b[0m\u001b[0mbegin\u001b[0m\u001b[1;33m(\u001b[0m\u001b[1;33m)\u001b[0m\u001b[1;33m\u001b[0m\u001b[1;33m\u001b[0m\u001b[0m\n\u001b[0m\u001b[0;32m   1348\u001b[0m             \u001b[1;32mexcept\u001b[0m \u001b[0mConnectionError\u001b[0m\u001b[1;33m:\u001b[0m\u001b[1;33m\u001b[0m\u001b[1;33m\u001b[0m\u001b[0m\n\u001b[0;32m   1349\u001b[0m                 \u001b[0mself\u001b[0m\u001b[1;33m.\u001b[0m\u001b[0mclose\u001b[0m\u001b[1;33m(\u001b[0m\u001b[1;33m)\u001b[0m\u001b[1;33m\u001b[0m\u001b[1;33m\u001b[0m\u001b[0m\n",
      "\u001b[1;32m~\\anaconda3\\lib\\http\\client.py\u001b[0m in \u001b[0;36mbegin\u001b[1;34m(self)\u001b[0m\n\u001b[0;32m    305\u001b[0m         \u001b[1;31m# read until we get a non-100 response\u001b[0m\u001b[1;33m\u001b[0m\u001b[1;33m\u001b[0m\u001b[1;33m\u001b[0m\u001b[0m\n\u001b[0;32m    306\u001b[0m         \u001b[1;32mwhile\u001b[0m \u001b[1;32mTrue\u001b[0m\u001b[1;33m:\u001b[0m\u001b[1;33m\u001b[0m\u001b[1;33m\u001b[0m\u001b[0m\n\u001b[1;32m--> 307\u001b[1;33m             \u001b[0mversion\u001b[0m\u001b[1;33m,\u001b[0m \u001b[0mstatus\u001b[0m\u001b[1;33m,\u001b[0m \u001b[0mreason\u001b[0m \u001b[1;33m=\u001b[0m \u001b[0mself\u001b[0m\u001b[1;33m.\u001b[0m\u001b[0m_read_status\u001b[0m\u001b[1;33m(\u001b[0m\u001b[1;33m)\u001b[0m\u001b[1;33m\u001b[0m\u001b[1;33m\u001b[0m\u001b[0m\n\u001b[0m\u001b[0;32m    308\u001b[0m             \u001b[1;32mif\u001b[0m \u001b[0mstatus\u001b[0m \u001b[1;33m!=\u001b[0m \u001b[0mCONTINUE\u001b[0m\u001b[1;33m:\u001b[0m\u001b[1;33m\u001b[0m\u001b[1;33m\u001b[0m\u001b[0m\n\u001b[0;32m    309\u001b[0m                 \u001b[1;32mbreak\u001b[0m\u001b[1;33m\u001b[0m\u001b[1;33m\u001b[0m\u001b[0m\n",
      "\u001b[1;32m~\\anaconda3\\lib\\http\\client.py\u001b[0m in \u001b[0;36m_read_status\u001b[1;34m(self)\u001b[0m\n\u001b[0;32m    266\u001b[0m \u001b[1;33m\u001b[0m\u001b[0m\n\u001b[0;32m    267\u001b[0m     \u001b[1;32mdef\u001b[0m \u001b[0m_read_status\u001b[0m\u001b[1;33m(\u001b[0m\u001b[0mself\u001b[0m\u001b[1;33m)\u001b[0m\u001b[1;33m:\u001b[0m\u001b[1;33m\u001b[0m\u001b[1;33m\u001b[0m\u001b[0m\n\u001b[1;32m--> 268\u001b[1;33m         \u001b[0mline\u001b[0m \u001b[1;33m=\u001b[0m \u001b[0mstr\u001b[0m\u001b[1;33m(\u001b[0m\u001b[0mself\u001b[0m\u001b[1;33m.\u001b[0m\u001b[0mfp\u001b[0m\u001b[1;33m.\u001b[0m\u001b[0mreadline\u001b[0m\u001b[1;33m(\u001b[0m\u001b[0m_MAXLINE\u001b[0m \u001b[1;33m+\u001b[0m \u001b[1;36m1\u001b[0m\u001b[1;33m)\u001b[0m\u001b[1;33m,\u001b[0m \u001b[1;34m\"iso-8859-1\"\u001b[0m\u001b[1;33m)\u001b[0m\u001b[1;33m\u001b[0m\u001b[1;33m\u001b[0m\u001b[0m\n\u001b[0m\u001b[0;32m    269\u001b[0m         \u001b[1;32mif\u001b[0m \u001b[0mlen\u001b[0m\u001b[1;33m(\u001b[0m\u001b[0mline\u001b[0m\u001b[1;33m)\u001b[0m \u001b[1;33m>\u001b[0m \u001b[0m_MAXLINE\u001b[0m\u001b[1;33m:\u001b[0m\u001b[1;33m\u001b[0m\u001b[1;33m\u001b[0m\u001b[0m\n\u001b[0;32m    270\u001b[0m             \u001b[1;32mraise\u001b[0m \u001b[0mLineTooLong\u001b[0m\u001b[1;33m(\u001b[0m\u001b[1;34m\"status line\"\u001b[0m\u001b[1;33m)\u001b[0m\u001b[1;33m\u001b[0m\u001b[1;33m\u001b[0m\u001b[0m\n",
      "\u001b[1;32m~\\anaconda3\\lib\\socket.py\u001b[0m in \u001b[0;36mreadinto\u001b[1;34m(self, b)\u001b[0m\n\u001b[0;32m    667\u001b[0m         \u001b[1;32mwhile\u001b[0m \u001b[1;32mTrue\u001b[0m\u001b[1;33m:\u001b[0m\u001b[1;33m\u001b[0m\u001b[1;33m\u001b[0m\u001b[0m\n\u001b[0;32m    668\u001b[0m             \u001b[1;32mtry\u001b[0m\u001b[1;33m:\u001b[0m\u001b[1;33m\u001b[0m\u001b[1;33m\u001b[0m\u001b[0m\n\u001b[1;32m--> 669\u001b[1;33m                 \u001b[1;32mreturn\u001b[0m \u001b[0mself\u001b[0m\u001b[1;33m.\u001b[0m\u001b[0m_sock\u001b[0m\u001b[1;33m.\u001b[0m\u001b[0mrecv_into\u001b[0m\u001b[1;33m(\u001b[0m\u001b[0mb\u001b[0m\u001b[1;33m)\u001b[0m\u001b[1;33m\u001b[0m\u001b[1;33m\u001b[0m\u001b[0m\n\u001b[0m\u001b[0;32m    670\u001b[0m             \u001b[1;32mexcept\u001b[0m \u001b[0mtimeout\u001b[0m\u001b[1;33m:\u001b[0m\u001b[1;33m\u001b[0m\u001b[1;33m\u001b[0m\u001b[0m\n\u001b[0;32m    671\u001b[0m                 \u001b[0mself\u001b[0m\u001b[1;33m.\u001b[0m\u001b[0m_timeout_occurred\u001b[0m \u001b[1;33m=\u001b[0m \u001b[1;32mTrue\u001b[0m\u001b[1;33m\u001b[0m\u001b[1;33m\u001b[0m\u001b[0m\n",
      "\u001b[1;31mKeyboardInterrupt\u001b[0m: "
     ]
    }
   ],
   "source": [
    "nota_max= 0\n",
    "nota_min = 0\n",
    "for i, linha in enumerate(tabela_.find_elements_by_css_selector(' tbody td')):\n",
    "    print(linha.text)\n",
    "            "
   ]
  },
  {
   "cell_type": "code",
   "execution_count": 203,
   "metadata": {
    "ExecuteTime": {
     "end_time": "2021-02-13T03:10:44.599997Z",
     "start_time": "2021-02-13T03:10:44.084975Z"
    }
   },
   "outputs": [],
   "source": [
    "resultado80 = tabela_.find_elements_by_css_selector('tbody tr:nth-child(-n + 100)')"
   ]
  },
  {
   "cell_type": "code",
   "execution_count": 204,
   "metadata": {
    "ExecuteTime": {
     "end_time": "2021-02-13T03:10:47.146187Z",
     "start_time": "2021-02-13T03:10:47.139179Z"
    }
   },
   "outputs": [
    {
     "data": {
      "text/plain": [
       "100"
      ]
     },
     "execution_count": 204,
     "metadata": {},
     "output_type": "execute_result"
    }
   ],
   "source": [
    "len(resultado80)"
   ]
  },
  {
   "cell_type": "code",
   "execution_count": 227,
   "metadata": {
    "ExecuteTime": {
     "end_time": "2021-02-13T03:29:19.150505Z",
     "start_time": "2021-02-13T03:29:11.452855Z"
    }
   },
   "outputs": [],
   "source": [
    "nota_max= ajustarNota(resultado80[0])\n",
    "nota_min = 0\n",
    "\n",
    "for i, linha in enumerate(resultado80):\n",
    "    if ('CONVOCADO' in linha.text.upper()):\n",
    "        nota_min = ajustarNota(resultado80[i])\n",
    "    else:\n",
    "        break\n",
    "   \n",
    "        \n",
    "    \n",
    "    "
   ]
  },
  {
   "cell_type": "code",
   "execution_count": 226,
   "metadata": {
    "ExecuteTime": {
     "end_time": "2021-02-13T03:28:58.728033Z",
     "start_time": "2021-02-13T03:28:58.715045Z"
    }
   },
   "outputs": [],
   "source": []
  },
  {
   "cell_type": "code",
   "execution_count": 229,
   "metadata": {
    "ExecuteTime": {
     "end_time": "2021-02-13T03:29:34.231645Z",
     "start_time": "2021-02-13T03:29:34.216644Z"
    }
   },
   "outputs": [
    {
     "data": {
      "text/plain": [
       "'50,00'"
      ]
     },
     "execution_count": 229,
     "metadata": {},
     "output_type": "execute_result"
    }
   ],
   "source": [
    "nota_min"
   ]
  },
  {
   "cell_type": "raw",
   "metadata": {},
   "source": [
    "https://selenium-python.readthedocs.io/locating-elements.html"
   ]
  },
  {
   "cell_type": "raw",
   "metadata": {},
   "source": [
    "https://selenium-python.readthedocs.io/navigating.html\n",
    "# Assume the button has the ID \"submit\" :)\n",
    "driver.find_element_by_id(\"submit\").click()\n",
    "\n",
    "element.submit()\n",
    "\n",
    "\n",
    "\n",
    "\n",
    "select = Select(driver.find_element_by_xpath(\"//select[@name='name']\"))\n",
    "all_selected_options = select.all_selected_options\n",
    "\n",
    "options = select.options\n"
   ]
  },
  {
   "cell_type": "code",
   "execution_count": 169,
   "metadata": {
    "ExecuteTime": {
     "end_time": "2021-02-13T02:45:24.208406Z",
     "start_time": "2021-02-13T02:45:23.732409Z"
    }
   },
   "outputs": [],
   "source": [
    "celulas = tabela_.find_elements_by_css_selector('tbody tr:nth-child(-n + 80)')"
   ]
  },
  {
   "cell_type": "code",
   "execution_count": 171,
   "metadata": {
    "ExecuteTime": {
     "end_time": "2021-02-13T02:46:04.321666Z",
     "start_time": "2021-02-13T02:46:04.298672Z"
    }
   },
   "outputs": [
    {
     "data": {
      "text/plain": [
       "[<selenium.webdriver.remote.webelement.WebElement (session=\"aed927bd15d1ee1f7c912e1380263f93\", element=\"93aab7f9-f5e8-4bee-984f-51a046e2cc95\")>,\n",
       " <selenium.webdriver.remote.webelement.WebElement (session=\"aed927bd15d1ee1f7c912e1380263f93\", element=\"5bc91480-f855-45ae-a2d6-ac7f49d22540\")>,\n",
       " <selenium.webdriver.remote.webelement.WebElement (session=\"aed927bd15d1ee1f7c912e1380263f93\", element=\"dd49c98e-6d46-4456-901f-4c2c631ec080\")>,\n",
       " <selenium.webdriver.remote.webelement.WebElement (session=\"aed927bd15d1ee1f7c912e1380263f93\", element=\"873b661f-08a3-43b6-a885-d921ea11ab62\")>,\n",
       " <selenium.webdriver.remote.webelement.WebElement (session=\"aed927bd15d1ee1f7c912e1380263f93\", element=\"c1295a19-bfc5-46ca-a1db-23139b2f1af0\")>,\n",
       " <selenium.webdriver.remote.webelement.WebElement (session=\"aed927bd15d1ee1f7c912e1380263f93\", element=\"1df56de8-49cb-4c09-986f-24372bfcc463\")>,\n",
       " <selenium.webdriver.remote.webelement.WebElement (session=\"aed927bd15d1ee1f7c912e1380263f93\", element=\"51036f1d-d43f-4e97-a6fa-200f135e797e\")>,\n",
       " <selenium.webdriver.remote.webelement.WebElement (session=\"aed927bd15d1ee1f7c912e1380263f93\", element=\"6e2d74b0-0381-480a-9e7a-ee36cc8b3ef6\")>,\n",
       " <selenium.webdriver.remote.webelement.WebElement (session=\"aed927bd15d1ee1f7c912e1380263f93\", element=\"13dd9ff0-9eaf-41bf-b8fb-2db7f399f6c5\")>,\n",
       " <selenium.webdriver.remote.webelement.WebElement (session=\"aed927bd15d1ee1f7c912e1380263f93\", element=\"50270bc1-d77b-44d0-9b11-2087cbe3b5ef\")>,\n",
       " <selenium.webdriver.remote.webelement.WebElement (session=\"aed927bd15d1ee1f7c912e1380263f93\", element=\"f62a6ea1-9c98-4f5f-9238-817cbe39a53e\")>,\n",
       " <selenium.webdriver.remote.webelement.WebElement (session=\"aed927bd15d1ee1f7c912e1380263f93\", element=\"d2eb27de-f6ad-452d-8a55-167a7402970c\")>,\n",
       " <selenium.webdriver.remote.webelement.WebElement (session=\"aed927bd15d1ee1f7c912e1380263f93\", element=\"a74f7fdf-b0e8-49ed-95aa-19e45b7b4afc\")>,\n",
       " <selenium.webdriver.remote.webelement.WebElement (session=\"aed927bd15d1ee1f7c912e1380263f93\", element=\"97b41aec-c29f-47a4-b80f-62da8448b554\")>,\n",
       " <selenium.webdriver.remote.webelement.WebElement (session=\"aed927bd15d1ee1f7c912e1380263f93\", element=\"21774738-b7ba-4268-9df9-a5cd471251c7\")>,\n",
       " <selenium.webdriver.remote.webelement.WebElement (session=\"aed927bd15d1ee1f7c912e1380263f93\", element=\"0ff54e95-ba6d-4269-99f6-02a776c53ec8\")>,\n",
       " <selenium.webdriver.remote.webelement.WebElement (session=\"aed927bd15d1ee1f7c912e1380263f93\", element=\"fd3ca2b7-bf19-47ec-81b8-1ba14f798f55\")>,\n",
       " <selenium.webdriver.remote.webelement.WebElement (session=\"aed927bd15d1ee1f7c912e1380263f93\", element=\"e6a6516a-9e8f-4900-98c3-88c398923b21\")>,\n",
       " <selenium.webdriver.remote.webelement.WebElement (session=\"aed927bd15d1ee1f7c912e1380263f93\", element=\"d817bf9f-ec79-47f2-b426-c74debf601d3\")>,\n",
       " <selenium.webdriver.remote.webelement.WebElement (session=\"aed927bd15d1ee1f7c912e1380263f93\", element=\"6304f5df-47a7-443b-96ef-ba28cd3333ce\")>,\n",
       " <selenium.webdriver.remote.webelement.WebElement (session=\"aed927bd15d1ee1f7c912e1380263f93\", element=\"82b380bd-03c0-4eb6-b064-ae05e0a7e99e\")>,\n",
       " <selenium.webdriver.remote.webelement.WebElement (session=\"aed927bd15d1ee1f7c912e1380263f93\", element=\"deaf2f36-c25b-4f5f-aefd-ee6abb167c35\")>,\n",
       " <selenium.webdriver.remote.webelement.WebElement (session=\"aed927bd15d1ee1f7c912e1380263f93\", element=\"cff264f2-a25a-4422-b171-d2ce94187f6a\")>,\n",
       " <selenium.webdriver.remote.webelement.WebElement (session=\"aed927bd15d1ee1f7c912e1380263f93\", element=\"e13e7214-0d33-41a5-bc37-decfaf91688f\")>,\n",
       " <selenium.webdriver.remote.webelement.WebElement (session=\"aed927bd15d1ee1f7c912e1380263f93\", element=\"e20f4ad3-3e96-4290-aced-b08133066f01\")>,\n",
       " <selenium.webdriver.remote.webelement.WebElement (session=\"aed927bd15d1ee1f7c912e1380263f93\", element=\"097fd4ce-97f3-4074-9b68-63373e2b3bda\")>,\n",
       " <selenium.webdriver.remote.webelement.WebElement (session=\"aed927bd15d1ee1f7c912e1380263f93\", element=\"45d059df-0690-4422-863d-1b6b49d33695\")>,\n",
       " <selenium.webdriver.remote.webelement.WebElement (session=\"aed927bd15d1ee1f7c912e1380263f93\", element=\"2dcb6ec2-8f95-43a1-9838-6dd46a476e64\")>,\n",
       " <selenium.webdriver.remote.webelement.WebElement (session=\"aed927bd15d1ee1f7c912e1380263f93\", element=\"70a50fb9-2cf1-4069-bc4e-8ad4258109ba\")>,\n",
       " <selenium.webdriver.remote.webelement.WebElement (session=\"aed927bd15d1ee1f7c912e1380263f93\", element=\"3ea7c791-5514-4901-99e3-dd054e459061\")>,\n",
       " <selenium.webdriver.remote.webelement.WebElement (session=\"aed927bd15d1ee1f7c912e1380263f93\", element=\"efa69eda-0edc-481a-b58c-629f45545299\")>,\n",
       " <selenium.webdriver.remote.webelement.WebElement (session=\"aed927bd15d1ee1f7c912e1380263f93\", element=\"061dfcd4-ba97-4b9c-8924-d56aa17e0526\")>,\n",
       " <selenium.webdriver.remote.webelement.WebElement (session=\"aed927bd15d1ee1f7c912e1380263f93\", element=\"2e07a6c6-a2fa-450c-9b37-fb948b2903b4\")>,\n",
       " <selenium.webdriver.remote.webelement.WebElement (session=\"aed927bd15d1ee1f7c912e1380263f93\", element=\"688a3501-6c64-46d5-8be3-14bc9d2d2ba8\")>,\n",
       " <selenium.webdriver.remote.webelement.WebElement (session=\"aed927bd15d1ee1f7c912e1380263f93\", element=\"138bad2d-3bbd-4c65-a9c3-4edf16359453\")>,\n",
       " <selenium.webdriver.remote.webelement.WebElement (session=\"aed927bd15d1ee1f7c912e1380263f93\", element=\"9cbf327b-e34e-44a5-b07e-7ac8591ac49d\")>,\n",
       " <selenium.webdriver.remote.webelement.WebElement (session=\"aed927bd15d1ee1f7c912e1380263f93\", element=\"abeba23d-b33f-42d8-85f2-345168c6a441\")>,\n",
       " <selenium.webdriver.remote.webelement.WebElement (session=\"aed927bd15d1ee1f7c912e1380263f93\", element=\"0fdcdcc7-6d97-4211-a3e4-2bbdfe769974\")>,\n",
       " <selenium.webdriver.remote.webelement.WebElement (session=\"aed927bd15d1ee1f7c912e1380263f93\", element=\"d51c0da7-be4c-439c-996d-83d0162d141a\")>,\n",
       " <selenium.webdriver.remote.webelement.WebElement (session=\"aed927bd15d1ee1f7c912e1380263f93\", element=\"fe7dbb79-993e-42c4-bed3-11b392334fba\")>,\n",
       " <selenium.webdriver.remote.webelement.WebElement (session=\"aed927bd15d1ee1f7c912e1380263f93\", element=\"f331950b-529e-4a83-87dd-c781018c311c\")>,\n",
       " <selenium.webdriver.remote.webelement.WebElement (session=\"aed927bd15d1ee1f7c912e1380263f93\", element=\"71a45fe8-2fb4-4acc-a315-3a7ce47afd9d\")>,\n",
       " <selenium.webdriver.remote.webelement.WebElement (session=\"aed927bd15d1ee1f7c912e1380263f93\", element=\"90ce2da3-a4ad-42fa-8217-8df85686cda6\")>,\n",
       " <selenium.webdriver.remote.webelement.WebElement (session=\"aed927bd15d1ee1f7c912e1380263f93\", element=\"17fc65df-3d45-47c2-aad1-0868d45deeed\")>,\n",
       " <selenium.webdriver.remote.webelement.WebElement (session=\"aed927bd15d1ee1f7c912e1380263f93\", element=\"4525bf70-5ab3-4761-b567-d411a9a0e7af\")>,\n",
       " <selenium.webdriver.remote.webelement.WebElement (session=\"aed927bd15d1ee1f7c912e1380263f93\", element=\"3cc76bb1-ba72-4330-bac2-c28052d0ba83\")>,\n",
       " <selenium.webdriver.remote.webelement.WebElement (session=\"aed927bd15d1ee1f7c912e1380263f93\", element=\"eb00d727-d79a-40de-af39-7b012acb35f9\")>,\n",
       " <selenium.webdriver.remote.webelement.WebElement (session=\"aed927bd15d1ee1f7c912e1380263f93\", element=\"8a8544e7-46f7-4996-96b7-3a4918fb8b1a\")>,\n",
       " <selenium.webdriver.remote.webelement.WebElement (session=\"aed927bd15d1ee1f7c912e1380263f93\", element=\"4429eefd-2e8f-4e70-9804-66116f8edf29\")>,\n",
       " <selenium.webdriver.remote.webelement.WebElement (session=\"aed927bd15d1ee1f7c912e1380263f93\", element=\"829c81e9-74d0-4356-a9be-ac57e882f69d\")>,\n",
       " <selenium.webdriver.remote.webelement.WebElement (session=\"aed927bd15d1ee1f7c912e1380263f93\", element=\"370356c7-9e74-4aea-b63d-bfbf44b481f5\")>,\n",
       " <selenium.webdriver.remote.webelement.WebElement (session=\"aed927bd15d1ee1f7c912e1380263f93\", element=\"39dd484e-f077-4667-97c1-ebdb6ec5a250\")>,\n",
       " <selenium.webdriver.remote.webelement.WebElement (session=\"aed927bd15d1ee1f7c912e1380263f93\", element=\"20e47f5a-181a-41f7-873a-b9930eb6f45c\")>,\n",
       " <selenium.webdriver.remote.webelement.WebElement (session=\"aed927bd15d1ee1f7c912e1380263f93\", element=\"e0fd0d0e-bff3-49b5-b50d-fc2c69991430\")>,\n",
       " <selenium.webdriver.remote.webelement.WebElement (session=\"aed927bd15d1ee1f7c912e1380263f93\", element=\"258fe0e2-3ee3-4b93-8d07-330b254f1f52\")>,\n",
       " <selenium.webdriver.remote.webelement.WebElement (session=\"aed927bd15d1ee1f7c912e1380263f93\", element=\"e8c7fb1a-179a-4572-94c4-81b354bc17fd\")>,\n",
       " <selenium.webdriver.remote.webelement.WebElement (session=\"aed927bd15d1ee1f7c912e1380263f93\", element=\"e8f1a8e3-6394-4f2a-8712-5387a9985395\")>,\n",
       " <selenium.webdriver.remote.webelement.WebElement (session=\"aed927bd15d1ee1f7c912e1380263f93\", element=\"73918290-fc42-4169-8941-84a241a5ed9d\")>,\n",
       " <selenium.webdriver.remote.webelement.WebElement (session=\"aed927bd15d1ee1f7c912e1380263f93\", element=\"d4ff1ac1-97c6-44b8-b68a-de6ab988972b\")>,\n",
       " <selenium.webdriver.remote.webelement.WebElement (session=\"aed927bd15d1ee1f7c912e1380263f93\", element=\"4e6f6da7-2a19-483a-80d4-27414563c5ab\")>,\n",
       " <selenium.webdriver.remote.webelement.WebElement (session=\"aed927bd15d1ee1f7c912e1380263f93\", element=\"86bd4e39-f789-4625-843c-ef38705271f5\")>,\n",
       " <selenium.webdriver.remote.webelement.WebElement (session=\"aed927bd15d1ee1f7c912e1380263f93\", element=\"9620b242-9f59-4920-96b6-9c0643be45f7\")>,\n",
       " <selenium.webdriver.remote.webelement.WebElement (session=\"aed927bd15d1ee1f7c912e1380263f93\", element=\"24556880-4bba-4028-bebe-77682e623719\")>,\n",
       " <selenium.webdriver.remote.webelement.WebElement (session=\"aed927bd15d1ee1f7c912e1380263f93\", element=\"49f93461-c4fa-4ad3-ad2a-1aa79e3ff35b\")>,\n",
       " <selenium.webdriver.remote.webelement.WebElement (session=\"aed927bd15d1ee1f7c912e1380263f93\", element=\"30fe9c48-5c98-417c-bb1c-1d070786da1f\")>,\n",
       " <selenium.webdriver.remote.webelement.WebElement (session=\"aed927bd15d1ee1f7c912e1380263f93\", element=\"b7b29af0-de0e-48db-a325-249f8ba32057\")>,\n",
       " <selenium.webdriver.remote.webelement.WebElement (session=\"aed927bd15d1ee1f7c912e1380263f93\", element=\"79b19bd9-6470-4e81-a679-86b451da46d7\")>,\n",
       " <selenium.webdriver.remote.webelement.WebElement (session=\"aed927bd15d1ee1f7c912e1380263f93\", element=\"d22b3fa5-6176-4671-8073-46d863266240\")>,\n",
       " <selenium.webdriver.remote.webelement.WebElement (session=\"aed927bd15d1ee1f7c912e1380263f93\", element=\"3abf652f-97ed-4420-b6db-47fff4507606\")>,\n",
       " <selenium.webdriver.remote.webelement.WebElement (session=\"aed927bd15d1ee1f7c912e1380263f93\", element=\"599d2285-8d4e-4309-97b4-691110365ffc\")>,\n",
       " <selenium.webdriver.remote.webelement.WebElement (session=\"aed927bd15d1ee1f7c912e1380263f93\", element=\"fd5fc3fc-75e4-4894-b684-93f08bc542a1\")>,\n",
       " <selenium.webdriver.remote.webelement.WebElement (session=\"aed927bd15d1ee1f7c912e1380263f93\", element=\"342746cb-191b-44e1-ae01-ac9d55c94bc7\")>,\n",
       " <selenium.webdriver.remote.webelement.WebElement (session=\"aed927bd15d1ee1f7c912e1380263f93\", element=\"cd292a5f-43d8-4c36-a960-978501554a45\")>,\n",
       " <selenium.webdriver.remote.webelement.WebElement (session=\"aed927bd15d1ee1f7c912e1380263f93\", element=\"cbad7cf6-ab7b-48d8-9f70-1a269c6b83b4\")>,\n",
       " <selenium.webdriver.remote.webelement.WebElement (session=\"aed927bd15d1ee1f7c912e1380263f93\", element=\"68cf6cdc-445c-4fa6-a0b0-ca7bc60aef14\")>,\n",
       " <selenium.webdriver.remote.webelement.WebElement (session=\"aed927bd15d1ee1f7c912e1380263f93\", element=\"50ebc22f-0c48-4a8c-9a2b-c821cfa48afb\")>,\n",
       " <selenium.webdriver.remote.webelement.WebElement (session=\"aed927bd15d1ee1f7c912e1380263f93\", element=\"89df81b7-8ff6-4590-9629-5bb053bd2f82\")>,\n",
       " <selenium.webdriver.remote.webelement.WebElement (session=\"aed927bd15d1ee1f7c912e1380263f93\", element=\"113f4944-1cf9-4523-b9ef-4232ca46eb04\")>,\n",
       " <selenium.webdriver.remote.webelement.WebElement (session=\"aed927bd15d1ee1f7c912e1380263f93\", element=\"a03bce10-44e1-4485-9591-7ec8704ad80f\")>,\n",
       " <selenium.webdriver.remote.webelement.WebElement (session=\"aed927bd15d1ee1f7c912e1380263f93\", element=\"d190660f-69cb-434f-b944-ebbd3ce8244e\")>]"
      ]
     },
     "execution_count": 171,
     "metadata": {},
     "output_type": "execute_result"
    }
   ],
   "source": [
    "celulas\n"
   ]
  },
  {
   "cell_type": "code",
   "execution_count": null,
   "metadata": {},
   "outputs": [],
   "source": [
    "li:nth-child( -n + 5 ) {\n",
    "rows = driver.find_elements_by_css_selector('.listarPropostas > tr:nth-child(-n +80)')"
   ]
  },
  {
   "cell_type": "code",
   "execution_count": 158,
   "metadata": {
    "ExecuteTime": {
     "end_time": "2021-02-13T02:33:45.241371Z",
     "start_time": "2021-02-13T02:33:23.817675Z"
    }
   },
   "outputs": [
    {
     "name": "stdout",
     "output_type": "stream",
     "text": [
      "0\n",
      "1\n",
      "2\n",
      "3\n",
      "0\n",
      "1\n",
      "2\n",
      "3\n",
      "0\n",
      "1\n",
      "2\n",
      "3\n",
      "0\n",
      "1\n",
      "2\n",
      "3\n",
      "0\n",
      "1\n",
      "2\n",
      "3\n",
      "0\n",
      "1\n",
      "2\n",
      "3\n",
      "0\n",
      "1\n",
      "2\n",
      "3\n",
      "0\n",
      "1\n",
      "2\n",
      "3\n",
      "0\n",
      "1\n",
      "2\n",
      "3\n",
      "0\n",
      "1\n",
      "2\n",
      "3\n",
      "0\n",
      "1\n",
      "2\n",
      "3\n",
      "0\n",
      "1\n",
      "2\n",
      "3\n",
      "0\n",
      "1\n",
      "2\n",
      "3\n",
      "0\n",
      "1\n",
      "2\n",
      "3\n",
      "0\n",
      "1\n",
      "2\n",
      "3\n",
      "0\n",
      "1\n",
      "2\n",
      "3\n",
      "0\n",
      "1\n",
      "2\n",
      "3\n",
      "0\n",
      "1\n",
      "2\n",
      "3\n",
      "0\n",
      "1\n",
      "2\n",
      "3\n",
      "0\n",
      "1\n",
      "2\n",
      "3\n",
      "0\n",
      "1\n",
      "2\n",
      "3\n",
      "0\n",
      "1\n",
      "2\n",
      "3\n",
      "0\n",
      "1\n",
      "2\n",
      "3\n",
      "0\n",
      "1\n",
      "2\n",
      "3\n",
      "0\n",
      "1\n",
      "2\n",
      "3\n",
      "0\n",
      "1\n",
      "2\n",
      "3\n",
      "0\n",
      "1\n",
      "2\n",
      "3\n",
      "0\n",
      "1\n",
      "2\n",
      "3\n",
      "0\n",
      "1\n",
      "2\n",
      "3\n",
      "0\n",
      "1\n",
      "2\n",
      "3\n",
      "0\n",
      "1\n",
      "2\n",
      "3\n",
      "0\n",
      "1\n",
      "2\n",
      "3\n",
      "0\n",
      "1\n",
      "2\n",
      "3\n",
      "0\n",
      "1\n",
      "2\n",
      "3\n",
      "0\n",
      "1\n",
      "2\n",
      "3\n",
      "0\n",
      "1\n",
      "2\n",
      "3\n",
      "0\n",
      "1\n",
      "2\n",
      "3\n",
      "0\n",
      "1\n",
      "2\n",
      "3\n",
      "0\n",
      "1\n",
      "2\n",
      "3\n",
      "0\n",
      "1\n",
      "2\n",
      "3\n",
      "0\n",
      "1\n",
      "2\n",
      "3\n",
      "0\n",
      "1\n",
      "2\n",
      "3\n",
      "0\n",
      "1\n",
      "2\n",
      "3\n",
      "0\n",
      "1\n",
      "2\n",
      "3\n",
      "0\n",
      "1\n",
      "2\n",
      "3\n",
      "0\n",
      "1\n",
      "2\n",
      "3\n",
      "0\n",
      "1\n",
      "2\n",
      "3\n",
      "0\n",
      "1\n",
      "2\n",
      "3\n",
      "0\n",
      "1\n",
      "2\n",
      "3\n",
      "0\n",
      "1\n",
      "2\n",
      "3\n",
      "0\n",
      "1\n",
      "2\n",
      "3\n",
      "0\n",
      "1\n",
      "2\n",
      "3\n",
      "0\n",
      "1\n",
      "2\n",
      "3\n",
      "0\n",
      "1\n",
      "2\n",
      "3\n",
      "0\n",
      "1\n",
      "2\n",
      "3\n",
      "0\n",
      "1\n",
      "2\n",
      "3\n",
      "0\n",
      "1\n",
      "2\n",
      "3\n",
      "0\n",
      "1\n",
      "2\n",
      "3\n",
      "0\n",
      "1\n",
      "2\n",
      "3\n",
      "0\n",
      "1\n",
      "2\n",
      "3\n",
      "0\n",
      "1\n",
      "2\n",
      "3\n",
      "0\n",
      "1\n",
      "2\n",
      "3\n",
      "0\n",
      "1\n",
      "2\n",
      "3\n",
      "0\n",
      "1\n",
      "2\n",
      "3\n",
      "0\n",
      "1\n",
      "2\n",
      "3\n",
      "0\n",
      "1\n",
      "2\n",
      "3\n",
      "0\n",
      "1\n",
      "2\n",
      "3\n",
      "0\n",
      "1\n",
      "2\n",
      "3\n",
      "0\n",
      "1\n",
      "2\n",
      "3\n",
      "0\n",
      "1\n",
      "2\n",
      "3\n",
      "0\n",
      "1\n",
      "2\n",
      "3\n",
      "0\n",
      "1\n",
      "2\n",
      "3\n",
      "0\n",
      "1\n",
      "2\n",
      "3\n",
      "0\n",
      "1\n",
      "2\n",
      "3\n",
      "0\n",
      "1\n",
      "2\n",
      "3\n",
      "0\n",
      "1\n",
      "2\n",
      "3\n",
      "0\n",
      "1\n",
      "2\n",
      "3\n",
      "0\n",
      "1\n",
      "2\n",
      "3\n",
      "0\n",
      "1\n",
      "2\n",
      "3\n",
      "0\n",
      "1\n",
      "2\n",
      "3\n",
      "0\n",
      "1\n",
      "2\n",
      "3\n",
      "0\n",
      "1\n",
      "2\n",
      "3\n",
      "0\n",
      "1\n",
      "2\n",
      "3\n",
      "0\n",
      "1\n",
      "2\n",
      "3\n",
      "0\n",
      "1\n",
      "2\n",
      "3\n",
      "0\n",
      "1\n",
      "2\n",
      "3\n",
      "0\n",
      "1\n",
      "2\n",
      "3\n",
      "0\n",
      "1\n",
      "2\n",
      "3\n",
      "0\n",
      "1\n",
      "2\n",
      "3\n",
      "0\n",
      "1\n",
      "2\n",
      "3\n",
      "0\n",
      "1\n",
      "2\n",
      "3\n",
      "0\n",
      "1\n",
      "2\n",
      "3\n",
      "0\n",
      "1\n",
      "2\n",
      "3\n",
      "0\n",
      "1\n",
      "2\n",
      "3\n",
      "0\n",
      "1\n",
      "2\n",
      "3\n",
      "0\n",
      "1\n",
      "2\n",
      "3\n",
      "0\n",
      "1\n",
      "2\n",
      "3\n",
      "0\n",
      "1\n",
      "2\n",
      "3\n",
      "0\n",
      "1\n",
      "2\n",
      "3\n",
      "0\n",
      "1\n",
      "2\n",
      "3\n",
      "0\n",
      "1\n",
      "2\n",
      "3\n",
      "0\n",
      "1\n",
      "2\n",
      "3\n",
      "0\n",
      "1\n",
      "2\n",
      "3\n",
      "0\n",
      "1\n",
      "2\n",
      "3\n",
      "0\n",
      "1\n",
      "2\n",
      "3\n",
      "0\n",
      "1\n",
      "2\n",
      "3\n",
      "0\n",
      "1\n",
      "2\n",
      "3\n",
      "0\n",
      "1\n",
      "2\n",
      "3\n",
      "0\n",
      "1\n",
      "2\n",
      "3\n",
      "0\n",
      "1\n",
      "2\n",
      "3\n",
      "0\n",
      "1\n",
      "2\n",
      "3\n",
      "0\n",
      "1\n",
      "2\n",
      "3\n",
      "0\n",
      "1\n",
      "2\n",
      "3\n",
      "0\n",
      "1\n",
      "2\n",
      "3\n",
      "0\n",
      "1\n",
      "2\n",
      "3\n",
      "0\n",
      "1\n",
      "2\n",
      "3\n",
      "0\n",
      "1\n",
      "2\n",
      "3\n",
      "0\n",
      "1\n",
      "2\n",
      "3\n",
      "0\n",
      "1\n",
      "2\n",
      "3\n",
      "0\n",
      "1\n",
      "2\n",
      "3\n",
      "0\n",
      "1\n",
      "2\n",
      "3\n",
      "0\n",
      "1\n",
      "2\n",
      "3\n",
      "0\n",
      "1\n",
      "2\n",
      "3\n",
      "0\n",
      "1\n",
      "2\n",
      "3\n",
      "0\n",
      "1\n",
      "2\n",
      "3\n",
      "0\n",
      "1\n",
      "2\n",
      "3\n",
      "0\n",
      "1\n",
      "2\n",
      "3\n",
      "0\n",
      "1\n",
      "2\n",
      "3\n",
      "0\n",
      "1\n",
      "2\n",
      "3\n",
      "0\n",
      "1\n",
      "2\n",
      "3\n",
      "0\n",
      "1\n",
      "2\n",
      "3\n",
      "0\n",
      "1\n",
      "2\n",
      "3\n",
      "0\n",
      "1\n",
      "2\n",
      "3\n",
      "0\n",
      "1\n",
      "2\n",
      "3\n",
      "0\n",
      "1\n",
      "2\n",
      "3\n",
      "0\n",
      "1\n",
      "2\n",
      "3\n",
      "0\n",
      "1\n",
      "2\n",
      "3\n",
      "0\n",
      "1\n",
      "2\n",
      "3\n",
      "0\n",
      "1\n",
      "2\n",
      "3\n",
      "0\n",
      "1\n",
      "2\n",
      "3\n",
      "0\n",
      "1\n",
      "2\n",
      "3\n",
      "0\n",
      "1\n",
      "2\n",
      "3\n",
      "0\n",
      "1\n",
      "2\n",
      "3\n",
      "0\n",
      "1\n",
      "2\n",
      "3\n",
      "0\n",
      "1\n",
      "2\n",
      "3\n",
      "0\n",
      "1\n",
      "2\n",
      "3\n",
      "0\n",
      "1\n",
      "2\n",
      "3\n",
      "0\n",
      "1\n",
      "2\n",
      "3\n",
      "0\n",
      "1\n",
      "2\n",
      "3\n",
      "0\n",
      "1\n",
      "2\n",
      "3\n",
      "0\n",
      "1\n",
      "2\n",
      "3\n",
      "0\n",
      "1\n",
      "2\n",
      "3\n",
      "0\n",
      "1\n",
      "2\n",
      "3\n",
      "0\n",
      "1\n",
      "2\n",
      "3\n",
      "0\n",
      "1\n",
      "2\n",
      "3\n",
      "0\n",
      "1\n",
      "2\n",
      "3\n",
      "0\n",
      "1\n",
      "2\n",
      "3\n",
      "0\n",
      "1\n",
      "2\n",
      "3\n",
      "0\n",
      "1\n",
      "2\n",
      "3\n",
      "0\n",
      "1\n",
      "2\n",
      "3\n",
      "0\n",
      "1\n",
      "2\n",
      "3\n",
      "0\n",
      "1\n",
      "2\n",
      "3\n",
      "0\n",
      "1\n",
      "2\n",
      "3\n",
      "0\n",
      "1\n",
      "2\n",
      "3\n",
      "0\n",
      "1\n",
      "2\n",
      "3\n",
      "0\n",
      "1\n",
      "2\n",
      "3\n",
      "0\n",
      "1\n",
      "2\n",
      "3\n",
      "0\n",
      "1\n",
      "2\n",
      "3\n",
      "0\n",
      "1\n",
      "2\n",
      "3\n",
      "0\n",
      "1\n",
      "2\n",
      "3\n",
      "0\n",
      "1\n",
      "2\n",
      "3\n",
      "0\n",
      "1\n",
      "2\n",
      "3\n",
      "0\n",
      "1\n",
      "2\n",
      "3\n",
      "0\n",
      "1\n",
      "2\n",
      "3\n",
      "0\n",
      "1\n",
      "2\n",
      "3\n",
      "0\n",
      "1\n",
      "2\n",
      "3\n",
      "0\n",
      "1\n",
      "2\n",
      "3\n",
      "0\n",
      "1\n",
      "2\n",
      "3\n",
      "0\n",
      "1\n",
      "2\n",
      "3\n",
      "0\n",
      "1\n",
      "2\n",
      "3\n",
      "0\n",
      "1\n",
      "2\n",
      "3\n",
      "0\n",
      "1\n",
      "2\n",
      "3\n",
      "0\n",
      "1\n",
      "2\n",
      "3\n",
      "0\n",
      "1\n",
      "2\n",
      "3\n",
      "0\n",
      "1\n",
      "2\n",
      "3\n",
      "0\n",
      "1\n",
      "2\n",
      "3\n",
      "0\n",
      "1\n",
      "2\n",
      "3\n",
      "0\n",
      "1\n",
      "2\n",
      "3\n",
      "0\n",
      "1\n",
      "2\n",
      "3\n",
      "0\n",
      "1\n",
      "2\n",
      "3\n",
      "0\n",
      "1\n",
      "2\n",
      "3\n",
      "0\n",
      "1\n",
      "2\n",
      "3\n",
      "0\n",
      "1\n",
      "2\n",
      "3\n",
      "0\n",
      "1\n",
      "2\n",
      "3\n",
      "0\n",
      "1\n",
      "2\n",
      "3\n",
      "0\n",
      "1\n",
      "2\n",
      "3\n",
      "0\n",
      "1\n",
      "2\n",
      "3\n",
      "0\n",
      "1\n",
      "2\n",
      "3\n",
      "0\n",
      "1\n",
      "2\n",
      "3\n",
      "0\n",
      "1\n",
      "2\n",
      "3\n",
      "0\n",
      "1\n",
      "2\n",
      "3\n",
      "0\n",
      "1\n",
      "2\n",
      "3\n",
      "0\n",
      "1\n",
      "2\n",
      "3\n",
      "0\n",
      "1\n",
      "2\n",
      "3\n"
     ]
    },
    {
     "ename": "KeyboardInterrupt",
     "evalue": "",
     "output_type": "error",
     "traceback": [
      "\u001b[1;31m---------------------------------------------------------------------------\u001b[0m",
      "\u001b[1;31mKeyboardInterrupt\u001b[0m                         Traceback (most recent call last)",
      "\u001b[1;32m<ipython-input-158-65b63ac89ed6>\u001b[0m in \u001b[0;36m<module>\u001b[1;34m\u001b[0m\n\u001b[0;32m      2\u001b[0m \u001b[0mnota_min\u001b[0m \u001b[1;33m=\u001b[0m \u001b[1;36m0\u001b[0m\u001b[1;33m\u001b[0m\u001b[1;33m\u001b[0m\u001b[0m\n\u001b[0;32m      3\u001b[0m \u001b[1;32mfor\u001b[0m \u001b[0mrow\u001b[0m \u001b[1;32min\u001b[0m \u001b[0mtabela_\u001b[0m\u001b[1;33m.\u001b[0m\u001b[0mfind_elements_by_css_selector\u001b[0m\u001b[1;33m(\u001b[0m\u001b[1;34m'tbody tr'\u001b[0m\u001b[1;33m)\u001b[0m\u001b[1;33m:\u001b[0m\u001b[1;33m\u001b[0m\u001b[1;33m\u001b[0m\u001b[0m\n\u001b[1;32m----> 4\u001b[1;33m     \u001b[1;32mfor\u001b[0m \u001b[0mi\u001b[0m\u001b[1;33m,\u001b[0m \u001b[0mcell\u001b[0m \u001b[1;32min\u001b[0m \u001b[0menumerate\u001b[0m\u001b[1;33m(\u001b[0m\u001b[0mrow\u001b[0m\u001b[1;33m.\u001b[0m\u001b[0mfind_elements_by_tag_name\u001b[0m\u001b[1;33m(\u001b[0m\u001b[1;34m'td'\u001b[0m\u001b[1;33m)\u001b[0m\u001b[1;33m)\u001b[0m\u001b[1;33m:\u001b[0m\u001b[1;33m\u001b[0m\u001b[1;33m\u001b[0m\u001b[0m\n\u001b[0m\u001b[0;32m      5\u001b[0m         \u001b[0mprint\u001b[0m\u001b[1;33m(\u001b[0m\u001b[0mi\u001b[0m\u001b[1;33m)\u001b[0m\u001b[1;33m\u001b[0m\u001b[1;33m\u001b[0m\u001b[0m\n\u001b[0;32m      6\u001b[0m         \u001b[1;32mif\u001b[0m \u001b[1;33m(\u001b[0m\u001b[0mi\u001b[0m\u001b[1;33m==\u001b[0m\u001b[1;36m3\u001b[0m\u001b[1;33m)\u001b[0m\u001b[1;33m:\u001b[0m\u001b[1;33m\u001b[0m\u001b[1;33m\u001b[0m\u001b[0m\n",
      "\u001b[1;32m~\\anaconda3\\lib\\site-packages\\selenium\\webdriver\\remote\\webelement.py\u001b[0m in \u001b[0;36mfind_elements_by_tag_name\u001b[1;34m(self, name)\u001b[0m\n\u001b[0;32m    318\u001b[0m             \u001b[0melements\u001b[0m \u001b[1;33m=\u001b[0m \u001b[0melement\u001b[0m\u001b[1;33m.\u001b[0m\u001b[0mfind_elements_by_tag_name\u001b[0m\u001b[1;33m(\u001b[0m\u001b[1;34m'h1'\u001b[0m\u001b[1;33m)\u001b[0m\u001b[1;33m\u001b[0m\u001b[1;33m\u001b[0m\u001b[0m\n\u001b[0;32m    319\u001b[0m         \"\"\"\n\u001b[1;32m--> 320\u001b[1;33m         \u001b[1;32mreturn\u001b[0m \u001b[0mself\u001b[0m\u001b[1;33m.\u001b[0m\u001b[0mfind_elements\u001b[0m\u001b[1;33m(\u001b[0m\u001b[0mby\u001b[0m\u001b[1;33m=\u001b[0m\u001b[0mBy\u001b[0m\u001b[1;33m.\u001b[0m\u001b[0mTAG_NAME\u001b[0m\u001b[1;33m,\u001b[0m \u001b[0mvalue\u001b[0m\u001b[1;33m=\u001b[0m\u001b[0mname\u001b[0m\u001b[1;33m)\u001b[0m\u001b[1;33m\u001b[0m\u001b[1;33m\u001b[0m\u001b[0m\n\u001b[0m\u001b[0;32m    321\u001b[0m \u001b[1;33m\u001b[0m\u001b[0m\n\u001b[0;32m    322\u001b[0m     \u001b[1;32mdef\u001b[0m \u001b[0mfind_element_by_xpath\u001b[0m\u001b[1;33m(\u001b[0m\u001b[0mself\u001b[0m\u001b[1;33m,\u001b[0m \u001b[0mxpath\u001b[0m\u001b[1;33m)\u001b[0m\u001b[1;33m:\u001b[0m\u001b[1;33m\u001b[0m\u001b[1;33m\u001b[0m\u001b[0m\n",
      "\u001b[1;32m~\\anaconda3\\lib\\site-packages\\selenium\\webdriver\\remote\\webelement.py\u001b[0m in \u001b[0;36mfind_elements\u001b[1;34m(self, by, value)\u001b[0m\n\u001b[0;32m    682\u001b[0m                 \u001b[0mvalue\u001b[0m \u001b[1;33m=\u001b[0m \u001b[1;34m'[name=\"%s\"]'\u001b[0m \u001b[1;33m%\u001b[0m \u001b[0mvalue\u001b[0m\u001b[1;33m\u001b[0m\u001b[1;33m\u001b[0m\u001b[0m\n\u001b[0;32m    683\u001b[0m \u001b[1;33m\u001b[0m\u001b[0m\n\u001b[1;32m--> 684\u001b[1;33m         return self._execute(Command.FIND_CHILD_ELEMENTS,\n\u001b[0m\u001b[0;32m    685\u001b[0m                              {\"using\": by, \"value\": value})['value']\n\u001b[0;32m    686\u001b[0m \u001b[1;33m\u001b[0m\u001b[0m\n",
      "\u001b[1;32m~\\anaconda3\\lib\\site-packages\\selenium\\webdriver\\remote\\webelement.py\u001b[0m in \u001b[0;36m_execute\u001b[1;34m(self, command, params)\u001b[0m\n\u001b[0;32m    631\u001b[0m             \u001b[0mparams\u001b[0m \u001b[1;33m=\u001b[0m \u001b[1;33m{\u001b[0m\u001b[1;33m}\u001b[0m\u001b[1;33m\u001b[0m\u001b[1;33m\u001b[0m\u001b[0m\n\u001b[0;32m    632\u001b[0m         \u001b[0mparams\u001b[0m\u001b[1;33m[\u001b[0m\u001b[1;34m'id'\u001b[0m\u001b[1;33m]\u001b[0m \u001b[1;33m=\u001b[0m \u001b[0mself\u001b[0m\u001b[1;33m.\u001b[0m\u001b[0m_id\u001b[0m\u001b[1;33m\u001b[0m\u001b[1;33m\u001b[0m\u001b[0m\n\u001b[1;32m--> 633\u001b[1;33m         \u001b[1;32mreturn\u001b[0m \u001b[0mself\u001b[0m\u001b[1;33m.\u001b[0m\u001b[0m_parent\u001b[0m\u001b[1;33m.\u001b[0m\u001b[0mexecute\u001b[0m\u001b[1;33m(\u001b[0m\u001b[0mcommand\u001b[0m\u001b[1;33m,\u001b[0m \u001b[0mparams\u001b[0m\u001b[1;33m)\u001b[0m\u001b[1;33m\u001b[0m\u001b[1;33m\u001b[0m\u001b[0m\n\u001b[0m\u001b[0;32m    634\u001b[0m \u001b[1;33m\u001b[0m\u001b[0m\n\u001b[0;32m    635\u001b[0m     \u001b[1;32mdef\u001b[0m \u001b[0mfind_element\u001b[0m\u001b[1;33m(\u001b[0m\u001b[0mself\u001b[0m\u001b[1;33m,\u001b[0m \u001b[0mby\u001b[0m\u001b[1;33m=\u001b[0m\u001b[0mBy\u001b[0m\u001b[1;33m.\u001b[0m\u001b[0mID\u001b[0m\u001b[1;33m,\u001b[0m \u001b[0mvalue\u001b[0m\u001b[1;33m=\u001b[0m\u001b[1;32mNone\u001b[0m\u001b[1;33m)\u001b[0m\u001b[1;33m:\u001b[0m\u001b[1;33m\u001b[0m\u001b[1;33m\u001b[0m\u001b[0m\n",
      "\u001b[1;32m~\\anaconda3\\lib\\site-packages\\selenium\\webdriver\\remote\\webdriver.py\u001b[0m in \u001b[0;36mexecute\u001b[1;34m(self, driver_command, params)\u001b[0m\n\u001b[0;32m    317\u001b[0m \u001b[1;33m\u001b[0m\u001b[0m\n\u001b[0;32m    318\u001b[0m         \u001b[0mparams\u001b[0m \u001b[1;33m=\u001b[0m \u001b[0mself\u001b[0m\u001b[1;33m.\u001b[0m\u001b[0m_wrap_value\u001b[0m\u001b[1;33m(\u001b[0m\u001b[0mparams\u001b[0m\u001b[1;33m)\u001b[0m\u001b[1;33m\u001b[0m\u001b[1;33m\u001b[0m\u001b[0m\n\u001b[1;32m--> 319\u001b[1;33m         \u001b[0mresponse\u001b[0m \u001b[1;33m=\u001b[0m \u001b[0mself\u001b[0m\u001b[1;33m.\u001b[0m\u001b[0mcommand_executor\u001b[0m\u001b[1;33m.\u001b[0m\u001b[0mexecute\u001b[0m\u001b[1;33m(\u001b[0m\u001b[0mdriver_command\u001b[0m\u001b[1;33m,\u001b[0m \u001b[0mparams\u001b[0m\u001b[1;33m)\u001b[0m\u001b[1;33m\u001b[0m\u001b[1;33m\u001b[0m\u001b[0m\n\u001b[0m\u001b[0;32m    320\u001b[0m         \u001b[1;32mif\u001b[0m \u001b[0mresponse\u001b[0m\u001b[1;33m:\u001b[0m\u001b[1;33m\u001b[0m\u001b[1;33m\u001b[0m\u001b[0m\n\u001b[0;32m    321\u001b[0m             \u001b[0mself\u001b[0m\u001b[1;33m.\u001b[0m\u001b[0merror_handler\u001b[0m\u001b[1;33m.\u001b[0m\u001b[0mcheck_response\u001b[0m\u001b[1;33m(\u001b[0m\u001b[0mresponse\u001b[0m\u001b[1;33m)\u001b[0m\u001b[1;33m\u001b[0m\u001b[1;33m\u001b[0m\u001b[0m\n",
      "\u001b[1;32m~\\anaconda3\\lib\\site-packages\\selenium\\webdriver\\remote\\remote_connection.py\u001b[0m in \u001b[0;36mexecute\u001b[1;34m(self, command, params)\u001b[0m\n\u001b[0;32m    372\u001b[0m         \u001b[0mdata\u001b[0m \u001b[1;33m=\u001b[0m \u001b[0mutils\u001b[0m\u001b[1;33m.\u001b[0m\u001b[0mdump_json\u001b[0m\u001b[1;33m(\u001b[0m\u001b[0mparams\u001b[0m\u001b[1;33m)\u001b[0m\u001b[1;33m\u001b[0m\u001b[1;33m\u001b[0m\u001b[0m\n\u001b[0;32m    373\u001b[0m         \u001b[0murl\u001b[0m \u001b[1;33m=\u001b[0m \u001b[1;34m'%s%s'\u001b[0m \u001b[1;33m%\u001b[0m \u001b[1;33m(\u001b[0m\u001b[0mself\u001b[0m\u001b[1;33m.\u001b[0m\u001b[0m_url\u001b[0m\u001b[1;33m,\u001b[0m \u001b[0mpath\u001b[0m\u001b[1;33m)\u001b[0m\u001b[1;33m\u001b[0m\u001b[1;33m\u001b[0m\u001b[0m\n\u001b[1;32m--> 374\u001b[1;33m         \u001b[1;32mreturn\u001b[0m \u001b[0mself\u001b[0m\u001b[1;33m.\u001b[0m\u001b[0m_request\u001b[0m\u001b[1;33m(\u001b[0m\u001b[0mcommand_info\u001b[0m\u001b[1;33m[\u001b[0m\u001b[1;36m0\u001b[0m\u001b[1;33m]\u001b[0m\u001b[1;33m,\u001b[0m \u001b[0murl\u001b[0m\u001b[1;33m,\u001b[0m \u001b[0mbody\u001b[0m\u001b[1;33m=\u001b[0m\u001b[0mdata\u001b[0m\u001b[1;33m)\u001b[0m\u001b[1;33m\u001b[0m\u001b[1;33m\u001b[0m\u001b[0m\n\u001b[0m\u001b[0;32m    375\u001b[0m \u001b[1;33m\u001b[0m\u001b[0m\n\u001b[0;32m    376\u001b[0m     \u001b[1;32mdef\u001b[0m \u001b[0m_request\u001b[0m\u001b[1;33m(\u001b[0m\u001b[0mself\u001b[0m\u001b[1;33m,\u001b[0m \u001b[0mmethod\u001b[0m\u001b[1;33m,\u001b[0m \u001b[0murl\u001b[0m\u001b[1;33m,\u001b[0m \u001b[0mbody\u001b[0m\u001b[1;33m=\u001b[0m\u001b[1;32mNone\u001b[0m\u001b[1;33m)\u001b[0m\u001b[1;33m:\u001b[0m\u001b[1;33m\u001b[0m\u001b[1;33m\u001b[0m\u001b[0m\n",
      "\u001b[1;32m~\\anaconda3\\lib\\site-packages\\selenium\\webdriver\\remote\\remote_connection.py\u001b[0m in \u001b[0;36m_request\u001b[1;34m(self, method, url, body)\u001b[0m\n\u001b[0;32m    395\u001b[0m \u001b[1;33m\u001b[0m\u001b[0m\n\u001b[0;32m    396\u001b[0m         \u001b[1;32mif\u001b[0m \u001b[0mself\u001b[0m\u001b[1;33m.\u001b[0m\u001b[0mkeep_alive\u001b[0m\u001b[1;33m:\u001b[0m\u001b[1;33m\u001b[0m\u001b[1;33m\u001b[0m\u001b[0m\n\u001b[1;32m--> 397\u001b[1;33m             \u001b[0mresp\u001b[0m \u001b[1;33m=\u001b[0m \u001b[0mself\u001b[0m\u001b[1;33m.\u001b[0m\u001b[0m_conn\u001b[0m\u001b[1;33m.\u001b[0m\u001b[0mrequest\u001b[0m\u001b[1;33m(\u001b[0m\u001b[0mmethod\u001b[0m\u001b[1;33m,\u001b[0m \u001b[0murl\u001b[0m\u001b[1;33m,\u001b[0m \u001b[0mbody\u001b[0m\u001b[1;33m=\u001b[0m\u001b[0mbody\u001b[0m\u001b[1;33m,\u001b[0m \u001b[0mheaders\u001b[0m\u001b[1;33m=\u001b[0m\u001b[0mheaders\u001b[0m\u001b[1;33m)\u001b[0m\u001b[1;33m\u001b[0m\u001b[1;33m\u001b[0m\u001b[0m\n\u001b[0m\u001b[0;32m    398\u001b[0m \u001b[1;33m\u001b[0m\u001b[0m\n\u001b[0;32m    399\u001b[0m             \u001b[0mstatuscode\u001b[0m \u001b[1;33m=\u001b[0m \u001b[0mresp\u001b[0m\u001b[1;33m.\u001b[0m\u001b[0mstatus\u001b[0m\u001b[1;33m\u001b[0m\u001b[1;33m\u001b[0m\u001b[0m\n",
      "\u001b[1;32m~\\anaconda3\\lib\\site-packages\\urllib3\\request.py\u001b[0m in \u001b[0;36mrequest\u001b[1;34m(self, method, url, fields, headers, **urlopen_kw)\u001b[0m\n\u001b[0;32m     77\u001b[0m             )\n\u001b[0;32m     78\u001b[0m         \u001b[1;32melse\u001b[0m\u001b[1;33m:\u001b[0m\u001b[1;33m\u001b[0m\u001b[1;33m\u001b[0m\u001b[0m\n\u001b[1;32m---> 79\u001b[1;33m             return self.request_encode_body(\n\u001b[0m\u001b[0;32m     80\u001b[0m                 \u001b[0mmethod\u001b[0m\u001b[1;33m,\u001b[0m \u001b[0murl\u001b[0m\u001b[1;33m,\u001b[0m \u001b[0mfields\u001b[0m\u001b[1;33m=\u001b[0m\u001b[0mfields\u001b[0m\u001b[1;33m,\u001b[0m \u001b[0mheaders\u001b[0m\u001b[1;33m=\u001b[0m\u001b[0mheaders\u001b[0m\u001b[1;33m,\u001b[0m \u001b[1;33m**\u001b[0m\u001b[0murlopen_kw\u001b[0m\u001b[1;33m\u001b[0m\u001b[1;33m\u001b[0m\u001b[0m\n\u001b[0;32m     81\u001b[0m             )\n",
      "\u001b[1;32m~\\anaconda3\\lib\\site-packages\\urllib3\\request.py\u001b[0m in \u001b[0;36mrequest_encode_body\u001b[1;34m(self, method, url, fields, headers, encode_multipart, multipart_boundary, **urlopen_kw)\u001b[0m\n\u001b[0;32m    169\u001b[0m         \u001b[0mextra_kw\u001b[0m\u001b[1;33m.\u001b[0m\u001b[0mupdate\u001b[0m\u001b[1;33m(\u001b[0m\u001b[0murlopen_kw\u001b[0m\u001b[1;33m)\u001b[0m\u001b[1;33m\u001b[0m\u001b[1;33m\u001b[0m\u001b[0m\n\u001b[0;32m    170\u001b[0m \u001b[1;33m\u001b[0m\u001b[0m\n\u001b[1;32m--> 171\u001b[1;33m         \u001b[1;32mreturn\u001b[0m \u001b[0mself\u001b[0m\u001b[1;33m.\u001b[0m\u001b[0murlopen\u001b[0m\u001b[1;33m(\u001b[0m\u001b[0mmethod\u001b[0m\u001b[1;33m,\u001b[0m \u001b[0murl\u001b[0m\u001b[1;33m,\u001b[0m \u001b[1;33m**\u001b[0m\u001b[0mextra_kw\u001b[0m\u001b[1;33m)\u001b[0m\u001b[1;33m\u001b[0m\u001b[1;33m\u001b[0m\u001b[0m\n\u001b[0m",
      "\u001b[1;32m~\\anaconda3\\lib\\site-packages\\urllib3\\poolmanager.py\u001b[0m in \u001b[0;36murlopen\u001b[1;34m(self, method, url, redirect, **kw)\u001b[0m\n\u001b[0;32m    334\u001b[0m             \u001b[0mresponse\u001b[0m \u001b[1;33m=\u001b[0m \u001b[0mconn\u001b[0m\u001b[1;33m.\u001b[0m\u001b[0murlopen\u001b[0m\u001b[1;33m(\u001b[0m\u001b[0mmethod\u001b[0m\u001b[1;33m,\u001b[0m \u001b[0murl\u001b[0m\u001b[1;33m,\u001b[0m \u001b[1;33m**\u001b[0m\u001b[0mkw\u001b[0m\u001b[1;33m)\u001b[0m\u001b[1;33m\u001b[0m\u001b[1;33m\u001b[0m\u001b[0m\n\u001b[0;32m    335\u001b[0m         \u001b[1;32melse\u001b[0m\u001b[1;33m:\u001b[0m\u001b[1;33m\u001b[0m\u001b[1;33m\u001b[0m\u001b[0m\n\u001b[1;32m--> 336\u001b[1;33m             \u001b[0mresponse\u001b[0m \u001b[1;33m=\u001b[0m \u001b[0mconn\u001b[0m\u001b[1;33m.\u001b[0m\u001b[0murlopen\u001b[0m\u001b[1;33m(\u001b[0m\u001b[0mmethod\u001b[0m\u001b[1;33m,\u001b[0m \u001b[0mu\u001b[0m\u001b[1;33m.\u001b[0m\u001b[0mrequest_uri\u001b[0m\u001b[1;33m,\u001b[0m \u001b[1;33m**\u001b[0m\u001b[0mkw\u001b[0m\u001b[1;33m)\u001b[0m\u001b[1;33m\u001b[0m\u001b[1;33m\u001b[0m\u001b[0m\n\u001b[0m\u001b[0;32m    337\u001b[0m \u001b[1;33m\u001b[0m\u001b[0m\n\u001b[0;32m    338\u001b[0m         \u001b[0mredirect_location\u001b[0m \u001b[1;33m=\u001b[0m \u001b[0mredirect\u001b[0m \u001b[1;32mand\u001b[0m \u001b[0mresponse\u001b[0m\u001b[1;33m.\u001b[0m\u001b[0mget_redirect_location\u001b[0m\u001b[1;33m(\u001b[0m\u001b[1;33m)\u001b[0m\u001b[1;33m\u001b[0m\u001b[1;33m\u001b[0m\u001b[0m\n",
      "\u001b[1;32m~\\anaconda3\\lib\\site-packages\\urllib3\\connectionpool.py\u001b[0m in \u001b[0;36murlopen\u001b[1;34m(self, method, url, body, headers, retries, redirect, assert_same_host, timeout, pool_timeout, release_conn, chunked, body_pos, **response_kw)\u001b[0m\n\u001b[0;32m    668\u001b[0m \u001b[1;33m\u001b[0m\u001b[0m\n\u001b[0;32m    669\u001b[0m             \u001b[1;31m# Make the request on the httplib connection object.\u001b[0m\u001b[1;33m\u001b[0m\u001b[1;33m\u001b[0m\u001b[1;33m\u001b[0m\u001b[0m\n\u001b[1;32m--> 670\u001b[1;33m             httplib_response = self._make_request(\n\u001b[0m\u001b[0;32m    671\u001b[0m                 \u001b[0mconn\u001b[0m\u001b[1;33m,\u001b[0m\u001b[1;33m\u001b[0m\u001b[1;33m\u001b[0m\u001b[0m\n\u001b[0;32m    672\u001b[0m                 \u001b[0mmethod\u001b[0m\u001b[1;33m,\u001b[0m\u001b[1;33m\u001b[0m\u001b[1;33m\u001b[0m\u001b[0m\n",
      "\u001b[1;32m~\\anaconda3\\lib\\site-packages\\urllib3\\connectionpool.py\u001b[0m in \u001b[0;36m_make_request\u001b[1;34m(self, conn, method, url, timeout, chunked, **httplib_request_kw)\u001b[0m\n\u001b[0;32m    424\u001b[0m                     \u001b[1;31m# Python 3 (including for exceptions like SystemExit).\u001b[0m\u001b[1;33m\u001b[0m\u001b[1;33m\u001b[0m\u001b[1;33m\u001b[0m\u001b[0m\n\u001b[0;32m    425\u001b[0m                     \u001b[1;31m# Otherwise it looks like a bug in the code.\u001b[0m\u001b[1;33m\u001b[0m\u001b[1;33m\u001b[0m\u001b[1;33m\u001b[0m\u001b[0m\n\u001b[1;32m--> 426\u001b[1;33m                     \u001b[0msix\u001b[0m\u001b[1;33m.\u001b[0m\u001b[0mraise_from\u001b[0m\u001b[1;33m(\u001b[0m\u001b[0me\u001b[0m\u001b[1;33m,\u001b[0m \u001b[1;32mNone\u001b[0m\u001b[1;33m)\u001b[0m\u001b[1;33m\u001b[0m\u001b[1;33m\u001b[0m\u001b[0m\n\u001b[0m\u001b[0;32m    427\u001b[0m         \u001b[1;32mexcept\u001b[0m \u001b[1;33m(\u001b[0m\u001b[0mSocketTimeout\u001b[0m\u001b[1;33m,\u001b[0m \u001b[0mBaseSSLError\u001b[0m\u001b[1;33m,\u001b[0m \u001b[0mSocketError\u001b[0m\u001b[1;33m)\u001b[0m \u001b[1;32mas\u001b[0m \u001b[0me\u001b[0m\u001b[1;33m:\u001b[0m\u001b[1;33m\u001b[0m\u001b[1;33m\u001b[0m\u001b[0m\n\u001b[0;32m    428\u001b[0m             \u001b[0mself\u001b[0m\u001b[1;33m.\u001b[0m\u001b[0m_raise_timeout\u001b[0m\u001b[1;33m(\u001b[0m\u001b[0merr\u001b[0m\u001b[1;33m=\u001b[0m\u001b[0me\u001b[0m\u001b[1;33m,\u001b[0m \u001b[0murl\u001b[0m\u001b[1;33m=\u001b[0m\u001b[0murl\u001b[0m\u001b[1;33m,\u001b[0m \u001b[0mtimeout_value\u001b[0m\u001b[1;33m=\u001b[0m\u001b[0mread_timeout\u001b[0m\u001b[1;33m)\u001b[0m\u001b[1;33m\u001b[0m\u001b[1;33m\u001b[0m\u001b[0m\n",
      "\u001b[1;32m~\\anaconda3\\lib\\site-packages\\urllib3\\packages\\six.py\u001b[0m in \u001b[0;36mraise_from\u001b[1;34m(value, from_value)\u001b[0m\n",
      "\u001b[1;32m~\\anaconda3\\lib\\site-packages\\urllib3\\connectionpool.py\u001b[0m in \u001b[0;36m_make_request\u001b[1;34m(self, conn, method, url, timeout, chunked, **httplib_request_kw)\u001b[0m\n\u001b[0;32m    419\u001b[0m                 \u001b[1;31m# Python 3\u001b[0m\u001b[1;33m\u001b[0m\u001b[1;33m\u001b[0m\u001b[1;33m\u001b[0m\u001b[0m\n\u001b[0;32m    420\u001b[0m                 \u001b[1;32mtry\u001b[0m\u001b[1;33m:\u001b[0m\u001b[1;33m\u001b[0m\u001b[1;33m\u001b[0m\u001b[0m\n\u001b[1;32m--> 421\u001b[1;33m                     \u001b[0mhttplib_response\u001b[0m \u001b[1;33m=\u001b[0m \u001b[0mconn\u001b[0m\u001b[1;33m.\u001b[0m\u001b[0mgetresponse\u001b[0m\u001b[1;33m(\u001b[0m\u001b[1;33m)\u001b[0m\u001b[1;33m\u001b[0m\u001b[1;33m\u001b[0m\u001b[0m\n\u001b[0m\u001b[0;32m    422\u001b[0m                 \u001b[1;32mexcept\u001b[0m \u001b[0mBaseException\u001b[0m \u001b[1;32mas\u001b[0m \u001b[0me\u001b[0m\u001b[1;33m:\u001b[0m\u001b[1;33m\u001b[0m\u001b[1;33m\u001b[0m\u001b[0m\n\u001b[0;32m    423\u001b[0m                     \u001b[1;31m# Remove the TypeError from the exception chain in\u001b[0m\u001b[1;33m\u001b[0m\u001b[1;33m\u001b[0m\u001b[1;33m\u001b[0m\u001b[0m\n",
      "\u001b[1;32m~\\anaconda3\\lib\\http\\client.py\u001b[0m in \u001b[0;36mgetresponse\u001b[1;34m(self)\u001b[0m\n\u001b[0;32m   1345\u001b[0m         \u001b[1;32mtry\u001b[0m\u001b[1;33m:\u001b[0m\u001b[1;33m\u001b[0m\u001b[1;33m\u001b[0m\u001b[0m\n\u001b[0;32m   1346\u001b[0m             \u001b[1;32mtry\u001b[0m\u001b[1;33m:\u001b[0m\u001b[1;33m\u001b[0m\u001b[1;33m\u001b[0m\u001b[0m\n\u001b[1;32m-> 1347\u001b[1;33m                 \u001b[0mresponse\u001b[0m\u001b[1;33m.\u001b[0m\u001b[0mbegin\u001b[0m\u001b[1;33m(\u001b[0m\u001b[1;33m)\u001b[0m\u001b[1;33m\u001b[0m\u001b[1;33m\u001b[0m\u001b[0m\n\u001b[0m\u001b[0;32m   1348\u001b[0m             \u001b[1;32mexcept\u001b[0m \u001b[0mConnectionError\u001b[0m\u001b[1;33m:\u001b[0m\u001b[1;33m\u001b[0m\u001b[1;33m\u001b[0m\u001b[0m\n\u001b[0;32m   1349\u001b[0m                 \u001b[0mself\u001b[0m\u001b[1;33m.\u001b[0m\u001b[0mclose\u001b[0m\u001b[1;33m(\u001b[0m\u001b[1;33m)\u001b[0m\u001b[1;33m\u001b[0m\u001b[1;33m\u001b[0m\u001b[0m\n",
      "\u001b[1;32m~\\anaconda3\\lib\\http\\client.py\u001b[0m in \u001b[0;36mbegin\u001b[1;34m(self)\u001b[0m\n\u001b[0;32m    305\u001b[0m         \u001b[1;31m# read until we get a non-100 response\u001b[0m\u001b[1;33m\u001b[0m\u001b[1;33m\u001b[0m\u001b[1;33m\u001b[0m\u001b[0m\n\u001b[0;32m    306\u001b[0m         \u001b[1;32mwhile\u001b[0m \u001b[1;32mTrue\u001b[0m\u001b[1;33m:\u001b[0m\u001b[1;33m\u001b[0m\u001b[1;33m\u001b[0m\u001b[0m\n\u001b[1;32m--> 307\u001b[1;33m             \u001b[0mversion\u001b[0m\u001b[1;33m,\u001b[0m \u001b[0mstatus\u001b[0m\u001b[1;33m,\u001b[0m \u001b[0mreason\u001b[0m \u001b[1;33m=\u001b[0m \u001b[0mself\u001b[0m\u001b[1;33m.\u001b[0m\u001b[0m_read_status\u001b[0m\u001b[1;33m(\u001b[0m\u001b[1;33m)\u001b[0m\u001b[1;33m\u001b[0m\u001b[1;33m\u001b[0m\u001b[0m\n\u001b[0m\u001b[0;32m    308\u001b[0m             \u001b[1;32mif\u001b[0m \u001b[0mstatus\u001b[0m \u001b[1;33m!=\u001b[0m \u001b[0mCONTINUE\u001b[0m\u001b[1;33m:\u001b[0m\u001b[1;33m\u001b[0m\u001b[1;33m\u001b[0m\u001b[0m\n\u001b[0;32m    309\u001b[0m                 \u001b[1;32mbreak\u001b[0m\u001b[1;33m\u001b[0m\u001b[1;33m\u001b[0m\u001b[0m\n",
      "\u001b[1;32m~\\anaconda3\\lib\\http\\client.py\u001b[0m in \u001b[0;36m_read_status\u001b[1;34m(self)\u001b[0m\n\u001b[0;32m    266\u001b[0m \u001b[1;33m\u001b[0m\u001b[0m\n\u001b[0;32m    267\u001b[0m     \u001b[1;32mdef\u001b[0m \u001b[0m_read_status\u001b[0m\u001b[1;33m(\u001b[0m\u001b[0mself\u001b[0m\u001b[1;33m)\u001b[0m\u001b[1;33m:\u001b[0m\u001b[1;33m\u001b[0m\u001b[1;33m\u001b[0m\u001b[0m\n\u001b[1;32m--> 268\u001b[1;33m         \u001b[0mline\u001b[0m \u001b[1;33m=\u001b[0m \u001b[0mstr\u001b[0m\u001b[1;33m(\u001b[0m\u001b[0mself\u001b[0m\u001b[1;33m.\u001b[0m\u001b[0mfp\u001b[0m\u001b[1;33m.\u001b[0m\u001b[0mreadline\u001b[0m\u001b[1;33m(\u001b[0m\u001b[0m_MAXLINE\u001b[0m \u001b[1;33m+\u001b[0m \u001b[1;36m1\u001b[0m\u001b[1;33m)\u001b[0m\u001b[1;33m,\u001b[0m \u001b[1;34m\"iso-8859-1\"\u001b[0m\u001b[1;33m)\u001b[0m\u001b[1;33m\u001b[0m\u001b[1;33m\u001b[0m\u001b[0m\n\u001b[0m\u001b[0;32m    269\u001b[0m         \u001b[1;32mif\u001b[0m \u001b[0mlen\u001b[0m\u001b[1;33m(\u001b[0m\u001b[0mline\u001b[0m\u001b[1;33m)\u001b[0m \u001b[1;33m>\u001b[0m \u001b[0m_MAXLINE\u001b[0m\u001b[1;33m:\u001b[0m\u001b[1;33m\u001b[0m\u001b[1;33m\u001b[0m\u001b[0m\n\u001b[0;32m    270\u001b[0m             \u001b[1;32mraise\u001b[0m \u001b[0mLineTooLong\u001b[0m\u001b[1;33m(\u001b[0m\u001b[1;34m\"status line\"\u001b[0m\u001b[1;33m)\u001b[0m\u001b[1;33m\u001b[0m\u001b[1;33m\u001b[0m\u001b[0m\n",
      "\u001b[1;32m~\\anaconda3\\lib\\socket.py\u001b[0m in \u001b[0;36mreadinto\u001b[1;34m(self, b)\u001b[0m\n\u001b[0;32m    667\u001b[0m         \u001b[1;32mwhile\u001b[0m \u001b[1;32mTrue\u001b[0m\u001b[1;33m:\u001b[0m\u001b[1;33m\u001b[0m\u001b[1;33m\u001b[0m\u001b[0m\n\u001b[0;32m    668\u001b[0m             \u001b[1;32mtry\u001b[0m\u001b[1;33m:\u001b[0m\u001b[1;33m\u001b[0m\u001b[1;33m\u001b[0m\u001b[0m\n\u001b[1;32m--> 669\u001b[1;33m                 \u001b[1;32mreturn\u001b[0m \u001b[0mself\u001b[0m\u001b[1;33m.\u001b[0m\u001b[0m_sock\u001b[0m\u001b[1;33m.\u001b[0m\u001b[0mrecv_into\u001b[0m\u001b[1;33m(\u001b[0m\u001b[0mb\u001b[0m\u001b[1;33m)\u001b[0m\u001b[1;33m\u001b[0m\u001b[1;33m\u001b[0m\u001b[0m\n\u001b[0m\u001b[0;32m    670\u001b[0m             \u001b[1;32mexcept\u001b[0m \u001b[0mtimeout\u001b[0m\u001b[1;33m:\u001b[0m\u001b[1;33m\u001b[0m\u001b[1;33m\u001b[0m\u001b[0m\n\u001b[0;32m    671\u001b[0m                 \u001b[0mself\u001b[0m\u001b[1;33m.\u001b[0m\u001b[0m_timeout_occurred\u001b[0m \u001b[1;33m=\u001b[0m \u001b[1;32mTrue\u001b[0m\u001b[1;33m\u001b[0m\u001b[1;33m\u001b[0m\u001b[0m\n",
      "\u001b[1;31mKeyboardInterrupt\u001b[0m: "
     ]
    }
   ],
   "source": [
    "nota_max= 0\n",
    "nota_min = 0\n",
    "for row in tabela_.find_elements_by_css_selector('tbody tr'):\n",
    "    for i, cell in enumerate(row.find_elements_by_tag_name('td')):\n",
    "        print(i)\n",
    "        if (i==3):\n",
    "            break\n",
    "'''        if(i==0):\n",
    "            nota_min,nota_max= cell[pos_nota].text\n",
    "     \n",
    "        if(pos_situacao==i and cell.text=='CONVOCADO'):\n",
    "            nota_min =cell[pos_nota].text\n",
    "'''            "
   ]
  },
  {
   "cell_type": "code",
   "execution_count": 42,
   "metadata": {
    "ExecuteTime": {
     "end_time": "2021-02-13T19:54:57.541997Z",
     "start_time": "2021-02-13T19:54:57.532020Z"
    }
   },
   "outputs": [],
   "source": [
    "ve_periodo = 'Análise e Desenvolvimento de Sistemas (Tarde)'"
   ]
  },
  {
   "cell_type": "code",
   "execution_count": 30,
   "metadata": {
    "ExecuteTime": {
     "end_time": "2021-02-13T19:25:14.719239Z",
     "start_time": "2021-02-13T19:25:14.704236Z"
    }
   },
   "outputs": [],
   "source": [
    "ve_periodo2 = (ve_periodo.replace(\")\", \"\")).split('(')"
   ]
  },
  {
   "cell_type": "code",
   "execution_count": 25,
   "metadata": {
    "ExecuteTime": {
     "end_time": "2021-02-13T19:23:34.221946Z",
     "start_time": "2021-02-13T19:23:34.213958Z"
    }
   },
   "outputs": [
    {
     "data": {
      "text/plain": [
       "38"
      ]
     },
     "execution_count": 25,
     "metadata": {},
     "output_type": "execute_result"
    }
   ],
   "source": [
    "ve_periodo.find('(')"
   ]
  },
  {
   "cell_type": "code",
   "execution_count": 32,
   "metadata": {
    "ExecuteTime": {
     "end_time": "2021-02-13T19:25:30.753646Z",
     "start_time": "2021-02-13T19:25:30.738647Z"
    }
   },
   "outputs": [
    {
     "data": {
      "text/plain": [
       "'Tarde'"
      ]
     },
     "execution_count": 32,
     "metadata": {},
     "output_type": "execute_result"
    }
   ],
   "source": [
    "ve_periodo2[1]"
   ]
  },
  {
   "cell_type": "code",
   "execution_count": 44,
   "metadata": {
    "ExecuteTime": {
     "end_time": "2021-02-13T19:55:10.513970Z",
     "start_time": "2021-02-13T19:55:10.502973Z"
    }
   },
   "outputs": [
    {
     "data": {
      "text/plain": [
       "['Análise e Desenvolvimento de Sistemas ', 'Tarde']"
      ]
     },
     "execution_count": 44,
     "metadata": {},
     "output_type": "execute_result"
    }
   ],
   "source": [
    "curso_periodo(ve_periodo)"
   ]
  },
  {
   "cell_type": "code",
   "execution_count": 151,
   "metadata": {
    "ExecuteTime": {
     "end_time": "2021-02-14T01:29:53.894826Z",
     "start_time": "2021-02-14T01:29:47.455370Z"
    }
   },
   "outputs": [],
   "source": [
    "demanda_por_curso = webdriver.Chrome()\n",
    "demanda_por_curso.get(\"https://www.vestibularfatec.com.br/demanda/\")"
   ]
  },
  {
   "cell_type": "code",
   "execution_count": 80,
   "metadata": {
    "ExecuteTime": {
     "end_time": "2021-02-13T21:40:29.947346Z",
     "start_time": "2021-02-13T21:40:29.912350Z"
    }
   },
   "outputs": [],
   "source": [
    "select_ano_sem =demanda_por_curso.find_element_by_name('ano-sem')"
   ]
  },
  {
   "cell_type": "code",
   "execution_count": 81,
   "metadata": {
    "ExecuteTime": {
     "end_time": "2021-02-13T21:40:40.463521Z",
     "start_time": "2021-02-13T21:40:40.429525Z"
    }
   },
   "outputs": [],
   "source": [
    "todos_anos_sem=select_ano_sem.find_elements_by_tag_name(\"option\")"
   ]
  },
  {
   "cell_type": "code",
   "execution_count": null,
   "metadata": {
    "ExecuteTime": {
     "end_time": "2021-02-13T21:43:10.747808Z",
     "start_time": "2021-02-13T21:43:10.684809Z"
    }
   },
   "outputs": [],
   "source": [
    "\n"
   ]
  },
  {
   "cell_type": "code",
   "execution_count": 82,
   "metadata": {
    "ExecuteTime": {
     "end_time": "2021-02-13T21:40:44.347430Z",
     "start_time": "2021-02-13T21:40:42.988897Z"
    }
   },
   "outputs": [
    {
     "name": "stdout",
     "output_type": "stream",
     "text": [
      "Value is: Selecione...\n",
      "Value is: 20211\n",
      "Value is: 20202\n",
      "Value is: 20201\n",
      "Value is: 20192\n",
      "Value is: 20191\n",
      "Value is: 20182\n",
      "Value is: 20181\n",
      "Value is: 20172\n",
      "Value is: 20171\n",
      "Value is: 20162\n",
      "Value is: 20161\n",
      "Value is: 20152\n",
      "Value is: 20151\n",
      "Value is: 20142\n",
      "Value is: 20141\n",
      "Value is: 20132\n",
      "Value is: 20131\n",
      "Value is: 20122\n",
      "Value is: 20121\n",
      "Value is: 20112\n",
      "Value is: 20111\n",
      "Value is: 20102\n",
      "Value is: 20101\n",
      "Value is: 20092\n",
      "Value is: 20091\n",
      "Value is: 20082\n",
      "Value is: 20081\n",
      "Value is: 20072\n",
      "Value is: 20071\n"
     ]
    }
   ],
   "source": [
    "for option in todos_anos_sem:\n",
    "    print(\"Value is: %s\" % option.get_attribute(\"value\"))\n",
    "    option.click()"
   ]
  },
  {
   "cell_type": "code",
   "execution_count": 84,
   "metadata": {
    "ExecuteTime": {
     "end_time": "2021-02-13T21:41:30.860768Z",
     "start_time": "2021-02-13T21:41:30.806774Z"
    }
   },
   "outputs": [],
   "source": [
    "todos_anos_sem[1].click()"
   ]
  },
  {
   "cell_type": "code",
   "execution_count": 87,
   "metadata": {
    "ExecuteTime": {
     "end_time": "2021-02-13T21:59:52.141208Z",
     "start_time": "2021-02-13T21:59:52.046210Z"
    }
   },
   "outputs": [],
   "source": []
  },
  {
   "cell_type": "code",
   "execution_count": 152,
   "metadata": {
    "ExecuteTime": {
     "end_time": "2021-02-14T01:30:04.213984Z",
     "start_time": "2021-02-14T01:30:03.084254Z"
    }
   },
   "outputs": [],
   "source": [
    "selectOptionsAnoSem = Select(demanda_por_curso.find_element_by_name('ano-sem'))\n",
    "selectOptionsAnoSem.select_by_value('20211') #informar o ano e semestre que quer capturar.\n",
    "frmdemanda = demanda_por_curso.find_element_by_id(\"formDemanda\")\n",
    "frmdemanda.find_element_by_css_selector('button.btn'). submit()\n",
    "\n",
    "\n",
    "\n"
   ]
  },
  {
   "cell_type": "code",
   "execution_count": 153,
   "metadata": {
    "ExecuteTime": {
     "end_time": "2021-02-14T01:30:20.608809Z",
     "start_time": "2021-02-14T01:30:15.283736Z"
    }
   },
   "outputs": [
    {
     "data": {
      "text/html": [
       "<div>\n",
       "<style scoped>\n",
       "    .dataframe tbody tr th:only-of-type {\n",
       "        vertical-align: middle;\n",
       "    }\n",
       "\n",
       "    .dataframe tbody tr th {\n",
       "        vertical-align: top;\n",
       "    }\n",
       "\n",
       "    .dataframe thead th {\n",
       "        text-align: right;\n",
       "    }\n",
       "</style>\n",
       "<table border=\"1\" class=\"dataframe\">\n",
       "  <thead>\n",
       "    <tr style=\"text-align: right;\">\n",
       "      <th></th>\n",
       "      <th>id</th>\n",
       "      <th>fatec</th>\n",
       "    </tr>\n",
       "  </thead>\n",
       "  <tbody>\n",
       "    <tr>\n",
       "      <th>0</th>\n",
       "      <td>1</td>\n",
       "      <td>Fatec Adamantina</td>\n",
       "    </tr>\n",
       "    <tr>\n",
       "      <th>1</th>\n",
       "      <td>2</td>\n",
       "      <td>Fatec Americana - Ministro Ralph Biasi</td>\n",
       "    </tr>\n",
       "    <tr>\n",
       "      <th>2</th>\n",
       "      <td>3</td>\n",
       "      <td>Fatec Araçatuba - Prof. Fernando Amaral de Alm...</td>\n",
       "    </tr>\n",
       "    <tr>\n",
       "      <th>3</th>\n",
       "      <td>4</td>\n",
       "      <td>Fatec Araraquara</td>\n",
       "    </tr>\n",
       "    <tr>\n",
       "      <th>4</th>\n",
       "      <td>5</td>\n",
       "      <td>Fatec Araras</td>\n",
       "    </tr>\n",
       "  </tbody>\n",
       "</table>\n",
       "</div>"
      ],
      "text/plain": [
       "   id                                              fatec\n",
       "0   1                                   Fatec Adamantina\n",
       "1   2             Fatec Americana - Ministro Ralph Biasi\n",
       "2   3  Fatec Araçatuba - Prof. Fernando Amaral de Alm...\n",
       "3   4                                   Fatec Araraquara\n",
       "4   5                                       Fatec Araras"
      ]
     },
     "execution_count": 153,
     "metadata": {},
     "output_type": "execute_result"
    }
   ],
   "source": [
    "selectFatecsDemanda = Select(demanda_por_curso.find_element_by_id('FATEC'))\n",
    "listaFatecsDemanda = criarDicionario(selectFatecsDemanda,['id','fatec'])\n",
    "dfFatecDemanda = criarDataFrame(listaFatecsDemanda)\n",
    "resydfFatecDemanda.head()"
   ]
  },
  {
   "cell_type": "code",
   "execution_count": 154,
   "metadata": {
    "ExecuteTime": {
     "end_time": "2021-02-14T01:30:26.924347Z",
     "start_time": "2021-02-14T01:30:24.950240Z"
    }
   },
   "outputs": [
    {
     "name": "stderr",
     "output_type": "stream",
     "text": [
      "\r",
      "  0%|          | 0/1 [00:00<?, ?it/s]"
     ]
    },
    {
     "name": "stdout",
     "output_type": "stream",
     "text": [
      "Fatec Adamantina - 1\n",
      "Ciência de Dados 0\n",
      "Noite 1\n",
      "68 2\n",
      "35 3\n",
      "1,94 4\n",
      "Gestão Comercial 5\n",
      "Noite 6\n",
      "92 7\n",
      "35 8\n",
      "2,63 9\n"
     ]
    },
    {
     "name": "stderr",
     "output_type": "stream",
     "text": [
      "100%|██████████| 1/1 [00:01<00:00,  1.95s/it]\n"
     ]
    }
   ],
   "source": [
    "armazenando_resultado_demanda=[]\n",
    "for i in tqdm(range(len (dfFatecDemanda.head(1)))):\n",
    "    parcial_demanda = {}\n",
    "    id_ = dfFatecDemanda.loc[i,'id']\n",
    "    fatec_ = dfFatecDemanda.loc[i,'fatec']\n",
    "    selectFatecs = Select(demanda_por_curso.find_element_by_id('FATEC'))\n",
    "    selectFatecs.select_by_visible_text(fatec_)\n",
    "    print(f'{fatec_} - {i+1}')\n",
    "\n",
    "    demanda_por_curso.find_element_by_css_selector('button.btn'). submit()  \n",
    "    \n",
    "    tabela_demanda = demanda_por_curso.find_element_by_css_selector('table.table')\n",
    "    results=[]\n",
    "    for count,cell in enumerate(tabela_demanda.find_elements_by_css_selector('tbody td')):\n",
    "        \n",
    "        results.append(cell)\n",
    "        print(cell.text,count)    \n",
    "    time.sleep(1)\n",
    "    x = {'fatec':fatec_,'demanda'result:results}\n",
    "\n",
    "    #demanda_por_curso.back()\n",
    "\n"
   ]
  },
  {
   "cell_type": "code",
   "execution_count": 128,
   "metadata": {
    "ExecuteTime": {
     "end_time": "2021-02-14T01:19:56.162974Z",
     "start_time": "2021-02-14T01:19:43.448266Z"
    }
   },
   "outputs": [
    {
     "ename": "WebDriverException",
     "evalue": "Message: chrome not reachable\n  (Session info: chrome=88.0.4324.150)\n",
     "output_type": "error",
     "traceback": [
      "\u001b[1;31m---------------------------------------------------------------------------\u001b[0m",
      "\u001b[1;31mWebDriverException\u001b[0m                        Traceback (most recent call last)",
      "\u001b[1;32m<ipython-input-128-ddd652fca6a8>\u001b[0m in \u001b[0;36m<module>\u001b[1;34m\u001b[0m\n\u001b[1;32m----> 1\u001b[1;33m \u001b[0mtabela_demanda\u001b[0m \u001b[1;33m=\u001b[0m\u001b[0mdemanda_por_curso\u001b[0m\u001b[1;33m.\u001b[0m\u001b[0mfind_element_by_css_selector\u001b[0m\u001b[1;33m(\u001b[0m\u001b[1;34m'table.table'\u001b[0m\u001b[1;33m)\u001b[0m\u001b[1;33m\u001b[0m\u001b[1;33m\u001b[0m\u001b[0m\n\u001b[0m\u001b[0;32m      2\u001b[0m \u001b[1;32mfor\u001b[0m \u001b[0mcount\u001b[0m\u001b[1;33m,\u001b[0m\u001b[0mcell\u001b[0m \u001b[1;32min\u001b[0m \u001b[0menumerate\u001b[0m\u001b[1;33m(\u001b[0m\u001b[0mtabela_demanda\u001b[0m\u001b[1;33m.\u001b[0m\u001b[0mfind_elements_by_css_selector\u001b[0m\u001b[1;33m(\u001b[0m\u001b[1;34m'thead th'\u001b[0m\u001b[1;33m)\u001b[0m\u001b[1;33m)\u001b[0m\u001b[1;33m:\u001b[0m\u001b[1;33m\u001b[0m\u001b[1;33m\u001b[0m\u001b[0m\n\u001b[0;32m      3\u001b[0m     \u001b[0mprint\u001b[0m\u001b[1;33m(\u001b[0m\u001b[0mcell\u001b[0m\u001b[1;33m.\u001b[0m\u001b[0mtext\u001b[0m\u001b[1;33m,\u001b[0m\u001b[0mcount\u001b[0m\u001b[1;33m)\u001b[0m\u001b[1;33m\u001b[0m\u001b[1;33m\u001b[0m\u001b[0m\n\u001b[0;32m      4\u001b[0m \u001b[1;33m\u001b[0m\u001b[0m\n",
      "\u001b[1;32m~\\anaconda3\\lib\\site-packages\\selenium\\webdriver\\remote\\webdriver.py\u001b[0m in \u001b[0;36mfind_element_by_css_selector\u001b[1;34m(self, css_selector)\u001b[0m\n\u001b[0;32m    596\u001b[0m             \u001b[0melement\u001b[0m \u001b[1;33m=\u001b[0m \u001b[0mdriver\u001b[0m\u001b[1;33m.\u001b[0m\u001b[0mfind_element_by_css_selector\u001b[0m\u001b[1;33m(\u001b[0m\u001b[1;34m'#foo'\u001b[0m\u001b[1;33m)\u001b[0m\u001b[1;33m\u001b[0m\u001b[1;33m\u001b[0m\u001b[0m\n\u001b[0;32m    597\u001b[0m         \"\"\"\n\u001b[1;32m--> 598\u001b[1;33m         \u001b[1;32mreturn\u001b[0m \u001b[0mself\u001b[0m\u001b[1;33m.\u001b[0m\u001b[0mfind_element\u001b[0m\u001b[1;33m(\u001b[0m\u001b[0mby\u001b[0m\u001b[1;33m=\u001b[0m\u001b[0mBy\u001b[0m\u001b[1;33m.\u001b[0m\u001b[0mCSS_SELECTOR\u001b[0m\u001b[1;33m,\u001b[0m \u001b[0mvalue\u001b[0m\u001b[1;33m=\u001b[0m\u001b[0mcss_selector\u001b[0m\u001b[1;33m)\u001b[0m\u001b[1;33m\u001b[0m\u001b[1;33m\u001b[0m\u001b[0m\n\u001b[0m\u001b[0;32m    599\u001b[0m \u001b[1;33m\u001b[0m\u001b[0m\n\u001b[0;32m    600\u001b[0m     \u001b[1;32mdef\u001b[0m \u001b[0mfind_elements_by_css_selector\u001b[0m\u001b[1;33m(\u001b[0m\u001b[0mself\u001b[0m\u001b[1;33m,\u001b[0m \u001b[0mcss_selector\u001b[0m\u001b[1;33m)\u001b[0m\u001b[1;33m:\u001b[0m\u001b[1;33m\u001b[0m\u001b[1;33m\u001b[0m\u001b[0m\n",
      "\u001b[1;32m~\\anaconda3\\lib\\site-packages\\selenium\\webdriver\\remote\\webdriver.py\u001b[0m in \u001b[0;36mfind_element\u001b[1;34m(self, by, value)\u001b[0m\n\u001b[0;32m    974\u001b[0m                 \u001b[0mby\u001b[0m \u001b[1;33m=\u001b[0m \u001b[0mBy\u001b[0m\u001b[1;33m.\u001b[0m\u001b[0mCSS_SELECTOR\u001b[0m\u001b[1;33m\u001b[0m\u001b[1;33m\u001b[0m\u001b[0m\n\u001b[0;32m    975\u001b[0m                 \u001b[0mvalue\u001b[0m \u001b[1;33m=\u001b[0m \u001b[1;34m'[name=\"%s\"]'\u001b[0m \u001b[1;33m%\u001b[0m \u001b[0mvalue\u001b[0m\u001b[1;33m\u001b[0m\u001b[1;33m\u001b[0m\u001b[0m\n\u001b[1;32m--> 976\u001b[1;33m         return self.execute(Command.FIND_ELEMENT, {\n\u001b[0m\u001b[0;32m    977\u001b[0m             \u001b[1;34m'using'\u001b[0m\u001b[1;33m:\u001b[0m \u001b[0mby\u001b[0m\u001b[1;33m,\u001b[0m\u001b[1;33m\u001b[0m\u001b[1;33m\u001b[0m\u001b[0m\n\u001b[0;32m    978\u001b[0m             'value': value})['value']\n",
      "\u001b[1;32m~\\anaconda3\\lib\\site-packages\\selenium\\webdriver\\remote\\webdriver.py\u001b[0m in \u001b[0;36mexecute\u001b[1;34m(self, driver_command, params)\u001b[0m\n\u001b[0;32m    319\u001b[0m         \u001b[0mresponse\u001b[0m \u001b[1;33m=\u001b[0m \u001b[0mself\u001b[0m\u001b[1;33m.\u001b[0m\u001b[0mcommand_executor\u001b[0m\u001b[1;33m.\u001b[0m\u001b[0mexecute\u001b[0m\u001b[1;33m(\u001b[0m\u001b[0mdriver_command\u001b[0m\u001b[1;33m,\u001b[0m \u001b[0mparams\u001b[0m\u001b[1;33m)\u001b[0m\u001b[1;33m\u001b[0m\u001b[1;33m\u001b[0m\u001b[0m\n\u001b[0;32m    320\u001b[0m         \u001b[1;32mif\u001b[0m \u001b[0mresponse\u001b[0m\u001b[1;33m:\u001b[0m\u001b[1;33m\u001b[0m\u001b[1;33m\u001b[0m\u001b[0m\n\u001b[1;32m--> 321\u001b[1;33m             \u001b[0mself\u001b[0m\u001b[1;33m.\u001b[0m\u001b[0merror_handler\u001b[0m\u001b[1;33m.\u001b[0m\u001b[0mcheck_response\u001b[0m\u001b[1;33m(\u001b[0m\u001b[0mresponse\u001b[0m\u001b[1;33m)\u001b[0m\u001b[1;33m\u001b[0m\u001b[1;33m\u001b[0m\u001b[0m\n\u001b[0m\u001b[0;32m    322\u001b[0m             response['value'] = self._unwrap_value(\n\u001b[0;32m    323\u001b[0m                 response.get('value', None))\n",
      "\u001b[1;32m~\\anaconda3\\lib\\site-packages\\selenium\\webdriver\\remote\\errorhandler.py\u001b[0m in \u001b[0;36mcheck_response\u001b[1;34m(self, response)\u001b[0m\n\u001b[0;32m    240\u001b[0m                 \u001b[0malert_text\u001b[0m \u001b[1;33m=\u001b[0m \u001b[0mvalue\u001b[0m\u001b[1;33m[\u001b[0m\u001b[1;34m'alert'\u001b[0m\u001b[1;33m]\u001b[0m\u001b[1;33m.\u001b[0m\u001b[0mget\u001b[0m\u001b[1;33m(\u001b[0m\u001b[1;34m'text'\u001b[0m\u001b[1;33m)\u001b[0m\u001b[1;33m\u001b[0m\u001b[1;33m\u001b[0m\u001b[0m\n\u001b[0;32m    241\u001b[0m             \u001b[1;32mraise\u001b[0m \u001b[0mexception_class\u001b[0m\u001b[1;33m(\u001b[0m\u001b[0mmessage\u001b[0m\u001b[1;33m,\u001b[0m \u001b[0mscreen\u001b[0m\u001b[1;33m,\u001b[0m \u001b[0mstacktrace\u001b[0m\u001b[1;33m,\u001b[0m \u001b[0malert_text\u001b[0m\u001b[1;33m)\u001b[0m\u001b[1;33m\u001b[0m\u001b[1;33m\u001b[0m\u001b[0m\n\u001b[1;32m--> 242\u001b[1;33m         \u001b[1;32mraise\u001b[0m \u001b[0mexception_class\u001b[0m\u001b[1;33m(\u001b[0m\u001b[0mmessage\u001b[0m\u001b[1;33m,\u001b[0m \u001b[0mscreen\u001b[0m\u001b[1;33m,\u001b[0m \u001b[0mstacktrace\u001b[0m\u001b[1;33m)\u001b[0m\u001b[1;33m\u001b[0m\u001b[1;33m\u001b[0m\u001b[0m\n\u001b[0m\u001b[0;32m    243\u001b[0m \u001b[1;33m\u001b[0m\u001b[0m\n\u001b[0;32m    244\u001b[0m     \u001b[1;32mdef\u001b[0m \u001b[0m_value_or_default\u001b[0m\u001b[1;33m(\u001b[0m\u001b[0mself\u001b[0m\u001b[1;33m,\u001b[0m \u001b[0mobj\u001b[0m\u001b[1;33m,\u001b[0m \u001b[0mkey\u001b[0m\u001b[1;33m,\u001b[0m \u001b[0mdefault\u001b[0m\u001b[1;33m)\u001b[0m\u001b[1;33m:\u001b[0m\u001b[1;33m\u001b[0m\u001b[1;33m\u001b[0m\u001b[0m\n",
      "\u001b[1;31mWebDriverException\u001b[0m: Message: chrome not reachable\n  (Session info: chrome=88.0.4324.150)\n"
     ]
    }
   ],
   "source": [
    "\n",
    "\n"
   ]
  },
  {
   "cell_type": "code",
   "execution_count": 135,
   "metadata": {
    "ExecuteTime": {
     "end_time": "2021-02-14T01:23:21.121202Z",
     "start_time": "2021-02-14T01:23:12.542220Z"
    }
   },
   "outputs": [],
   "source": []
  },
  {
   "cell_type": "code",
   "execution_count": null,
   "metadata": {},
   "outputs": [],
   "source": []
  }
 ],
 "metadata": {
  "kernelspec": {
   "display_name": "Python 3",
   "language": "python",
   "name": "python3"
  },
  "language_info": {
   "codemirror_mode": {
    "name": "ipython",
    "version": 3
   },
   "file_extension": ".py",
   "mimetype": "text/x-python",
   "name": "python",
   "nbconvert_exporter": "python",
   "pygments_lexer": "ipython3",
   "version": "3.8.5"
  },
  "toc": {
   "base_numbering": 1,
   "nav_menu": {},
   "number_sections": true,
   "sideBar": true,
   "skip_h1_title": false,
   "title_cell": "Table of Contents",
   "title_sidebar": "Contents",
   "toc_cell": false,
   "toc_position": {},
   "toc_section_display": true,
   "toc_window_display": false
  }
 },
 "nbformat": 4,
 "nbformat_minor": 4
}
